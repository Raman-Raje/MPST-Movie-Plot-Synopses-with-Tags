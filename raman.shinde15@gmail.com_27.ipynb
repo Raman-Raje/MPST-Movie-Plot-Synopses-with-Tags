{
 "cells": [
  {
   "cell_type": "markdown",
   "metadata": {
    "colab_type": "text",
    "id": "qlnFiPtfO2Ok"
   },
   "source": [
    "# Case Study -  MPST: Movie Plot Synopses with Tags"
   ]
  },
  {
   "cell_type": "markdown",
   "metadata": {
    "colab_type": "text",
    "id": "s9KJ2OXhOvjL"
   },
   "source": [
    "### About Dataset:\n",
    "=======================\n",
    "\n",
    "Dataset contains IMDB id, title, plot synopsis, tags for the movies. \n",
    "\n",
    "There are 14,828 movies' data in total. \n",
    "\n",
    "The split column indicates where the data instance resides in the Train/Dev/Test split.\n"
   ]
  },
  {
   "cell_type": "code",
   "execution_count": 1,
   "metadata": {
    "colab": {},
    "colab_type": "code",
    "id": "la8eT1r4O2Ol"
   },
   "outputs": [],
   "source": [
    "# importing all necessary modules\n",
    "%matplotlib inline\n",
    "import warnings\n",
    "warnings.filterwarnings(\"ignore\")\n",
    "\n",
    "import pandas as pd\n",
    "import numpy as np\n",
    "import matplotlib.pyplot as plt\n",
    "import seaborn as sns\n",
    "from pickle import load,dump\n",
    "\n",
    "import re\n",
    "# Tutorial about Python regular expressions: https://pymotw.com/2/re/\n",
    "import string\n",
    "from nltk.corpus import stopwords\n",
    "from nltk.stem import PorterStemmer\n",
    "from nltk.stem.wordnet import WordNetLemmatizer\n",
    "\n",
    "from collections import Counter\n",
    "from tqdm import tqdm\n",
    "import os\n",
    "from wordcloud import WordCloud, STOPWORDS \n",
    "\n",
    "from sklearn import metrics\n",
    "from sklearn.multiclass import OneVsRestClassifier\n",
    "from sklearn.metrics import f1_score,precision_score,recall_score\n",
    "from sklearn.feature_extraction.text import TfidfTransformer\n",
    "from sklearn.feature_extraction.text import TfidfVectorizer\n",
    "from sklearn.model_selection import train_test_split\n",
    "from sklearn.feature_extraction.text import CountVectorizer\n",
    "from sklearn.metrics import confusion_matrix\n",
    "from sklearn import metrics\n",
    "pd.set_option('display.max_colwidth', 300)\n",
    "\n",
    "\n",
    "from skmultilearn.problem_transform import BinaryRelevance\n",
    "#from sklearn.model_selection import GridSearchCV\n",
    "# using module hypopt for grid search hyper-parameter optimization using a validation set\n",
    "from hypopt import GridSearch\n",
    "from sklearn.svm import SVC\n",
    "from sklearn.linear_model import SGDClassifier"
   ]
  },
  {
   "cell_type": "code",
   "execution_count": 2,
   "metadata": {
    "colab": {
     "base_uri": "https://localhost:8080/",
     "height": 309
    },
    "colab_type": "code",
    "id": "5NmVOkvLO2Op",
    "outputId": "0d789e23-a724-4a6d-e7c4-3b1e2ebcb269"
   },
   "outputs": [
    {
     "data": {
      "text/html": [
       "<div>\n",
       "<style scoped>\n",
       "    .dataframe tbody tr th:only-of-type {\n",
       "        vertical-align: middle;\n",
       "    }\n",
       "\n",
       "    .dataframe tbody tr th {\n",
       "        vertical-align: top;\n",
       "    }\n",
       "\n",
       "    .dataframe thead th {\n",
       "        text-align: right;\n",
       "    }\n",
       "</style>\n",
       "<table border=\"1\" class=\"dataframe\">\n",
       "  <thead>\n",
       "    <tr style=\"text-align: right;\">\n",
       "      <th></th>\n",
       "      <th>imdb_id</th>\n",
       "      <th>title</th>\n",
       "      <th>plot_synopsis</th>\n",
       "      <th>tags</th>\n",
       "      <th>split</th>\n",
       "      <th>synopsis_source</th>\n",
       "    </tr>\n",
       "  </thead>\n",
       "  <tbody>\n",
       "    <tr>\n",
       "      <th>0</th>\n",
       "      <td>tt0057603</td>\n",
       "      <td>I tre volti della paura</td>\n",
       "      <td>Note: this synopsis is for the orginal Italian release with the segments in this certain order.Boris Karloff introduces three horror tales of the macabre and the supernatural known as the 'Three Faces of Fear'.THE TELEPHONERosy (Michele Mercier) is an attractive, high-priced Parisian call-girl w...</td>\n",
       "      <td>cult, horror, gothic, murder, atmospheric</td>\n",
       "      <td>train</td>\n",
       "      <td>imdb</td>\n",
       "    </tr>\n",
       "    <tr>\n",
       "      <th>1</th>\n",
       "      <td>tt1733125</td>\n",
       "      <td>Dungeons &amp; Dragons: The Book of Vile Darkness</td>\n",
       "      <td>Two thousand years ago, Nhagruul the Foul, a sorcerer who reveled in corrupting the innocent and the spread of despair, neared the end of his mortal days and was dismayed. Consumed by hatred for the living, Nhagruul sold his soul to the demon Lords of the abyss so that his malign spirit would su...</td>\n",
       "      <td>violence</td>\n",
       "      <td>train</td>\n",
       "      <td>imdb</td>\n",
       "    </tr>\n",
       "    <tr>\n",
       "      <th>2</th>\n",
       "      <td>tt0033045</td>\n",
       "      <td>The Shop Around the Corner</td>\n",
       "      <td>Matuschek's, a gift store in Budapest, is the workplace of Alfred Kralik (James Stewart) and the newly hi Ed\\nKlara Novak (Margaret Sullavan). At work they constantly irritate each other, but this daily aggravation is tempered by the fact that each has a secret pen pal with which they trade long...</td>\n",
       "      <td>romantic</td>\n",
       "      <td>test</td>\n",
       "      <td>imdb</td>\n",
       "    </tr>\n",
       "    <tr>\n",
       "      <th>3</th>\n",
       "      <td>tt0113862</td>\n",
       "      <td>Mr. Holland's Opus</td>\n",
       "      <td>Glenn Holland, not a morning person by anyone's standards, is woken up by his wife Iris early one bright September morning in 1964. Glenn has taken a job as a music teacher at the newly renamed John F. Kennedy High School. He intends his job to be a sabbatical from being a touring musician, duri...</td>\n",
       "      <td>inspiring, romantic, stupid, feel-good</td>\n",
       "      <td>train</td>\n",
       "      <td>imdb</td>\n",
       "    </tr>\n",
       "    <tr>\n",
       "      <th>4</th>\n",
       "      <td>tt0086250</td>\n",
       "      <td>Scarface</td>\n",
       "      <td>In May 1980, a Cuban man named Tony Montana (Al Pacino) claims asylum, in Florida, USA, and is in search of the \"American Dream\" after departing Cuba in the Mariel boatlift of 1980. When questioned by three tough-talking INS officials, they notice a tattoo on Tony's left arm of a black heart wit...</td>\n",
       "      <td>cruelty, murder, dramatic, cult, violence, atmospheric, action, romantic, revenge, sadist</td>\n",
       "      <td>val</td>\n",
       "      <td>imdb</td>\n",
       "    </tr>\n",
       "  </tbody>\n",
       "</table>\n",
       "</div>"
      ],
      "text/plain": [
       "     imdb_id                                          title  \\\n",
       "0  tt0057603                        I tre volti della paura   \n",
       "1  tt1733125  Dungeons & Dragons: The Book of Vile Darkness   \n",
       "2  tt0033045                     The Shop Around the Corner   \n",
       "3  tt0113862                             Mr. Holland's Opus   \n",
       "4  tt0086250                                       Scarface   \n",
       "\n",
       "                                                                                                                                                                                                                                                                                                 plot_synopsis  \\\n",
       "0  Note: this synopsis is for the orginal Italian release with the segments in this certain order.Boris Karloff introduces three horror tales of the macabre and the supernatural known as the 'Three Faces of Fear'.THE TELEPHONERosy (Michele Mercier) is an attractive, high-priced Parisian call-girl w...   \n",
       "1  Two thousand years ago, Nhagruul the Foul, a sorcerer who reveled in corrupting the innocent and the spread of despair, neared the end of his mortal days and was dismayed. Consumed by hatred for the living, Nhagruul sold his soul to the demon Lords of the abyss so that his malign spirit would su...   \n",
       "2  Matuschek's, a gift store in Budapest, is the workplace of Alfred Kralik (James Stewart) and the newly hi Ed\\nKlara Novak (Margaret Sullavan). At work they constantly irritate each other, but this daily aggravation is tempered by the fact that each has a secret pen pal with which they trade long...   \n",
       "3  Glenn Holland, not a morning person by anyone's standards, is woken up by his wife Iris early one bright September morning in 1964. Glenn has taken a job as a music teacher at the newly renamed John F. Kennedy High School. He intends his job to be a sabbatical from being a touring musician, duri...   \n",
       "4  In May 1980, a Cuban man named Tony Montana (Al Pacino) claims asylum, in Florida, USA, and is in search of the \"American Dream\" after departing Cuba in the Mariel boatlift of 1980. When questioned by three tough-talking INS officials, they notice a tattoo on Tony's left arm of a black heart wit...   \n",
       "\n",
       "                                                                                        tags  \\\n",
       "0                                                  cult, horror, gothic, murder, atmospheric   \n",
       "1                                                                                   violence   \n",
       "2                                                                                   romantic   \n",
       "3                                                     inspiring, romantic, stupid, feel-good   \n",
       "4  cruelty, murder, dramatic, cult, violence, atmospheric, action, romantic, revenge, sadist   \n",
       "\n",
       "   split synopsis_source  \n",
       "0  train            imdb  \n",
       "1  train            imdb  \n",
       "2   test            imdb  \n",
       "3  train            imdb  \n",
       "4    val            imdb  "
      ]
     },
     "execution_count": 2,
     "metadata": {},
     "output_type": "execute_result"
    }
   ],
   "source": [
    "df = pd.read_csv(\"mpst_full_data.csv\")\n",
    "df.head()"
   ]
  },
  {
   "cell_type": "code",
   "execution_count": 3,
   "metadata": {
    "colab": {
     "base_uri": "https://localhost:8080/",
     "height": 34
    },
    "colab_type": "code",
    "id": "mGRHfAK5O2Ov",
    "outputId": "8cdeb702-469a-4cb7-e10e-0b762bd10124"
   },
   "outputs": [
    {
     "name": "stdout",
     "output_type": "stream",
     "text": [
      "The shape of dataframe is (14828, 6)\n"
     ]
    }
   ],
   "source": [
    "print(\"The shape of dataframe is {}\".format(df.shape))"
   ]
  },
  {
   "cell_type": "code",
   "execution_count": 4,
   "metadata": {
    "colab": {
     "base_uri": "https://localhost:8080/",
     "height": 136
    },
    "colab_type": "code",
    "id": "xsw_a_gMO2Oz",
    "outputId": "fd2c46ac-d277-452a-e552-3e5569c28edb"
   },
   "outputs": [
    {
     "data": {
      "text/plain": [
       "imdb_id            0\n",
       "title              0\n",
       "plot_synopsis      0\n",
       "tags               0\n",
       "split              0\n",
       "synopsis_source    0\n",
       "dtype: int64"
      ]
     },
     "execution_count": 4,
     "metadata": {},
     "output_type": "execute_result"
    }
   ],
   "source": [
    "# no null values are present in dataset..\n",
    "df.isnull().sum()"
   ]
  },
  {
   "cell_type": "code",
   "execution_count": 5,
   "metadata": {
    "colab": {
     "base_uri": "https://localhost:8080/",
     "height": 85
    },
    "colab_type": "code",
    "id": "fJEZ98TQO2O2",
    "outputId": "12e5b0c6-1372-473f-a0e1-4ac03f325a28"
   },
   "outputs": [
    {
     "data": {
      "text/plain": [
       "train    9489\n",
       "test     2966\n",
       "val      2373\n",
       "Name: split, dtype: int64"
      ]
     },
     "execution_count": 5,
     "metadata": {},
     "output_type": "execute_result"
    }
   ],
   "source": [
    "df[\"split\"].value_counts()"
   ]
  },
  {
   "cell_type": "markdown",
   "metadata": {
    "colab_type": "text",
    "id": "Buq8zS-AO2O5"
   },
   "source": [
    "## Data Preprocessing And Cleaning"
   ]
  },
  {
   "cell_type": "markdown",
   "metadata": {
    "colab_type": "text",
    "id": "acDuKGzEO2O6"
   },
   "source": [
    "**1. Preprocessing Synopsis**"
   ]
  },
  {
   "cell_type": "code",
   "execution_count": 6,
   "metadata": {
    "colab": {},
    "colab_type": "code",
    "id": "19-Dy_BkO2O7"
   },
   "outputs": [
    {
     "name": "stderr",
     "output_type": "stream",
     "text": [
      "[nltk_data] Downloading package stopwords to\n",
      "[nltk_data]     C:\\Users\\rdbz3b\\AppData\\Roaming\\nltk_data...\n",
      "[nltk_data]   Package stopwords is already up-to-date!\n"
     ]
    }
   ],
   "source": [
    "#using function and stopwords form assignemnt\n",
    "import nltk\n",
    "nltk.download('stopwords')\n",
    "import re\n",
    "\n",
    "def decontracted(phrase):\n",
    "    # specific\n",
    "    phrase = re.sub(r\"won't\", \"will not\", phrase)\n",
    "    phrase = re.sub(r\"can\\'t\", \"can not\", phrase)\n",
    "\n",
    "    # general\n",
    "    phrase = re.sub(r\"n\\'t\", \" not\", phrase)\n",
    "    phrase = re.sub(r\"\\'re\", \" are\", phrase)\n",
    "    phrase = re.sub(r\"\\'s\", \" is\", phrase)\n",
    "    phrase = re.sub(r\"\\'d\", \" would\", phrase)\n",
    "    phrase = re.sub(r\"\\'ll\", \" will\", phrase)\n",
    "    phrase = re.sub(r\"\\'t\", \" not\", phrase)\n",
    "    phrase = re.sub(r\"\\'ve\", \" have\", phrase)\n",
    "    phrase = re.sub(r\"\\'m\", \" am\", phrase)\n",
    "    return phrase\n",
    "  \n",
    "# we are removing the words from the stop words list: 'no', 'nor', 'not'\n",
    "from nltk.corpus import stopwords\n",
    "stop_words = list(set(stopwords.words('english')))"
   ]
  },
  {
   "cell_type": "code",
   "execution_count": 7,
   "metadata": {
    "colab": {
     "base_uri": "https://localhost:8080/",
     "height": 34
    },
    "colab_type": "code",
    "id": "ywj71C-9O2O9",
    "outputId": "2d98cff9-0462-445f-d8cd-f5feb22b2b72"
   },
   "outputs": [
    {
     "name": "stderr",
     "output_type": "stream",
     "text": [
      "100%|███████████████████████████████████████████████████████████████████████████| 14828/14828 [01:02<00:00, 237.89it/s]\n"
     ]
    }
   ],
   "source": [
    "from tqdm import tqdm\n",
    "\n",
    "#for train data\n",
    "preprocessed_synopsis = []\n",
    "# tqdm is for printing the status bar\n",
    "for sentance in tqdm(df['plot_synopsis'].values):\n",
    "    sent = decontracted(sentance)\n",
    "    sent = sent.replace('\\\\r', ' ')\n",
    "    sent = sent.replace('\\\\\"', ' ')\n",
    "    sent = sent.replace('\\\\n', ' ')\n",
    "    sent = re.sub('[^A-Za-z0-9]+', ' ', sent)\n",
    "    # https://gist.github.com/sebleier/554280\n",
    "    sent = ' '.join(e for e in sent.split() if e not in stop_words)\n",
    "    preprocessed_synopsis.append(sent.lower().strip())"
   ]
  },
  {
   "cell_type": "code",
   "execution_count": 8,
   "metadata": {
    "colab": {},
    "colab_type": "code",
    "id": "Pv-Gj2BoO2PB"
   },
   "outputs": [],
   "source": [
    "df[\"clean_synopsis\"] = preprocessed_synopsis"
   ]
  },
  {
   "cell_type": "markdown",
   "metadata": {
    "colab_type": "text",
    "id": "h0tVUh2cO2PF"
   },
   "source": [
    "**2. Tags Pre-procesing**"
   ]
  },
  {
   "cell_type": "code",
   "execution_count": 9,
   "metadata": {
    "colab": {},
    "colab_type": "code",
    "id": "BzwURMCIO2PG"
   },
   "outputs": [],
   "source": [
    "# as most of the tags are comma seprated,\n",
    "# remooving commas from tags and cleaning them.\n",
    "\n",
    "tag = list(df['tags'].values)\n",
    "\n",
    "tag_list = []\n",
    "for t in tag:\n",
    "    t = decontracted(t.lower())\n",
    "    temp = \"\"\n",
    "    for j in t.split(','): \n",
    "        if 'the' in j.split(): \n",
    "            j=j.replace('the','') \n",
    "        j = j.replace(' ','') \n",
    "        temp+=j.strip()+\" \" \n",
    "        temp = temp.replace('&','_') \n",
    "    tag_list.append(temp.strip())"
   ]
  },
  {
   "cell_type": "code",
   "execution_count": 10,
   "metadata": {
    "colab": {
     "base_uri": "https://localhost:8080/",
     "height": 289
    },
    "colab_type": "code",
    "id": "wHqW8mQUO2PI",
    "outputId": "968a831c-7179-4f94-dc55-343e18f877d2",
    "scrolled": true
   },
   "outputs": [
    {
     "data": {
      "text/html": [
       "<div>\n",
       "<style scoped>\n",
       "    .dataframe tbody tr th:only-of-type {\n",
       "        vertical-align: middle;\n",
       "    }\n",
       "\n",
       "    .dataframe tbody tr th {\n",
       "        vertical-align: top;\n",
       "    }\n",
       "\n",
       "    .dataframe thead th {\n",
       "        text-align: right;\n",
       "    }\n",
       "</style>\n",
       "<table border=\"1\" class=\"dataframe\">\n",
       "  <thead>\n",
       "    <tr style=\"text-align: right;\">\n",
       "      <th></th>\n",
       "      <th>imdb_id</th>\n",
       "      <th>title</th>\n",
       "      <th>plot_synopsis</th>\n",
       "      <th>tags</th>\n",
       "      <th>split</th>\n",
       "      <th>synopsis_source</th>\n",
       "      <th>clean_synopsis</th>\n",
       "      <th>clean_tags</th>\n",
       "      <th>tag_count</th>\n",
       "    </tr>\n",
       "  </thead>\n",
       "  <tbody>\n",
       "    <tr>\n",
       "      <th>0</th>\n",
       "      <td>tt0057603</td>\n",
       "      <td>I tre volti della paura</td>\n",
       "      <td>Note: this synopsis is for the orginal Italian release with the segments in this certain order.Boris Karloff introduces three horror tales of the macabre and the supernatural known as the 'Three Faces of Fear'.THE TELEPHONERosy (Michele Mercier) is an attractive, high-priced Parisian call-girl w...</td>\n",
       "      <td>cult, horror, gothic, murder, atmospheric</td>\n",
       "      <td>train</td>\n",
       "      <td>imdb</td>\n",
       "      <td>note synopsis orginal italian release segments certain order boris karloff introduces three horror tales macabre supernatural known three faces fear the telephonerosy michele mercier attractive high priced parisian call girl returns spacious basement apartment evening immediately gets beset seri...</td>\n",
       "      <td>cult horror gothic murder atmospheric</td>\n",
       "      <td>5</td>\n",
       "    </tr>\n",
       "    <tr>\n",
       "      <th>1</th>\n",
       "      <td>tt1733125</td>\n",
       "      <td>Dungeons &amp; Dragons: The Book of Vile Darkness</td>\n",
       "      <td>Two thousand years ago, Nhagruul the Foul, a sorcerer who reveled in corrupting the innocent and the spread of despair, neared the end of his mortal days and was dismayed. Consumed by hatred for the living, Nhagruul sold his soul to the demon Lords of the abyss so that his malign spirit would su...</td>\n",
       "      <td>violence</td>\n",
       "      <td>train</td>\n",
       "      <td>imdb</td>\n",
       "      <td>two thousand years ago nhagruul foul sorcerer reveled corrupting innocent spread despair neared end mortal days dismayed consumed hatred living nhagruul sold soul demon lords abyss malign spirit would survive in excruciating ritual nhagrulls skin flayed pages bones hammered cover diseased blood ...</td>\n",
       "      <td>violence</td>\n",
       "      <td>1</td>\n",
       "    </tr>\n",
       "    <tr>\n",
       "      <th>2</th>\n",
       "      <td>tt0033045</td>\n",
       "      <td>The Shop Around the Corner</td>\n",
       "      <td>Matuschek's, a gift store in Budapest, is the workplace of Alfred Kralik (James Stewart) and the newly hi Ed\\nKlara Novak (Margaret Sullavan). At work they constantly irritate each other, but this daily aggravation is tempered by the fact that each has a secret pen pal with which they trade long...</td>\n",
       "      <td>romantic</td>\n",
       "      <td>test</td>\n",
       "      <td>imdb</td>\n",
       "      <td>matuschek gift store budapest workplace alfred kralik james stewart newly hi ed klara novak margaret sullavan at work constantly irritate daily aggravation tempered fact secret pen pal trade long soul searching letters romantic correspondence sent back forth alfred klara trade barbs work dream s...</td>\n",
       "      <td>romantic</td>\n",
       "      <td>1</td>\n",
       "    </tr>\n",
       "    <tr>\n",
       "      <th>3</th>\n",
       "      <td>tt0113862</td>\n",
       "      <td>Mr. Holland's Opus</td>\n",
       "      <td>Glenn Holland, not a morning person by anyone's standards, is woken up by his wife Iris early one bright September morning in 1964. Glenn has taken a job as a music teacher at the newly renamed John F. Kennedy High School. He intends his job to be a sabbatical from being a touring musician, duri...</td>\n",
       "      <td>inspiring, romantic, stupid, feel-good</td>\n",
       "      <td>train</td>\n",
       "      <td>imdb</td>\n",
       "      <td>glenn holland morning person anyone standards woken wife iris early one bright september morning 1964 glenn taken job music teacher newly renamed john f kennedy high school he intends job sabbatical touring musician hopes free time compose however soon finds job teacher time consuming first thou...</td>\n",
       "      <td>inspiring romantic stupid feel-good</td>\n",
       "      <td>4</td>\n",
       "    </tr>\n",
       "    <tr>\n",
       "      <th>4</th>\n",
       "      <td>tt0086250</td>\n",
       "      <td>Scarface</td>\n",
       "      <td>In May 1980, a Cuban man named Tony Montana (Al Pacino) claims asylum, in Florida, USA, and is in search of the \"American Dream\" after departing Cuba in the Mariel boatlift of 1980. When questioned by three tough-talking INS officials, they notice a tattoo on Tony's left arm of a black heart wit...</td>\n",
       "      <td>cruelty, murder, dramatic, cult, violence, atmospheric, action, romantic, revenge, sadist</td>\n",
       "      <td>val</td>\n",
       "      <td>imdb</td>\n",
       "      <td>in may 1980 cuban man named tony montana al pacino claims asylum florida usa search american dream departing cuba mariel boatlift 1980 when questioned three tough talking ins officials notice tattoo tony left arm black heart pitchfork identifies hitman detain camp called freedomtown cubans inclu...</td>\n",
       "      <td>cruelty murder dramatic cult violence atmospheric action romantic revenge sadist</td>\n",
       "      <td>10</td>\n",
       "    </tr>\n",
       "  </tbody>\n",
       "</table>\n",
       "</div>"
      ],
      "text/plain": [
       "     imdb_id                                          title  \\\n",
       "0  tt0057603                        I tre volti della paura   \n",
       "1  tt1733125  Dungeons & Dragons: The Book of Vile Darkness   \n",
       "2  tt0033045                     The Shop Around the Corner   \n",
       "3  tt0113862                             Mr. Holland's Opus   \n",
       "4  tt0086250                                       Scarface   \n",
       "\n",
       "                                                                                                                                                                                                                                                                                                 plot_synopsis  \\\n",
       "0  Note: this synopsis is for the orginal Italian release with the segments in this certain order.Boris Karloff introduces three horror tales of the macabre and the supernatural known as the 'Three Faces of Fear'.THE TELEPHONERosy (Michele Mercier) is an attractive, high-priced Parisian call-girl w...   \n",
       "1  Two thousand years ago, Nhagruul the Foul, a sorcerer who reveled in corrupting the innocent and the spread of despair, neared the end of his mortal days and was dismayed. Consumed by hatred for the living, Nhagruul sold his soul to the demon Lords of the abyss so that his malign spirit would su...   \n",
       "2  Matuschek's, a gift store in Budapest, is the workplace of Alfred Kralik (James Stewart) and the newly hi Ed\\nKlara Novak (Margaret Sullavan). At work they constantly irritate each other, but this daily aggravation is tempered by the fact that each has a secret pen pal with which they trade long...   \n",
       "3  Glenn Holland, not a morning person by anyone's standards, is woken up by his wife Iris early one bright September morning in 1964. Glenn has taken a job as a music teacher at the newly renamed John F. Kennedy High School. He intends his job to be a sabbatical from being a touring musician, duri...   \n",
       "4  In May 1980, a Cuban man named Tony Montana (Al Pacino) claims asylum, in Florida, USA, and is in search of the \"American Dream\" after departing Cuba in the Mariel boatlift of 1980. When questioned by three tough-talking INS officials, they notice a tattoo on Tony's left arm of a black heart wit...   \n",
       "\n",
       "                                                                                        tags  \\\n",
       "0                                                  cult, horror, gothic, murder, atmospheric   \n",
       "1                                                                                   violence   \n",
       "2                                                                                   romantic   \n",
       "3                                                     inspiring, romantic, stupid, feel-good   \n",
       "4  cruelty, murder, dramatic, cult, violence, atmospheric, action, romantic, revenge, sadist   \n",
       "\n",
       "   split synopsis_source  \\\n",
       "0  train            imdb   \n",
       "1  train            imdb   \n",
       "2   test            imdb   \n",
       "3  train            imdb   \n",
       "4    val            imdb   \n",
       "\n",
       "                                                                                                                                                                                                                                                                                                clean_synopsis  \\\n",
       "0  note synopsis orginal italian release segments certain order boris karloff introduces three horror tales macabre supernatural known three faces fear the telephonerosy michele mercier attractive high priced parisian call girl returns spacious basement apartment evening immediately gets beset seri...   \n",
       "1  two thousand years ago nhagruul foul sorcerer reveled corrupting innocent spread despair neared end mortal days dismayed consumed hatred living nhagruul sold soul demon lords abyss malign spirit would survive in excruciating ritual nhagrulls skin flayed pages bones hammered cover diseased blood ...   \n",
       "2  matuschek gift store budapest workplace alfred kralik james stewart newly hi ed klara novak margaret sullavan at work constantly irritate daily aggravation tempered fact secret pen pal trade long soul searching letters romantic correspondence sent back forth alfred klara trade barbs work dream s...   \n",
       "3  glenn holland morning person anyone standards woken wife iris early one bright september morning 1964 glenn taken job music teacher newly renamed john f kennedy high school he intends job sabbatical touring musician hopes free time compose however soon finds job teacher time consuming first thou...   \n",
       "4  in may 1980 cuban man named tony montana al pacino claims asylum florida usa search american dream departing cuba mariel boatlift 1980 when questioned three tough talking ins officials notice tattoo tony left arm black heart pitchfork identifies hitman detain camp called freedomtown cubans inclu...   \n",
       "\n",
       "                                                                         clean_tags  \\\n",
       "0                                             cult horror gothic murder atmospheric   \n",
       "1                                                                          violence   \n",
       "2                                                                          romantic   \n",
       "3                                               inspiring romantic stupid feel-good   \n",
       "4  cruelty murder dramatic cult violence atmospheric action romantic revenge sadist   \n",
       "\n",
       "   tag_count  \n",
       "0          5  \n",
       "1          1  \n",
       "2          1  \n",
       "3          4  \n",
       "4         10  "
      ]
     },
     "execution_count": 10,
     "metadata": {},
     "output_type": "execute_result"
    }
   ],
   "source": [
    "# replacing tags with clean_tags\n",
    "df[\"clean_tags\"] = tag_list\n",
    "\n",
    "# adding tag_count coloumn for analysis.\n",
    "df[\"tag_count\"] = df[\"clean_tags\"].apply(lambda x:len(x.split()))\n",
    "df.head()"
   ]
  },
  {
   "cell_type": "code",
   "execution_count": 11,
   "metadata": {},
   "outputs": [],
   "source": [
    "df[\"clean_tags\"] = df[\"clean_tags\"].apply(lambda x: x.split())"
   ]
  },
  {
   "cell_type": "markdown",
   "metadata": {
    "colab_type": "text",
    "id": "4ALlpQ7rO2PL"
   },
   "source": [
    "**3. Pre-processing Title**"
   ]
  },
  {
   "cell_type": "code",
   "execution_count": 12,
   "metadata": {
    "colab": {
     "base_uri": "https://localhost:8080/",
     "height": 34
    },
    "colab_type": "code",
    "id": "dyxAI_2nO2PM",
    "outputId": "a74e2e0e-4c3c-4f68-ac06-3f1c69a3dc37"
   },
   "outputs": [
    {
     "name": "stderr",
     "output_type": "stream",
     "text": [
      "100%|█████████████████████████████████████████████████████████████████████████| 14828/14828 [00:00<00:00, 19984.54it/s]\n"
     ]
    }
   ],
   "source": [
    "from tqdm import tqdm\n",
    "\n",
    "#for train data\n",
    "preprocessed_title = []\n",
    "# tqdm is for printing the status bar\n",
    "for sentance in tqdm(df['title'].values):\n",
    "    sent = decontracted(sentance)\n",
    "    sent = sent.replace('\\\\r', ' ')\n",
    "    sent = sent.replace('\\\\\"', ' ')\n",
    "    sent = sent.replace('\\\\n', ' ')\n",
    "    sent = re.sub('[^A-Za-z0-9]+', ' ', sent)\n",
    "    # https://gist.github.com/sebleier/554280\n",
    "    sent = ' '.join(e for e in sent.split() if e not in stop_words)\n",
    "    preprocessed_title.append(sent.lower().strip())"
   ]
  },
  {
   "cell_type": "code",
   "execution_count": 13,
   "metadata": {
    "colab": {
     "base_uri": "https://localhost:8080/",
     "height": 289
    },
    "colab_type": "code",
    "id": "Cg2c3Bd0O2PP",
    "outputId": "5c80155b-eea9-4d28-ff4d-e493be862fbb"
   },
   "outputs": [
    {
     "data": {
      "text/html": [
       "<div>\n",
       "<style scoped>\n",
       "    .dataframe tbody tr th:only-of-type {\n",
       "        vertical-align: middle;\n",
       "    }\n",
       "\n",
       "    .dataframe tbody tr th {\n",
       "        vertical-align: top;\n",
       "    }\n",
       "\n",
       "    .dataframe thead th {\n",
       "        text-align: right;\n",
       "    }\n",
       "</style>\n",
       "<table border=\"1\" class=\"dataframe\">\n",
       "  <thead>\n",
       "    <tr style=\"text-align: right;\">\n",
       "      <th></th>\n",
       "      <th>imdb_id</th>\n",
       "      <th>title</th>\n",
       "      <th>plot_synopsis</th>\n",
       "      <th>tags</th>\n",
       "      <th>split</th>\n",
       "      <th>synopsis_source</th>\n",
       "      <th>clean_synopsis</th>\n",
       "      <th>clean_tags</th>\n",
       "      <th>tag_count</th>\n",
       "      <th>clean_title</th>\n",
       "    </tr>\n",
       "  </thead>\n",
       "  <tbody>\n",
       "    <tr>\n",
       "      <th>0</th>\n",
       "      <td>tt0057603</td>\n",
       "      <td>I tre volti della paura</td>\n",
       "      <td>Note: this synopsis is for the orginal Italian release with the segments in this certain order.Boris Karloff introduces three horror tales of the macabre and the supernatural known as the 'Three Faces of Fear'.THE TELEPHONERosy (Michele Mercier) is an attractive, high-priced Parisian call-girl w...</td>\n",
       "      <td>cult, horror, gothic, murder, atmospheric</td>\n",
       "      <td>train</td>\n",
       "      <td>imdb</td>\n",
       "      <td>note synopsis orginal italian release segments certain order boris karloff introduces three horror tales macabre supernatural known three faces fear the telephonerosy michele mercier attractive high priced parisian call girl returns spacious basement apartment evening immediately gets beset seri...</td>\n",
       "      <td>[cult, horror, gothic, murder, atmospheric]</td>\n",
       "      <td>5</td>\n",
       "      <td>i tre volti della paura</td>\n",
       "    </tr>\n",
       "    <tr>\n",
       "      <th>1</th>\n",
       "      <td>tt1733125</td>\n",
       "      <td>Dungeons &amp; Dragons: The Book of Vile Darkness</td>\n",
       "      <td>Two thousand years ago, Nhagruul the Foul, a sorcerer who reveled in corrupting the innocent and the spread of despair, neared the end of his mortal days and was dismayed. Consumed by hatred for the living, Nhagruul sold his soul to the demon Lords of the abyss so that his malign spirit would su...</td>\n",
       "      <td>violence</td>\n",
       "      <td>train</td>\n",
       "      <td>imdb</td>\n",
       "      <td>two thousand years ago nhagruul foul sorcerer reveled corrupting innocent spread despair neared end mortal days dismayed consumed hatred living nhagruul sold soul demon lords abyss malign spirit would survive in excruciating ritual nhagrulls skin flayed pages bones hammered cover diseased blood ...</td>\n",
       "      <td>[violence]</td>\n",
       "      <td>1</td>\n",
       "      <td>dungeons dragons the book vile darkness</td>\n",
       "    </tr>\n",
       "    <tr>\n",
       "      <th>2</th>\n",
       "      <td>tt0033045</td>\n",
       "      <td>The Shop Around the Corner</td>\n",
       "      <td>Matuschek's, a gift store in Budapest, is the workplace of Alfred Kralik (James Stewart) and the newly hi Ed\\nKlara Novak (Margaret Sullavan). At work they constantly irritate each other, but this daily aggravation is tempered by the fact that each has a secret pen pal with which they trade long...</td>\n",
       "      <td>romantic</td>\n",
       "      <td>test</td>\n",
       "      <td>imdb</td>\n",
       "      <td>matuschek gift store budapest workplace alfred kralik james stewart newly hi ed klara novak margaret sullavan at work constantly irritate daily aggravation tempered fact secret pen pal trade long soul searching letters romantic correspondence sent back forth alfred klara trade barbs work dream s...</td>\n",
       "      <td>[romantic]</td>\n",
       "      <td>1</td>\n",
       "      <td>the shop around corner</td>\n",
       "    </tr>\n",
       "    <tr>\n",
       "      <th>3</th>\n",
       "      <td>tt0113862</td>\n",
       "      <td>Mr. Holland's Opus</td>\n",
       "      <td>Glenn Holland, not a morning person by anyone's standards, is woken up by his wife Iris early one bright September morning in 1964. Glenn has taken a job as a music teacher at the newly renamed John F. Kennedy High School. He intends his job to be a sabbatical from being a touring musician, duri...</td>\n",
       "      <td>inspiring, romantic, stupid, feel-good</td>\n",
       "      <td>train</td>\n",
       "      <td>imdb</td>\n",
       "      <td>glenn holland morning person anyone standards woken wife iris early one bright september morning 1964 glenn taken job music teacher newly renamed john f kennedy high school he intends job sabbatical touring musician hopes free time compose however soon finds job teacher time consuming first thou...</td>\n",
       "      <td>[inspiring, romantic, stupid, feel-good]</td>\n",
       "      <td>4</td>\n",
       "      <td>mr holland opus</td>\n",
       "    </tr>\n",
       "    <tr>\n",
       "      <th>4</th>\n",
       "      <td>tt0086250</td>\n",
       "      <td>Scarface</td>\n",
       "      <td>In May 1980, a Cuban man named Tony Montana (Al Pacino) claims asylum, in Florida, USA, and is in search of the \"American Dream\" after departing Cuba in the Mariel boatlift of 1980. When questioned by three tough-talking INS officials, they notice a tattoo on Tony's left arm of a black heart wit...</td>\n",
       "      <td>cruelty, murder, dramatic, cult, violence, atmospheric, action, romantic, revenge, sadist</td>\n",
       "      <td>val</td>\n",
       "      <td>imdb</td>\n",
       "      <td>in may 1980 cuban man named tony montana al pacino claims asylum florida usa search american dream departing cuba mariel boatlift 1980 when questioned three tough talking ins officials notice tattoo tony left arm black heart pitchfork identifies hitman detain camp called freedomtown cubans inclu...</td>\n",
       "      <td>[cruelty, murder, dramatic, cult, violence, atmospheric, action, romantic, revenge, sadist]</td>\n",
       "      <td>10</td>\n",
       "      <td>scarface</td>\n",
       "    </tr>\n",
       "  </tbody>\n",
       "</table>\n",
       "</div>"
      ],
      "text/plain": [
       "     imdb_id                                          title  \\\n",
       "0  tt0057603                        I tre volti della paura   \n",
       "1  tt1733125  Dungeons & Dragons: The Book of Vile Darkness   \n",
       "2  tt0033045                     The Shop Around the Corner   \n",
       "3  tt0113862                             Mr. Holland's Opus   \n",
       "4  tt0086250                                       Scarface   \n",
       "\n",
       "                                                                                                                                                                                                                                                                                                 plot_synopsis  \\\n",
       "0  Note: this synopsis is for the orginal Italian release with the segments in this certain order.Boris Karloff introduces three horror tales of the macabre and the supernatural known as the 'Three Faces of Fear'.THE TELEPHONERosy (Michele Mercier) is an attractive, high-priced Parisian call-girl w...   \n",
       "1  Two thousand years ago, Nhagruul the Foul, a sorcerer who reveled in corrupting the innocent and the spread of despair, neared the end of his mortal days and was dismayed. Consumed by hatred for the living, Nhagruul sold his soul to the demon Lords of the abyss so that his malign spirit would su...   \n",
       "2  Matuschek's, a gift store in Budapest, is the workplace of Alfred Kralik (James Stewart) and the newly hi Ed\\nKlara Novak (Margaret Sullavan). At work they constantly irritate each other, but this daily aggravation is tempered by the fact that each has a secret pen pal with which they trade long...   \n",
       "3  Glenn Holland, not a morning person by anyone's standards, is woken up by his wife Iris early one bright September morning in 1964. Glenn has taken a job as a music teacher at the newly renamed John F. Kennedy High School. He intends his job to be a sabbatical from being a touring musician, duri...   \n",
       "4  In May 1980, a Cuban man named Tony Montana (Al Pacino) claims asylum, in Florida, USA, and is in search of the \"American Dream\" after departing Cuba in the Mariel boatlift of 1980. When questioned by three tough-talking INS officials, they notice a tattoo on Tony's left arm of a black heart wit...   \n",
       "\n",
       "                                                                                        tags  \\\n",
       "0                                                  cult, horror, gothic, murder, atmospheric   \n",
       "1                                                                                   violence   \n",
       "2                                                                                   romantic   \n",
       "3                                                     inspiring, romantic, stupid, feel-good   \n",
       "4  cruelty, murder, dramatic, cult, violence, atmospheric, action, romantic, revenge, sadist   \n",
       "\n",
       "   split synopsis_source  \\\n",
       "0  train            imdb   \n",
       "1  train            imdb   \n",
       "2   test            imdb   \n",
       "3  train            imdb   \n",
       "4    val            imdb   \n",
       "\n",
       "                                                                                                                                                                                                                                                                                                clean_synopsis  \\\n",
       "0  note synopsis orginal italian release segments certain order boris karloff introduces three horror tales macabre supernatural known three faces fear the telephonerosy michele mercier attractive high priced parisian call girl returns spacious basement apartment evening immediately gets beset seri...   \n",
       "1  two thousand years ago nhagruul foul sorcerer reveled corrupting innocent spread despair neared end mortal days dismayed consumed hatred living nhagruul sold soul demon lords abyss malign spirit would survive in excruciating ritual nhagrulls skin flayed pages bones hammered cover diseased blood ...   \n",
       "2  matuschek gift store budapest workplace alfred kralik james stewart newly hi ed klara novak margaret sullavan at work constantly irritate daily aggravation tempered fact secret pen pal trade long soul searching letters romantic correspondence sent back forth alfred klara trade barbs work dream s...   \n",
       "3  glenn holland morning person anyone standards woken wife iris early one bright september morning 1964 glenn taken job music teacher newly renamed john f kennedy high school he intends job sabbatical touring musician hopes free time compose however soon finds job teacher time consuming first thou...   \n",
       "4  in may 1980 cuban man named tony montana al pacino claims asylum florida usa search american dream departing cuba mariel boatlift 1980 when questioned three tough talking ins officials notice tattoo tony left arm black heart pitchfork identifies hitman detain camp called freedomtown cubans inclu...   \n",
       "\n",
       "                                                                                    clean_tags  \\\n",
       "0                                                  [cult, horror, gothic, murder, atmospheric]   \n",
       "1                                                                                   [violence]   \n",
       "2                                                                                   [romantic]   \n",
       "3                                                     [inspiring, romantic, stupid, feel-good]   \n",
       "4  [cruelty, murder, dramatic, cult, violence, atmospheric, action, romantic, revenge, sadist]   \n",
       "\n",
       "   tag_count                              clean_title  \n",
       "0          5                  i tre volti della paura  \n",
       "1          1  dungeons dragons the book vile darkness  \n",
       "2          1                   the shop around corner  \n",
       "3          4                          mr holland opus  \n",
       "4         10                                 scarface  "
      ]
     },
     "execution_count": 13,
     "metadata": {},
     "output_type": "execute_result"
    }
   ],
   "source": [
    "df[\"clean_title\"] = preprocessed_title\n",
    "df.head()"
   ]
  },
  {
   "cell_type": "markdown",
   "metadata": {
    "colab_type": "text",
    "id": "kCsGFj3nO2PT"
   },
   "source": [
    "## EDA"
   ]
  },
  {
   "cell_type": "markdown",
   "metadata": {
    "colab_type": "text",
    "id": "Qy2BjQZ1O2PU"
   },
   "source": [
    "### 1. EDA on Tags"
   ]
  },
  {
   "cell_type": "code",
   "execution_count": 14,
   "metadata": {
    "colab": {
     "base_uri": "https://localhost:8080/",
     "height": 34
    },
    "colab_type": "code",
    "id": "HqySKSCpO2PV",
    "outputId": "23d6e626-badf-4a48-8cc3-9efb299c56c6"
   },
   "outputs": [
    {
     "data": {
      "text/plain": [
       "['cruelty',\n",
       " 'murder',\n",
       " 'dramatic',\n",
       " 'cult',\n",
       " 'violence',\n",
       " 'atmospheric',\n",
       " 'action',\n",
       " 'romantic',\n",
       " 'revenge',\n",
       " 'sadist']"
      ]
     },
     "execution_count": 14,
     "metadata": {},
     "output_type": "execute_result"
    }
   ],
   "source": [
    "df[\"clean_tags\"].iloc[4]"
   ]
  },
  {
   "cell_type": "code",
   "execution_count": 15,
   "metadata": {
    "colab": {
     "base_uri": "https://localhost:8080/",
     "height": 170
    },
    "colab_type": "code",
    "id": "GXW-T3yFO2PZ",
    "outputId": "95706c5e-1f8a-4776-e4d9-e12924817d58"
   },
   "outputs": [
    {
     "data": {
      "text/plain": [
       "count    14828.000000\n",
       "mean         2.981252\n",
       "std          2.599900\n",
       "min          1.000000\n",
       "25%          1.000000\n",
       "50%          2.000000\n",
       "75%          4.000000\n",
       "max         25.000000\n",
       "Name: tag_count, dtype: float64"
      ]
     },
     "execution_count": 15,
     "metadata": {},
     "output_type": "execute_result"
    }
   ],
   "source": [
    "df[\"tag_count\"].describe()"
   ]
  },
  {
   "cell_type": "code",
   "execution_count": 16,
   "metadata": {
    "colab": {
     "base_uri": "https://localhost:8080/",
     "height": 525
    },
    "colab_type": "code",
    "id": "Fiw_FUlXO2Pe",
    "outputId": "aba7535b-51de-4abe-82f3-bcb39e28acbf"
   },
   "outputs": [
    {
     "data": {
      "text/plain": [
       "<matplotlib.axes._subplots.AxesSubplot at 0x151ae4520f0>"
      ]
     },
     "execution_count": 16,
     "metadata": {},
     "output_type": "execute_result"
    },
    {
     "data": {
      "image/png": "[encoded data removed]",
      "text/plain": [
       "<Figure size 1440x576 with 1 Axes>"
      ]
     },
     "metadata": {},
     "output_type": "display_data"
    }
   ],
   "source": [
    "sns.set()\n",
    "plt.figure(figsize=(20,8))\n",
    "sns.countplot(x= \"tag_count\",data =df)"
   ]
  },
  {
   "cell_type": "code",
   "execution_count": 17,
   "metadata": {
    "colab": {
     "base_uri": "https://localhost:8080/",
     "height": 1717
    },
    "colab_type": "code",
    "id": "WOadbPz-O2Pi",
    "outputId": "bda0eb62-6231-4d69-d339-e767f50e5618",
    "scrolled": true
   },
   "outputs": [
    {
     "name": "stdout",
     "output_type": "stream",
     "text": [
      "1%  --> 1.0\n",
      "2%  --> 1.0\n",
      "3%  --> 1.0\n",
      "4%  --> 1.0\n",
      "5%  --> 1.0\n",
      "6%  --> 1.0\n",
      "7%  --> 1.0\n",
      "8%  --> 1.0\n",
      "9%  --> 1.0\n",
      "10%  --> 1.0\n",
      "11%  --> 1.0\n",
      "12%  --> 1.0\n",
      "13%  --> 1.0\n",
      "14%  --> 1.0\n",
      "15%  --> 1.0\n",
      "16%  --> 1.0\n",
      "17%  --> 1.0\n",
      "18%  --> 1.0\n",
      "19%  --> 1.0\n",
      "20%  --> 1.0\n",
      "21%  --> 1.0\n",
      "22%  --> 1.0\n",
      "23%  --> 1.0\n",
      "24%  --> 1.0\n",
      "25%  --> 1.0\n",
      "26%  --> 1.0\n",
      "27%  --> 1.0\n",
      "28%  --> 1.0\n",
      "29%  --> 1.0\n",
      "30%  --> 1.0\n",
      "31%  --> 1.0\n",
      "32%  --> 1.0\n",
      "33%  --> 1.0\n",
      "34%  --> 1.0\n",
      "35%  --> 1.0\n",
      "36%  --> 1.0\n",
      "37%  --> 1.0\n",
      "38%  --> 2.0\n",
      "39%  --> 2.0\n",
      "40%  --> 2.0\n",
      "41%  --> 2.0\n",
      "42%  --> 2.0\n",
      "43%  --> 2.0\n",
      "44%  --> 2.0\n",
      "45%  --> 2.0\n",
      "46%  --> 2.0\n",
      "47%  --> 2.0\n",
      "48%  --> 2.0\n",
      "49%  --> 2.0\n",
      "50%  --> 2.0\n",
      "51%  --> 2.0\n",
      "52%  --> 2.0\n",
      "53%  --> 2.0\n",
      "54%  --> 2.0\n",
      "55%  --> 2.0\n",
      "56%  --> 2.0\n",
      "57%  --> 2.0\n",
      "58%  --> 2.0\n",
      "59%  --> 3.0\n",
      "60%  --> 3.0\n",
      "61%  --> 3.0\n",
      "62%  --> 3.0\n",
      "63%  --> 3.0\n",
      "64%  --> 3.0\n",
      "65%  --> 3.0\n",
      "66%  --> 3.0\n",
      "67%  --> 3.0\n",
      "68%  --> 3.0\n",
      "69%  --> 3.0\n",
      "70%  --> 3.0\n",
      "71%  --> 3.0\n",
      "72%  --> 4.0\n",
      "73%  --> 4.0\n",
      "74%  --> 4.0\n",
      "75%  --> 4.0\n",
      "76%  --> 4.0\n",
      "77%  --> 4.0\n",
      "78%  --> 4.0\n",
      "79%  --> 4.0\n",
      "80%  --> 5.0\n",
      "81%  --> 5.0\n",
      "82%  --> 5.0\n",
      "83%  --> 5.0\n",
      "84%  --> 5.0\n",
      "85%  --> 5.0\n",
      "86%  --> 5.0\n",
      "87%  --> 6.0\n",
      "88%  --> 6.0\n",
      "89%  --> 6.0\n",
      "90%  --> 6.0\n",
      "91%  --> 7.0\n",
      "92%  --> 7.0\n",
      "93%  --> 7.0\n",
      "94%  --> 8.0\n",
      "95%  --> 8.0\n",
      "96%  --> 9.0\n",
      "97%  --> 10.0\n",
      "98%  --> 11.0\n",
      "99%  --> 13.0\n",
      "100%  --> 25.0\n"
     ]
    }
   ],
   "source": [
    "for i in range(1,101):\n",
    "    print(\"{}%  --> {}\".format(i,np.percentile(df[\"tag_count\"].values,i)))"
   ]
  },
  {
   "cell_type": "markdown",
   "metadata": {
    "colab_type": "text",
    "id": "Ugw2XVobO2Po"
   },
   "source": [
    "- Since on an **avg. 3 tags** are present per movie.\n",
    "- some movies have tags like descriptions. So ignoring that tags.\n",
    "- From above percentile, **only 1% of tags have length more than 14.**\n",
    "- **We are considering only data points having tag_count less than 12 as it covers 98% data points**"
   ]
  },
  {
   "cell_type": "code",
   "execution_count": 18,
   "metadata": {
    "colab": {},
    "colab_type": "code",
    "id": "JvjFYjC5O2Pp"
   },
   "outputs": [],
   "source": [
    "#df = df.loc[df[\"tag_count\"]<=12]"
   ]
  },
  {
   "cell_type": "code",
   "execution_count": 19,
   "metadata": {
    "colab": {
     "base_uri": "https://localhost:8080/",
     "height": 306
    },
    "colab_type": "code",
    "id": "OHlVzs6ZO2Ps",
    "outputId": "9736515e-6a63-4cd2-efcf-ab149a94c0b3"
   },
   "outputs": [
    {
     "name": "stdout",
     "output_type": "stream",
     "text": [
      "14828\n"
     ]
    },
    {
     "data": {
      "text/html": [
       "<div>\n",
       "<style scoped>\n",
       "    .dataframe tbody tr th:only-of-type {\n",
       "        vertical-align: middle;\n",
       "    }\n",
       "\n",
       "    .dataframe tbody tr th {\n",
       "        vertical-align: top;\n",
       "    }\n",
       "\n",
       "    .dataframe thead th {\n",
       "        text-align: right;\n",
       "    }\n",
       "</style>\n",
       "<table border=\"1\" class=\"dataframe\">\n",
       "  <thead>\n",
       "    <tr style=\"text-align: right;\">\n",
       "      <th></th>\n",
       "      <th>imdb_id</th>\n",
       "      <th>title</th>\n",
       "      <th>plot_synopsis</th>\n",
       "      <th>tags</th>\n",
       "      <th>split</th>\n",
       "      <th>synopsis_source</th>\n",
       "      <th>clean_synopsis</th>\n",
       "      <th>clean_tags</th>\n",
       "      <th>tag_count</th>\n",
       "      <th>clean_title</th>\n",
       "    </tr>\n",
       "  </thead>\n",
       "  <tbody>\n",
       "    <tr>\n",
       "      <th>0</th>\n",
       "      <td>tt0057603</td>\n",
       "      <td>I tre volti della paura</td>\n",
       "      <td>Note: this synopsis is for the orginal Italian release with the segments in this certain order.Boris Karloff introduces three horror tales of the macabre and the supernatural known as the 'Three Faces of Fear'.THE TELEPHONERosy (Michele Mercier) is an attractive, high-priced Parisian call-girl w...</td>\n",
       "      <td>cult, horror, gothic, murder, atmospheric</td>\n",
       "      <td>train</td>\n",
       "      <td>imdb</td>\n",
       "      <td>note synopsis orginal italian release segments certain order boris karloff introduces three horror tales macabre supernatural known three faces fear the telephonerosy michele mercier attractive high priced parisian call girl returns spacious basement apartment evening immediately gets beset seri...</td>\n",
       "      <td>[cult, horror, gothic, murder, atmospheric]</td>\n",
       "      <td>5</td>\n",
       "      <td>i tre volti della paura</td>\n",
       "    </tr>\n",
       "    <tr>\n",
       "      <th>1</th>\n",
       "      <td>tt1733125</td>\n",
       "      <td>Dungeons &amp; Dragons: The Book of Vile Darkness</td>\n",
       "      <td>Two thousand years ago, Nhagruul the Foul, a sorcerer who reveled in corrupting the innocent and the spread of despair, neared the end of his mortal days and was dismayed. Consumed by hatred for the living, Nhagruul sold his soul to the demon Lords of the abyss so that his malign spirit would su...</td>\n",
       "      <td>violence</td>\n",
       "      <td>train</td>\n",
       "      <td>imdb</td>\n",
       "      <td>two thousand years ago nhagruul foul sorcerer reveled corrupting innocent spread despair neared end mortal days dismayed consumed hatred living nhagruul sold soul demon lords abyss malign spirit would survive in excruciating ritual nhagrulls skin flayed pages bones hammered cover diseased blood ...</td>\n",
       "      <td>[violence]</td>\n",
       "      <td>1</td>\n",
       "      <td>dungeons dragons the book vile darkness</td>\n",
       "    </tr>\n",
       "    <tr>\n",
       "      <th>2</th>\n",
       "      <td>tt0033045</td>\n",
       "      <td>The Shop Around the Corner</td>\n",
       "      <td>Matuschek's, a gift store in Budapest, is the workplace of Alfred Kralik (James Stewart) and the newly hi Ed\\nKlara Novak (Margaret Sullavan). At work they constantly irritate each other, but this daily aggravation is tempered by the fact that each has a secret pen pal with which they trade long...</td>\n",
       "      <td>romantic</td>\n",
       "      <td>test</td>\n",
       "      <td>imdb</td>\n",
       "      <td>matuschek gift store budapest workplace alfred kralik james stewart newly hi ed klara novak margaret sullavan at work constantly irritate daily aggravation tempered fact secret pen pal trade long soul searching letters romantic correspondence sent back forth alfred klara trade barbs work dream s...</td>\n",
       "      <td>[romantic]</td>\n",
       "      <td>1</td>\n",
       "      <td>the shop around corner</td>\n",
       "    </tr>\n",
       "    <tr>\n",
       "      <th>3</th>\n",
       "      <td>tt0113862</td>\n",
       "      <td>Mr. Holland's Opus</td>\n",
       "      <td>Glenn Holland, not a morning person by anyone's standards, is woken up by his wife Iris early one bright September morning in 1964. Glenn has taken a job as a music teacher at the newly renamed John F. Kennedy High School. He intends his job to be a sabbatical from being a touring musician, duri...</td>\n",
       "      <td>inspiring, romantic, stupid, feel-good</td>\n",
       "      <td>train</td>\n",
       "      <td>imdb</td>\n",
       "      <td>glenn holland morning person anyone standards woken wife iris early one bright september morning 1964 glenn taken job music teacher newly renamed john f kennedy high school he intends job sabbatical touring musician hopes free time compose however soon finds job teacher time consuming first thou...</td>\n",
       "      <td>[inspiring, romantic, stupid, feel-good]</td>\n",
       "      <td>4</td>\n",
       "      <td>mr holland opus</td>\n",
       "    </tr>\n",
       "    <tr>\n",
       "      <th>4</th>\n",
       "      <td>tt0086250</td>\n",
       "      <td>Scarface</td>\n",
       "      <td>In May 1980, a Cuban man named Tony Montana (Al Pacino) claims asylum, in Florida, USA, and is in search of the \"American Dream\" after departing Cuba in the Mariel boatlift of 1980. When questioned by three tough-talking INS officials, they notice a tattoo on Tony's left arm of a black heart wit...</td>\n",
       "      <td>cruelty, murder, dramatic, cult, violence, atmospheric, action, romantic, revenge, sadist</td>\n",
       "      <td>val</td>\n",
       "      <td>imdb</td>\n",
       "      <td>in may 1980 cuban man named tony montana al pacino claims asylum florida usa search american dream departing cuba mariel boatlift 1980 when questioned three tough talking ins officials notice tattoo tony left arm black heart pitchfork identifies hitman detain camp called freedomtown cubans inclu...</td>\n",
       "      <td>[cruelty, murder, dramatic, cult, violence, atmospheric, action, romantic, revenge, sadist]</td>\n",
       "      <td>10</td>\n",
       "      <td>scarface</td>\n",
       "    </tr>\n",
       "  </tbody>\n",
       "</table>\n",
       "</div>"
      ],
      "text/plain": [
       "     imdb_id                                          title  \\\n",
       "0  tt0057603                        I tre volti della paura   \n",
       "1  tt1733125  Dungeons & Dragons: The Book of Vile Darkness   \n",
       "2  tt0033045                     The Shop Around the Corner   \n",
       "3  tt0113862                             Mr. Holland's Opus   \n",
       "4  tt0086250                                       Scarface   \n",
       "\n",
       "                                                                                                                                                                                                                                                                                                 plot_synopsis  \\\n",
       "0  Note: this synopsis is for the orginal Italian release with the segments in this certain order.Boris Karloff introduces three horror tales of the macabre and the supernatural known as the 'Three Faces of Fear'.THE TELEPHONERosy (Michele Mercier) is an attractive, high-priced Parisian call-girl w...   \n",
       "1  Two thousand years ago, Nhagruul the Foul, a sorcerer who reveled in corrupting the innocent and the spread of despair, neared the end of his mortal days and was dismayed. Consumed by hatred for the living, Nhagruul sold his soul to the demon Lords of the abyss so that his malign spirit would su...   \n",
       "2  Matuschek's, a gift store in Budapest, is the workplace of Alfred Kralik (James Stewart) and the newly hi Ed\\nKlara Novak (Margaret Sullavan). At work they constantly irritate each other, but this daily aggravation is tempered by the fact that each has a secret pen pal with which they trade long...   \n",
       "3  Glenn Holland, not a morning person by anyone's standards, is woken up by his wife Iris early one bright September morning in 1964. Glenn has taken a job as a music teacher at the newly renamed John F. Kennedy High School. He intends his job to be a sabbatical from being a touring musician, duri...   \n",
       "4  In May 1980, a Cuban man named Tony Montana (Al Pacino) claims asylum, in Florida, USA, and is in search of the \"American Dream\" after departing Cuba in the Mariel boatlift of 1980. When questioned by three tough-talking INS officials, they notice a tattoo on Tony's left arm of a black heart wit...   \n",
       "\n",
       "                                                                                        tags  \\\n",
       "0                                                  cult, horror, gothic, murder, atmospheric   \n",
       "1                                                                                   violence   \n",
       "2                                                                                   romantic   \n",
       "3                                                     inspiring, romantic, stupid, feel-good   \n",
       "4  cruelty, murder, dramatic, cult, violence, atmospheric, action, romantic, revenge, sadist   \n",
       "\n",
       "   split synopsis_source  \\\n",
       "0  train            imdb   \n",
       "1  train            imdb   \n",
       "2   test            imdb   \n",
       "3  train            imdb   \n",
       "4    val            imdb   \n",
       "\n",
       "                                                                                                                                                                                                                                                                                                clean_synopsis  \\\n",
       "0  note synopsis orginal italian release segments certain order boris karloff introduces three horror tales macabre supernatural known three faces fear the telephonerosy michele mercier attractive high priced parisian call girl returns spacious basement apartment evening immediately gets beset seri...   \n",
       "1  two thousand years ago nhagruul foul sorcerer reveled corrupting innocent spread despair neared end mortal days dismayed consumed hatred living nhagruul sold soul demon lords abyss malign spirit would survive in excruciating ritual nhagrulls skin flayed pages bones hammered cover diseased blood ...   \n",
       "2  matuschek gift store budapest workplace alfred kralik james stewart newly hi ed klara novak margaret sullavan at work constantly irritate daily aggravation tempered fact secret pen pal trade long soul searching letters romantic correspondence sent back forth alfred klara trade barbs work dream s...   \n",
       "3  glenn holland morning person anyone standards woken wife iris early one bright september morning 1964 glenn taken job music teacher newly renamed john f kennedy high school he intends job sabbatical touring musician hopes free time compose however soon finds job teacher time consuming first thou...   \n",
       "4  in may 1980 cuban man named tony montana al pacino claims asylum florida usa search american dream departing cuba mariel boatlift 1980 when questioned three tough talking ins officials notice tattoo tony left arm black heart pitchfork identifies hitman detain camp called freedomtown cubans inclu...   \n",
       "\n",
       "                                                                                    clean_tags  \\\n",
       "0                                                  [cult, horror, gothic, murder, atmospheric]   \n",
       "1                                                                                   [violence]   \n",
       "2                                                                                   [romantic]   \n",
       "3                                                     [inspiring, romantic, stupid, feel-good]   \n",
       "4  [cruelty, murder, dramatic, cult, violence, atmospheric, action, romantic, revenge, sadist]   \n",
       "\n",
       "   tag_count                              clean_title  \n",
       "0          5                  i tre volti della paura  \n",
       "1          1  dungeons dragons the book vile darkness  \n",
       "2          1                   the shop around corner  \n",
       "3          4                          mr holland opus  \n",
       "4         10                                 scarface  "
      ]
     },
     "execution_count": 19,
     "metadata": {},
     "output_type": "execute_result"
    }
   ],
   "source": [
    "print(len(df))\n",
    "df.head()"
   ]
  },
  {
   "cell_type": "markdown",
   "metadata": {
    "colab_type": "text",
    "id": "cyY0pioLO2Pv"
   },
   "source": [
    "**More analysis on tags.**"
   ]
  },
  {
   "cell_type": "code",
   "execution_count": 20,
   "metadata": {
    "colab": {},
    "colab_type": "code",
    "id": "3eqdJmE7O2Pv"
   },
   "outputs": [],
   "source": [
    "tags = []\n",
    "for t in df[\"clean_tags\"].values:\n",
    "    tags.extend(t)\n",
    "        \n",
    "# collecting all tags into list\n",
    "cnt = Counter(tags)"
   ]
  },
  {
   "cell_type": "code",
   "execution_count": 21,
   "metadata": {
    "colab": {
     "base_uri": "https://localhost:8080/",
     "height": 34
    },
    "colab_type": "code",
    "id": "zACgPchUO2Py",
    "outputId": "08a1b1ca-dd18-46b0-b576-d7906a33b6eb"
   },
   "outputs": [
    {
     "data": {
      "text/plain": [
       "71"
      ]
     },
     "execution_count": 21,
     "metadata": {},
     "output_type": "execute_result"
    }
   ],
   "source": [
    "len(cnt)"
   ]
  },
  {
   "cell_type": "code",
   "execution_count": 22,
   "metadata": {
    "colab": {
     "base_uri": "https://localhost:8080/",
     "height": 297
    },
    "colab_type": "code",
    "id": "LbDKquzkO2P2",
    "outputId": "03f7b855-0415-4ed9-df5a-df9f057b0063"
   },
   "outputs": [
    {
     "data": {
      "text/html": [
       "<div>\n",
       "<style scoped>\n",
       "    .dataframe tbody tr th:only-of-type {\n",
       "        vertical-align: middle;\n",
       "    }\n",
       "\n",
       "    .dataframe tbody tr th {\n",
       "        vertical-align: top;\n",
       "    }\n",
       "\n",
       "    .dataframe thead th {\n",
       "        text-align: right;\n",
       "    }\n",
       "</style>\n",
       "<table border=\"1\" class=\"dataframe\">\n",
       "  <thead>\n",
       "    <tr style=\"text-align: right;\">\n",
       "      <th></th>\n",
       "      <th>num</th>\n",
       "    </tr>\n",
       "  </thead>\n",
       "  <tbody>\n",
       "    <tr>\n",
       "      <th>count</th>\n",
       "      <td>71.000000</td>\n",
       "    </tr>\n",
       "    <tr>\n",
       "      <th>mean</th>\n",
       "      <td>622.619718</td>\n",
       "    </tr>\n",
       "    <tr>\n",
       "      <th>std</th>\n",
       "      <td>1017.688759</td>\n",
       "    </tr>\n",
       "    <tr>\n",
       "      <th>min</th>\n",
       "      <td>37.000000</td>\n",
       "    </tr>\n",
       "    <tr>\n",
       "      <th>25%</th>\n",
       "      <td>119.000000</td>\n",
       "    </tr>\n",
       "    <tr>\n",
       "      <th>50%</th>\n",
       "      <td>233.000000</td>\n",
       "    </tr>\n",
       "    <tr>\n",
       "      <th>75%</th>\n",
       "      <td>580.500000</td>\n",
       "    </tr>\n",
       "    <tr>\n",
       "      <th>max</th>\n",
       "      <td>5782.000000</td>\n",
       "    </tr>\n",
       "  </tbody>\n",
       "</table>\n",
       "</div>"
      ],
      "text/plain": [
       "               num\n",
       "count    71.000000\n",
       "mean    622.619718\n",
       "std    1017.688759\n",
       "min      37.000000\n",
       "25%     119.000000\n",
       "50%     233.000000\n",
       "75%     580.500000\n",
       "max    5782.000000"
      ]
     },
     "execution_count": 22,
     "metadata": {},
     "output_type": "execute_result"
    }
   ],
   "source": [
    "tag_df = pd.DataFrame(data=cnt.items(),columns=[\"tags\",\"num\"])\n",
    "tag_df.sort_values(by=\"num\",ascending=False,inplace=True)\n",
    "tag_df.describe()"
   ]
  },
  {
   "cell_type": "code",
   "execution_count": 23,
   "metadata": {
    "colab": {
     "base_uri": "https://localhost:8080/",
     "height": 611
    },
    "colab_type": "code",
    "id": "ZXM4AZjWO2P5",
    "outputId": "48a48013-a5c4-448c-b0d0-d402c8f954cd"
   },
   "outputs": [
    {
     "data": {
      "image/png": "[encoded data removed]",
      "text/plain": [
       "<Figure size 1440x576 with 1 Axes>"
      ]
     },
     "metadata": {},
     "output_type": "display_data"
    }
   ],
   "source": [
    "sns.set()\n",
    "plt.figure(figsize=(20,8))\n",
    "sns.barplot(x = \"tags\",y = \"num\",data=tag_df)\n",
    "plt.xticks(rotation='vertical')\n",
    "plt.title(\"Plot of count vs tags\")\n",
    "plt.show()"
   ]
  },
  {
   "cell_type": "code",
   "execution_count": 24,
   "metadata": {},
   "outputs": [
    {
     "data": {
      "image/png": "[encoded data removed]",
      "text/plain": [
       "<Figure size 1440x576 with 1 Axes>"
      ]
     },
     "metadata": {},
     "output_type": "display_data"
    }
   ],
   "source": [
    "sns.set()\n",
    "plt.figure(figsize=(20,8))\n",
    "sns.barplot(x = \"tags\",y = \"num\",data=tag_df)\n",
    "plt.xticks(rotation='vertical')\n",
    "plt.title(\"Plot of least tags\")\n",
    "plt.show()"
   ]
  },
  {
   "cell_type": "code",
   "execution_count": 25,
   "metadata": {
    "colab": {
     "base_uri": "https://localhost:8080/",
     "height": 68
    },
    "colab_type": "code",
    "id": "KbOVLn3XO2P9",
    "outputId": "b8a636b4-51b8-49d0-eb0e-18c8377cc5b9"
   },
   "outputs": [
    {
     "name": "stdout",
     "output_type": "stream",
     "text": [
      "Top 10 most occuring tags \n",
      "\n",
      "[('murder', 5782), ('violence', 4426), ('flashback', 2937), ('romantic', 2906), ('cult', 2647), ('revenge', 2468), ('psychedelic', 1897), ('comedy', 1859), ('suspenseful', 1086), ('goodversusevil', 875)]\n"
     ]
    }
   ],
   "source": [
    "print(\"Top 10 most occuring tags \\n\")\n",
    "print(cnt.most_common(10))"
   ]
  },
  {
   "cell_type": "code",
   "execution_count": 26,
   "metadata": {
    "colab": {
     "base_uri": "https://localhost:8080/",
     "height": 34
    },
    "colab_type": "code",
    "id": "i8ty048LO2P_",
    "outputId": "45968697-f780-4f43-bc2e-84feeaf29f26"
   },
   "outputs": [
    {
     "name": "stdout",
     "output_type": "stream",
     "text": [
      "Total number of unique tags 71\n"
     ]
    }
   ],
   "source": [
    "total_tags = list(set(tags))\n",
    "print(\"Total number of unique tags {}\".format(len(total_tags)))"
   ]
  },
  {
   "cell_type": "markdown",
   "metadata": {
    "colab_type": "text",
    "id": "g5JnRC5vO2QC"
   },
   "source": [
    "**Distribution of top 50 tags**"
   ]
  },
  {
   "cell_type": "code",
   "execution_count": 27,
   "metadata": {
    "colab": {
     "base_uri": "https://localhost:8080/",
     "height": 594
    },
    "colab_type": "code",
    "id": "hl6KPJn9O2QD",
    "outputId": "2e22d64b-067d-4c22-ff94-1e1f40cde5fc"
   },
   "outputs": [
    {
     "data": {
      "image/png": "[encoded data removed]",
      "text/plain": [
       "<Figure size 1440x576 with 1 Axes>"
      ]
     },
     "metadata": {},
     "output_type": "display_data"
    }
   ],
   "source": [
    "sns.set()\n",
    "plt.figure(figsize=(20,8))\n",
    "sns.barplot(x = \"tags\",y = \"num\",data=tag_df[:50])\n",
    "plt.xticks(rotation='vertical')\n",
    "plt.title(\"Distribution of top 50 tags\",)\n",
    "plt.show()"
   ]
  },
  {
   "cell_type": "markdown",
   "metadata": {
    "colab_type": "text",
    "id": "ktQlHnZCO2QI"
   },
   "source": [
    "#### About tags:\n",
    "- murder is the most frequent tag with frequency of 5646\n",
    "- whimsical\t is the least frequent tag with least frequeny of 2\n",
    "- Total number of **71 unique tags are present.**"
   ]
  },
  {
   "cell_type": "markdown",
   "metadata": {
    "colab_type": "text",
    "id": "zOjaj_gQO2QJ"
   },
   "source": [
    "**WordCloud Plot**"
   ]
  },
  {
   "cell_type": "code",
   "execution_count": 28,
   "metadata": {
    "colab": {
     "base_uri": "https://localhost:8080/",
     "height": 51
    },
    "colab_type": "code",
    "id": "zh82ToSrO2QJ",
    "outputId": "d76d3e0c-ae9f-4d58-f13f-c4c913e3b5f9"
   },
   "outputs": [],
   "source": [
    "def Plot_wordcloud(word):\n",
    "    \n",
    "    \"\"\"\n",
    "     Function for plotting wordcloud.\n",
    "    \"\"\"\n",
    "    wordcloud = WordCloud(width = 800, height = 800, background_color ='white', stopwords = stop_words,\n",
    "                          min_font_size = 10).generate(word) \n",
    "    # plot the WordCloud image                        \n",
    "    plt.figure(figsize = (8,8), facecolor = None) \n",
    "    plt.imshow(wordcloud) \n",
    "    plt.axis(\"off\") \n",
    "    plt.tight_layout(pad = 0)\n",
    "    plt.title(\"Word Cloud Plot for tags\")\n",
    "    plt.show()"
   ]
  },
  {
   "cell_type": "code",
   "execution_count": 29,
   "metadata": {
    "colab": {
     "base_uri": "https://localhost:8080/",
     "height": 630
    },
    "colab_type": "code",
    "id": "CRIAeXbhO2QL",
    "outputId": "e609025d-1f68-41b1-beb8-cbc985f630cb"
   },
   "outputs": [
    {
     "name": "stdout",
     "output_type": "stream",
     "text": [
      "Word Cloud plot for tags\n"
     ]
    },
    {
     "data": {
      "image/png": "[encoded data removed]",
      "text/plain": [
       "<Figure size 576x576 with 1 Axes>"
      ]
     },
     "metadata": {},
     "output_type": "display_data"
    }
   ],
   "source": [
    "words = \" \"\n",
    "for ew in df[\"clean_tags\"]:\n",
    "    for w in ew:\n",
    "        words = words+ \" \"+ w\n",
    "    \n",
    "# plotting word cloud\n",
    "print(\"Word Cloud plot for tags\")\n",
    "Plot_wordcloud(words)"
   ]
  },
  {
   "cell_type": "markdown",
   "metadata": {},
   "source": [
    "### 2. EDA on Movie_plots"
   ]
  },
  {
   "cell_type": "code",
   "execution_count": 30,
   "metadata": {},
   "outputs": [],
   "source": [
    "import nltk\n",
    "def freq_words(x, terms = 30):\n",
    "    all_words = ' '.join([text for text in x]) \n",
    "    all_words = all_words.split() \n",
    "    fdist = nltk.FreqDist(all_words) \n",
    "    words_df = pd.DataFrame({'word':list(fdist.keys()), 'count':list(fdist.values())}) \n",
    "  \n",
    "    # selecting top 20 most frequent words \n",
    "    d = words_df.nlargest(columns=\"count\", n = terms) \n",
    "  \n",
    "    # visualize words and frequencies\n",
    "    plt.figure(figsize=(12,15)) \n",
    "    ax = sns.barplot(data=d, x= \"count\", y = \"word\") \n",
    "    ax.set(ylabel = 'Word') \n",
    "    plt.show()\n",
    "  "
   ]
  },
  {
   "cell_type": "code",
   "execution_count": 31,
   "metadata": {
    "scrolled": false
   },
   "outputs": [
    {
     "data": {
      "image/png": "[encoded data removed]",
      "text/plain": [
       "<Figure size 864x1080 with 1 Axes>"
      ]
     },
     "metadata": {},
     "output_type": "display_data"
    }
   ],
   "source": [
    "freq_words(df['clean_synopsis'], 100)"
   ]
  },
  {
   "cell_type": "code",
   "execution_count": 32,
   "metadata": {},
   "outputs": [],
   "source": [
    "from nltk.corpus import stopwords\n",
    "stop_words = set(stopwords.words('english'))"
   ]
  },
  {
   "cell_type": "code",
   "execution_count": 33,
   "metadata": {
    "scrolled": false
   },
   "outputs": [],
   "source": [
    "# function to remove stopwords\n",
    "def remove_stopwords(text):\n",
    "    no_stopword_text = [w for w in text.split() if not w in stop_words]\n",
    "    return ' '.join(no_stopword_text)\n",
    "\n",
    "df['clean_synopsis'] = df['clean_synopsis'].apply(lambda x: remove_stopwords(x))"
   ]
  },
  {
   "cell_type": "code",
   "execution_count": 34,
   "metadata": {
    "scrolled": false
   },
   "outputs": [
    {
     "data": {
      "image/png": "[encoded data removed]",
      "text/plain": [
       "<Figure size 864x1080 with 1 Axes>"
      ]
     },
     "metadata": {},
     "output_type": "display_data"
    }
   ],
   "source": [
    "freq_words(df['clean_synopsis'], 100)"
   ]
  },
  {
   "cell_type": "code",
   "execution_count": 35,
   "metadata": {},
   "outputs": [
    {
     "data": {
      "text/html": [
       "<div>\n",
       "<style scoped>\n",
       "    .dataframe tbody tr th:only-of-type {\n",
       "        vertical-align: middle;\n",
       "    }\n",
       "\n",
       "    .dataframe tbody tr th {\n",
       "        vertical-align: top;\n",
       "    }\n",
       "\n",
       "    .dataframe thead th {\n",
       "        text-align: right;\n",
       "    }\n",
       "</style>\n",
       "<table border=\"1\" class=\"dataframe\">\n",
       "  <thead>\n",
       "    <tr style=\"text-align: right;\">\n",
       "      <th></th>\n",
       "      <th>imdb_id</th>\n",
       "      <th>title</th>\n",
       "      <th>plot_synopsis</th>\n",
       "      <th>tags</th>\n",
       "      <th>split</th>\n",
       "      <th>synopsis_source</th>\n",
       "      <th>clean_synopsis</th>\n",
       "      <th>clean_tags</th>\n",
       "      <th>tag_count</th>\n",
       "      <th>clean_title</th>\n",
       "    </tr>\n",
       "  </thead>\n",
       "  <tbody>\n",
       "    <tr>\n",
       "      <th>0</th>\n",
       "      <td>tt0057603</td>\n",
       "      <td>I tre volti della paura</td>\n",
       "      <td>Note: this synopsis is for the orginal Italian release with the segments in this certain order.Boris Karloff introduces three horror tales of the macabre and the supernatural known as the 'Three Faces of Fear'.THE TELEPHONERosy (Michele Mercier) is an attractive, high-priced Parisian call-girl w...</td>\n",
       "      <td>cult, horror, gothic, murder, atmospheric</td>\n",
       "      <td>train</td>\n",
       "      <td>imdb</td>\n",
       "      <td>note synopsis orginal italian release segments certain order boris karloff introduces three horror tales macabre supernatural known three faces fear telephonerosy michele mercier attractive high priced parisian call girl returns spacious basement apartment evening immediately gets beset series s...</td>\n",
       "      <td>[cult, horror, gothic, murder, atmospheric]</td>\n",
       "      <td>5</td>\n",
       "      <td>i tre volti della paura</td>\n",
       "    </tr>\n",
       "    <tr>\n",
       "      <th>1</th>\n",
       "      <td>tt1733125</td>\n",
       "      <td>Dungeons &amp; Dragons: The Book of Vile Darkness</td>\n",
       "      <td>Two thousand years ago, Nhagruul the Foul, a sorcerer who reveled in corrupting the innocent and the spread of despair, neared the end of his mortal days and was dismayed. Consumed by hatred for the living, Nhagruul sold his soul to the demon Lords of the abyss so that his malign spirit would su...</td>\n",
       "      <td>violence</td>\n",
       "      <td>train</td>\n",
       "      <td>imdb</td>\n",
       "      <td>two thousand years ago nhagruul foul sorcerer reveled corrupting innocent spread despair neared end mortal days dismayed consumed hatred living nhagruul sold soul demon lords abyss malign spirit would survive excruciating ritual nhagrulls skin flayed pages bones hammered cover diseased blood bec...</td>\n",
       "      <td>[violence]</td>\n",
       "      <td>1</td>\n",
       "      <td>dungeons dragons the book vile darkness</td>\n",
       "    </tr>\n",
       "    <tr>\n",
       "      <th>2</th>\n",
       "      <td>tt0033045</td>\n",
       "      <td>The Shop Around the Corner</td>\n",
       "      <td>Matuschek's, a gift store in Budapest, is the workplace of Alfred Kralik (James Stewart) and the newly hi Ed\\nKlara Novak (Margaret Sullavan). At work they constantly irritate each other, but this daily aggravation is tempered by the fact that each has a secret pen pal with which they trade long...</td>\n",
       "      <td>romantic</td>\n",
       "      <td>test</td>\n",
       "      <td>imdb</td>\n",
       "      <td>matuschek gift store budapest workplace alfred kralik james stewart newly hi ed klara novak margaret sullavan work constantly irritate daily aggravation tempered fact secret pen pal trade long soul searching letters romantic correspondence sent back forth alfred klara trade barbs work dream some...</td>\n",
       "      <td>[romantic]</td>\n",
       "      <td>1</td>\n",
       "      <td>the shop around corner</td>\n",
       "    </tr>\n",
       "    <tr>\n",
       "      <th>3</th>\n",
       "      <td>tt0113862</td>\n",
       "      <td>Mr. Holland's Opus</td>\n",
       "      <td>Glenn Holland, not a morning person by anyone's standards, is woken up by his wife Iris early one bright September morning in 1964. Glenn has taken a job as a music teacher at the newly renamed John F. Kennedy High School. He intends his job to be a sabbatical from being a touring musician, duri...</td>\n",
       "      <td>inspiring, romantic, stupid, feel-good</td>\n",
       "      <td>train</td>\n",
       "      <td>imdb</td>\n",
       "      <td>glenn holland morning person anyone standards woken wife iris early one bright september morning 1964 glenn taken job music teacher newly renamed john f kennedy high school intends job sabbatical touring musician hopes free time compose however soon finds job teacher time consuming first thought...</td>\n",
       "      <td>[inspiring, romantic, stupid, feel-good]</td>\n",
       "      <td>4</td>\n",
       "      <td>mr holland opus</td>\n",
       "    </tr>\n",
       "    <tr>\n",
       "      <th>4</th>\n",
       "      <td>tt0086250</td>\n",
       "      <td>Scarface</td>\n",
       "      <td>In May 1980, a Cuban man named Tony Montana (Al Pacino) claims asylum, in Florida, USA, and is in search of the \"American Dream\" after departing Cuba in the Mariel boatlift of 1980. When questioned by three tough-talking INS officials, they notice a tattoo on Tony's left arm of a black heart wit...</td>\n",
       "      <td>cruelty, murder, dramatic, cult, violence, atmospheric, action, romantic, revenge, sadist</td>\n",
       "      <td>val</td>\n",
       "      <td>imdb</td>\n",
       "      <td>may 1980 cuban man named tony montana al pacino claims asylum florida usa search american dream departing cuba mariel boatlift 1980 questioned three tough talking ins officials notice tattoo tony left arm black heart pitchfork identifies hitman detain camp called freedomtown cubans including ton...</td>\n",
       "      <td>[cruelty, murder, dramatic, cult, violence, atmospheric, action, romantic, revenge, sadist]</td>\n",
       "      <td>10</td>\n",
       "      <td>scarface</td>\n",
       "    </tr>\n",
       "  </tbody>\n",
       "</table>\n",
       "</div>"
      ],
      "text/plain": [
       "     imdb_id                                          title  \\\n",
       "0  tt0057603                        I tre volti della paura   \n",
       "1  tt1733125  Dungeons & Dragons: The Book of Vile Darkness   \n",
       "2  tt0033045                     The Shop Around the Corner   \n",
       "3  tt0113862                             Mr. Holland's Opus   \n",
       "4  tt0086250                                       Scarface   \n",
       "\n",
       "                                                                                                                                                                                                                                                                                                 plot_synopsis  \\\n",
       "0  Note: this synopsis is for the orginal Italian release with the segments in this certain order.Boris Karloff introduces three horror tales of the macabre and the supernatural known as the 'Three Faces of Fear'.THE TELEPHONERosy (Michele Mercier) is an attractive, high-priced Parisian call-girl w...   \n",
       "1  Two thousand years ago, Nhagruul the Foul, a sorcerer who reveled in corrupting the innocent and the spread of despair, neared the end of his mortal days and was dismayed. Consumed by hatred for the living, Nhagruul sold his soul to the demon Lords of the abyss so that his malign spirit would su...   \n",
       "2  Matuschek's, a gift store in Budapest, is the workplace of Alfred Kralik (James Stewart) and the newly hi Ed\\nKlara Novak (Margaret Sullavan). At work they constantly irritate each other, but this daily aggravation is tempered by the fact that each has a secret pen pal with which they trade long...   \n",
       "3  Glenn Holland, not a morning person by anyone's standards, is woken up by his wife Iris early one bright September morning in 1964. Glenn has taken a job as a music teacher at the newly renamed John F. Kennedy High School. He intends his job to be a sabbatical from being a touring musician, duri...   \n",
       "4  In May 1980, a Cuban man named Tony Montana (Al Pacino) claims asylum, in Florida, USA, and is in search of the \"American Dream\" after departing Cuba in the Mariel boatlift of 1980. When questioned by three tough-talking INS officials, they notice a tattoo on Tony's left arm of a black heart wit...   \n",
       "\n",
       "                                                                                        tags  \\\n",
       "0                                                  cult, horror, gothic, murder, atmospheric   \n",
       "1                                                                                   violence   \n",
       "2                                                                                   romantic   \n",
       "3                                                     inspiring, romantic, stupid, feel-good   \n",
       "4  cruelty, murder, dramatic, cult, violence, atmospheric, action, romantic, revenge, sadist   \n",
       "\n",
       "   split synopsis_source  \\\n",
       "0  train            imdb   \n",
       "1  train            imdb   \n",
       "2   test            imdb   \n",
       "3  train            imdb   \n",
       "4    val            imdb   \n",
       "\n",
       "                                                                                                                                                                                                                                                                                                clean_synopsis  \\\n",
       "0  note synopsis orginal italian release segments certain order boris karloff introduces three horror tales macabre supernatural known three faces fear telephonerosy michele mercier attractive high priced parisian call girl returns spacious basement apartment evening immediately gets beset series s...   \n",
       "1  two thousand years ago nhagruul foul sorcerer reveled corrupting innocent spread despair neared end mortal days dismayed consumed hatred living nhagruul sold soul demon lords abyss malign spirit would survive excruciating ritual nhagrulls skin flayed pages bones hammered cover diseased blood bec...   \n",
       "2  matuschek gift store budapest workplace alfred kralik james stewart newly hi ed klara novak margaret sullavan work constantly irritate daily aggravation tempered fact secret pen pal trade long soul searching letters romantic correspondence sent back forth alfred klara trade barbs work dream some...   \n",
       "3  glenn holland morning person anyone standards woken wife iris early one bright september morning 1964 glenn taken job music teacher newly renamed john f kennedy high school intends job sabbatical touring musician hopes free time compose however soon finds job teacher time consuming first thought...   \n",
       "4  may 1980 cuban man named tony montana al pacino claims asylum florida usa search american dream departing cuba mariel boatlift 1980 questioned three tough talking ins officials notice tattoo tony left arm black heart pitchfork identifies hitman detain camp called freedomtown cubans including ton...   \n",
       "\n",
       "                                                                                    clean_tags  \\\n",
       "0                                                  [cult, horror, gothic, murder, atmospheric]   \n",
       "1                                                                                   [violence]   \n",
       "2                                                                                   [romantic]   \n",
       "3                                                     [inspiring, romantic, stupid, feel-good]   \n",
       "4  [cruelty, murder, dramatic, cult, violence, atmospheric, action, romantic, revenge, sadist]   \n",
       "\n",
       "   tag_count                              clean_title  \n",
       "0          5                  i tre volti della paura  \n",
       "1          1  dungeons dragons the book vile darkness  \n",
       "2          1                   the shop around corner  \n",
       "3          4                          mr holland opus  \n",
       "4         10                                 scarface  "
      ]
     },
     "execution_count": 35,
     "metadata": {},
     "output_type": "execute_result"
    }
   ],
   "source": [
    "df.head()"
   ]
  },
  {
   "cell_type": "code",
   "execution_count": 36,
   "metadata": {},
   "outputs": [],
   "source": [
    "from sklearn.preprocessing import MultiLabelBinarizer\n",
    "\n",
    "multilabel_binarizer = MultiLabelBinarizer()\n",
    "multilabel_binarizer.fit(df['clean_tags'])\n",
    "\n",
    "# transform target variable\n",
    "y = multilabel_binarizer.transform(df['clean_tags'])"
   ]
  },
  {
   "cell_type": "code",
   "execution_count": 37,
   "metadata": {},
   "outputs": [
    {
     "data": {
      "text/plain": [
       "(14828, 71)"
      ]
     },
     "execution_count": 37,
     "metadata": {},
     "output_type": "execute_result"
    }
   ],
   "source": [
    "y.shape"
   ]
  },
  {
   "cell_type": "markdown",
   "metadata": {
    "colab_type": "text",
    "id": "5ThzR47CO2QO"
   },
   "source": [
    "## Data Splitting"
   ]
  },
  {
   "cell_type": "markdown",
   "metadata": {
    "colab_type": "text",
    "id": "BISQ83aNO2QQ"
   },
   "source": [
    "- Since imdb_id and synopsis_source dont have much relation with output label tags\n",
    "- Tags of the movie has very much dependancy on plot_synopsis and litlte bit on title."
   ]
  },
  {
   "cell_type": "code",
   "execution_count": 38,
   "metadata": {
    "colab": {
     "base_uri": "https://localhost:8080/",
     "height": 68
    },
    "colab_type": "code",
    "id": "QXZrJMbrO2QQ",
    "outputId": "1526ef90-a3a6-43f3-ca64-ee1813f5be8a"
   },
   "outputs": [
    {
     "data": {
      "text/plain": [
       "Index(['imdb_id', 'title', 'plot_synopsis', 'tags', 'split', 'synopsis_source',\n",
       "       'clean_synopsis', 'clean_tags', 'tag_count', 'clean_title'],\n",
       "      dtype='object')"
      ]
     },
     "execution_count": 38,
     "metadata": {},
     "output_type": "execute_result"
    }
   ],
   "source": [
    "df.columns"
   ]
  },
  {
   "cell_type": "code",
   "execution_count": 39,
   "metadata": {
    "colab": {},
    "colab_type": "code",
    "id": "gQNQqNCbO2QU"
   },
   "outputs": [],
   "source": [
    "df.drop(['imdb_id', 'title', 'plot_synopsis', 'tags','synopsis_source'],axis = 1,inplace=True)"
   ]
  },
  {
   "cell_type": "code",
   "execution_count": 40,
   "metadata": {
    "colab": {
     "base_uri": "https://localhost:8080/",
     "height": 204
    },
    "colab_type": "code",
    "id": "bqIInvmNO2QX",
    "outputId": "80906031-a913-4d89-9357-3a49b387a98c"
   },
   "outputs": [
    {
     "data": {
      "text/html": [
       "<div>\n",
       "<style scoped>\n",
       "    .dataframe tbody tr th:only-of-type {\n",
       "        vertical-align: middle;\n",
       "    }\n",
       "\n",
       "    .dataframe tbody tr th {\n",
       "        vertical-align: top;\n",
       "    }\n",
       "\n",
       "    .dataframe thead th {\n",
       "        text-align: right;\n",
       "    }\n",
       "</style>\n",
       "<table border=\"1\" class=\"dataframe\">\n",
       "  <thead>\n",
       "    <tr style=\"text-align: right;\">\n",
       "      <th></th>\n",
       "      <th>split</th>\n",
       "      <th>clean_synopsis</th>\n",
       "      <th>clean_tags</th>\n",
       "      <th>tag_count</th>\n",
       "      <th>clean_title</th>\n",
       "    </tr>\n",
       "  </thead>\n",
       "  <tbody>\n",
       "    <tr>\n",
       "      <th>0</th>\n",
       "      <td>train</td>\n",
       "      <td>note synopsis orginal italian release segments certain order boris karloff introduces three horror tales macabre supernatural known three faces fear telephonerosy michele mercier attractive high priced parisian call girl returns spacious basement apartment evening immediately gets beset series s...</td>\n",
       "      <td>[cult, horror, gothic, murder, atmospheric]</td>\n",
       "      <td>5</td>\n",
       "      <td>i tre volti della paura</td>\n",
       "    </tr>\n",
       "    <tr>\n",
       "      <th>1</th>\n",
       "      <td>train</td>\n",
       "      <td>two thousand years ago nhagruul foul sorcerer reveled corrupting innocent spread despair neared end mortal days dismayed consumed hatred living nhagruul sold soul demon lords abyss malign spirit would survive excruciating ritual nhagrulls skin flayed pages bones hammered cover diseased blood bec...</td>\n",
       "      <td>[violence]</td>\n",
       "      <td>1</td>\n",
       "      <td>dungeons dragons the book vile darkness</td>\n",
       "    </tr>\n",
       "    <tr>\n",
       "      <th>2</th>\n",
       "      <td>test</td>\n",
       "      <td>matuschek gift store budapest workplace alfred kralik james stewart newly hi ed klara novak margaret sullavan work constantly irritate daily aggravation tempered fact secret pen pal trade long soul searching letters romantic correspondence sent back forth alfred klara trade barbs work dream some...</td>\n",
       "      <td>[romantic]</td>\n",
       "      <td>1</td>\n",
       "      <td>the shop around corner</td>\n",
       "    </tr>\n",
       "    <tr>\n",
       "      <th>3</th>\n",
       "      <td>train</td>\n",
       "      <td>glenn holland morning person anyone standards woken wife iris early one bright september morning 1964 glenn taken job music teacher newly renamed john f kennedy high school intends job sabbatical touring musician hopes free time compose however soon finds job teacher time consuming first thought...</td>\n",
       "      <td>[inspiring, romantic, stupid, feel-good]</td>\n",
       "      <td>4</td>\n",
       "      <td>mr holland opus</td>\n",
       "    </tr>\n",
       "    <tr>\n",
       "      <th>4</th>\n",
       "      <td>val</td>\n",
       "      <td>may 1980 cuban man named tony montana al pacino claims asylum florida usa search american dream departing cuba mariel boatlift 1980 questioned three tough talking ins officials notice tattoo tony left arm black heart pitchfork identifies hitman detain camp called freedomtown cubans including ton...</td>\n",
       "      <td>[cruelty, murder, dramatic, cult, violence, atmospheric, action, romantic, revenge, sadist]</td>\n",
       "      <td>10</td>\n",
       "      <td>scarface</td>\n",
       "    </tr>\n",
       "  </tbody>\n",
       "</table>\n",
       "</div>"
      ],
      "text/plain": [
       "   split  \\\n",
       "0  train   \n",
       "1  train   \n",
       "2   test   \n",
       "3  train   \n",
       "4    val   \n",
       "\n",
       "                                                                                                                                                                                                                                                                                                clean_synopsis  \\\n",
       "0  note synopsis orginal italian release segments certain order boris karloff introduces three horror tales macabre supernatural known three faces fear telephonerosy michele mercier attractive high priced parisian call girl returns spacious basement apartment evening immediately gets beset series s...   \n",
       "1  two thousand years ago nhagruul foul sorcerer reveled corrupting innocent spread despair neared end mortal days dismayed consumed hatred living nhagruul sold soul demon lords abyss malign spirit would survive excruciating ritual nhagrulls skin flayed pages bones hammered cover diseased blood bec...   \n",
       "2  matuschek gift store budapest workplace alfred kralik james stewart newly hi ed klara novak margaret sullavan work constantly irritate daily aggravation tempered fact secret pen pal trade long soul searching letters romantic correspondence sent back forth alfred klara trade barbs work dream some...   \n",
       "3  glenn holland morning person anyone standards woken wife iris early one bright september morning 1964 glenn taken job music teacher newly renamed john f kennedy high school intends job sabbatical touring musician hopes free time compose however soon finds job teacher time consuming first thought...   \n",
       "4  may 1980 cuban man named tony montana al pacino claims asylum florida usa search american dream departing cuba mariel boatlift 1980 questioned three tough talking ins officials notice tattoo tony left arm black heart pitchfork identifies hitman detain camp called freedomtown cubans including ton...   \n",
       "\n",
       "                                                                                    clean_tags  \\\n",
       "0                                                  [cult, horror, gothic, murder, atmospheric]   \n",
       "1                                                                                   [violence]   \n",
       "2                                                                                   [romantic]   \n",
       "3                                                     [inspiring, romantic, stupid, feel-good]   \n",
       "4  [cruelty, murder, dramatic, cult, violence, atmospheric, action, romantic, revenge, sadist]   \n",
       "\n",
       "   tag_count                              clean_title  \n",
       "0          5                  i tre volti della paura  \n",
       "1          1  dungeons dragons the book vile darkness  \n",
       "2          1                   the shop around corner  \n",
       "3          4                          mr holland opus  \n",
       "4         10                                 scarface  "
      ]
     },
     "execution_count": 40,
     "metadata": {},
     "output_type": "execute_result"
    }
   ],
   "source": [
    "df.head()"
   ]
  },
  {
   "cell_type": "markdown",
   "metadata": {
    "colab_type": "text",
    "id": "sv1lyTbLO2Qb"
   },
   "source": [
    "**splitting data as per split**"
   ]
  },
  {
   "cell_type": "code",
   "execution_count": 41,
   "metadata": {
    "colab": {},
    "colab_type": "code",
    "id": "kSYbPqlQO2Qc"
   },
   "outputs": [],
   "source": [
    "# splitting data as per split\n",
    "test_df,train_df,val_df = df.groupby(by = \"split\")\n",
    "\n",
    "test_df,train_df,val_df = test_df[1],train_df[1],val_df[1]"
   ]
  },
  {
   "cell_type": "code",
   "execution_count": 42,
   "metadata": {
    "colab": {},
    "colab_type": "code",
    "id": "CXZ3vjgMO2Qe"
   },
   "outputs": [],
   "source": [
    "test_df.drop(\"split\",axis=1,inplace=True)\n",
    "train_df.drop(\"split\",axis=1,inplace=True)\n",
    "val_df.drop(\"split\",axis=1,inplace=True)"
   ]
  },
  {
   "cell_type": "code",
   "execution_count": 43,
   "metadata": {
    "colab": {
     "base_uri": "https://localhost:8080/",
     "height": 204
    },
    "colab_type": "code",
    "id": "rF_J3DbNO2Qg",
    "outputId": "ee3f4b60-8f3a-4209-f3e1-1335327d9315",
    "scrolled": true
   },
   "outputs": [
    {
     "name": "stdout",
     "output_type": "stream",
     "text": [
      "(9489, 4)   (9489, 71)\n",
      "(2966, 4)   (2966, 71)\n",
      "(2373, 4)   (2373, 71)\n"
     ]
    }
   ],
   "source": [
    "# multilabel_binarizer fitted on whole data.\n",
    "\n",
    "train_multilabel_y = multilabel_binarizer.transform(train_df['clean_tags'])\n",
    "test_multilabel_y = multilabel_binarizer.transform(test_df['clean_tags'])\n",
    "val_multilabel_y = multilabel_binarizer.transform(val_df['clean_tags'])\n",
    "\n",
    "print(train_df.shape,\" \",train_multilabel_y.shape)\n",
    "print(test_df.shape,\" \",test_multilabel_y.shape)\n",
    "print(val_df.shape,\" \",val_multilabel_y.shape)"
   ]
  },
  {
   "cell_type": "markdown",
   "metadata": {
    "colab_type": "text",
    "id": "hopF9C28O2Qj"
   },
   "source": [
    "## Vectorizing Text data"
   ]
  },
  {
   "cell_type": "markdown",
   "metadata": {
    "colab_type": "text",
    "id": "ep_UE9QIO2Qk"
   },
   "source": [
    "### Plot Synopsis"
   ]
  },
  {
   "cell_type": "markdown",
   "metadata": {
    "colab_type": "text",
    "id": "VJBTXj8lO2Qk"
   },
   "source": [
    "**1. BOW**"
   ]
  },
  {
   "cell_type": "code",
   "execution_count": 44,
   "metadata": {
    "colab": {},
    "colab_type": "code",
    "id": "RMFqzEsmO2Qm"
   },
   "outputs": [
    {
     "name": "stdout",
     "output_type": "stream",
     "text": [
      "(9489, 10000)\n",
      "(2966, 10000)\n",
      "(2373, 10000)\n"
     ]
    }
   ],
   "source": [
    "count_vectorizer = CountVectorizer(min_df=10,max_df=0.8,ngram_range=(1,4),max_features=10000)\n",
    "#fit using train data\n",
    "count_vectorizer.fit(train_df[\"clean_synopsis\"].values)\n",
    "essay_feature = count_vectorizer.get_feature_names()\n",
    "\n",
    "\n",
    "# for train data\n",
    "synopsis_bow = count_vectorizer.transform(train_df[\"clean_synopsis\"].values)\n",
    "# for test data\n",
    "test_synopsis_bow = count_vectorizer.transform(test_df[\"clean_synopsis\"].values)\n",
    "# for val data\n",
    "val_synopsis_bow = count_vectorizer.transform(val_df[\"clean_synopsis\"].values)\n",
    "\n",
    "print(synopsis_bow.shape)\n",
    "print(test_synopsis_bow.shape)\n",
    "print(val_synopsis_bow.shape)"
   ]
  },
  {
   "cell_type": "markdown",
   "metadata": {
    "colab_type": "text",
    "id": "GMEAkfuAO2Qs"
   },
   "source": [
    "**2. TFIDF**"
   ]
  },
  {
   "cell_type": "code",
   "execution_count": 45,
   "metadata": {
    "colab": {},
    "colab_type": "code",
    "id": "Qlg385uqO2Qt"
   },
   "outputs": [
    {
     "name": "stdout",
     "output_type": "stream",
     "text": [
      "(9489, 10000)\n",
      "(2966, 10000)\n",
      "(2373, 10000)\n"
     ]
    }
   ],
   "source": [
    "tfidf_vectorizer = TfidfVectorizer(min_df=10,max_df=0.8,ngram_range=(1,4),max_features=10000)\n",
    "#fit using train data\n",
    "tfidf_vectorizer.fit(train_df[\"clean_synopsis\"].values)\n",
    "\n",
    "# for train data\n",
    "synopsis_tfidf = tfidf_vectorizer.transform(train_df[\"clean_synopsis\"].values)\n",
    "# for test data\n",
    "test_synopsis_tfidf = tfidf_vectorizer.transform(test_df[\"clean_synopsis\"].values)\n",
    "# for val data\n",
    "val_synopsis_tfidf = tfidf_vectorizer.transform(val_df[\"clean_synopsis\"].values)\n",
    "\n",
    "\n",
    "print(synopsis_tfidf.shape)\n",
    "print(test_synopsis_tfidf.shape)\n",
    "print(val_synopsis_tfidf.shape)"
   ]
  },
  {
   "cell_type": "markdown",
   "metadata": {
    "colab_type": "text",
    "id": "rwkY9ap5O2Qv"
   },
   "source": [
    "**3. Avg W2V**"
   ]
  },
  {
   "cell_type": "code",
   "execution_count": 46,
   "metadata": {
    "colab": {},
    "colab_type": "code",
    "id": "jwlDO3C7O2Qw"
   },
   "outputs": [],
   "source": [
    "# using standard glove vector file. A file containing 6B words.\n",
    "\n",
    "import pandas as pd\n",
    "import csv\n",
    "\n",
    "words = pd.read_table(\"glove.6B.300d.txt\", sep=\" \", index_col=0, header=None, quoting=csv.QUOTE_NONE)"
   ]
  },
  {
   "cell_type": "code",
   "execution_count": 47,
   "metadata": {},
   "outputs": [],
   "source": [
    "def vec(w):\n",
    "    \"\"\"\n",
    "    This function returns 300 dimetional vector for a given word.\n",
    "    \"\"\"\n",
    "    return words.loc[w].as_matrix()"
   ]
  },
  {
   "cell_type": "code",
   "execution_count": 49,
   "metadata": {},
   "outputs": [],
   "source": [
    "# using all the words from countvectorizer get_feature_names.\n",
    "# as using all the words form training data was taking approx. 1 day to process.\n",
    "\n",
    "model = {}\n",
    "for word in count_vectorizer.get_feature_names():\n",
    "    if word in words.index.values:\n",
    "        model[word] = vec(word)"
   ]
  },
  {
   "cell_type": "code",
   "execution_count": 50,
   "metadata": {
    "colab": {},
    "colab_type": "code",
    "id": "7JKl5wrkO2Qy",
    "outputId": "9c1d7d85-be34-4e7c-88ed-cd648801cb3a",
    "scrolled": true
   },
   "outputs": [
    {
     "name": "stdout",
     "output_type": "stream",
     "text": [
      "Completed for tain..\n",
      "\n",
      "9489\n",
      "300\n",
      "**********************************************************************\n",
      "Completed for test...\n",
      "\n",
      "2966\n",
      "300\n",
      "**********************************************************************\n",
      "completed for val...\n",
      "\n",
      "2373\n",
      "300\n",
      "**********************************************************************\n"
     ]
    }
   ],
   "source": [
    "# for train data\n",
    "avg_w2v_vectors = []; # the avg-w2v for each sentence/review is stored in this list\n",
    "for sentence in train_df[\"clean_synopsis\"].values: # for each review/sentence\n",
    "    vector = np.zeros(300) # as word vectors are of zero length\n",
    "    cnt_words =0; # num of words with a valid vector in the sentence/review\n",
    "    for word in sentence.split(): # for each word in a review/sentence\n",
    "        if word in model:\n",
    "            vector += model[word]\n",
    "            cnt_words += 1\n",
    "    if cnt_words != 0:\n",
    "        vector /= cnt_words\n",
    "    avg_w2v_vectors.append(vector)\n",
    "print(\"Completed for tain..\\n\")\n",
    "print(len(avg_w2v_vectors))\n",
    "print(len(avg_w2v_vectors[0]))\n",
    "print(\"*\"*70)\n",
    "    \n",
    "# for test data\n",
    "test_avg_w2v_vectors = [] # the avg-w2v for each sentence/review is stored in this list\n",
    "for sentence in test_df[\"clean_synopsis\"].values: # for each review/sentence\n",
    "    vector = np.zeros(300) # as word vectors are of zero length\n",
    "    cnt_words =0; # num of words with a valid vector in the sentence/review\n",
    "    for word in sentence.split(): # for each word in a review/sentence\n",
    "        if word in model:\n",
    "            vector += model[word]\n",
    "            cnt_words += 1\n",
    "    if cnt_words != 0:\n",
    "        vector /= cnt_words\n",
    "    test_avg_w2v_vectors.append(vector)\n",
    "print(\"Completed for test...\\n\")\n",
    "print(len(test_avg_w2v_vectors))\n",
    "print(len(test_avg_w2v_vectors[0]))\n",
    "print(\"*\"*70)\n",
    "\n",
    "# for val data\n",
    "val_avg_w2v_vectors = [] # the avg-w2v for each sentence/review is stored in this list\n",
    "for sentence in val_df[\"clean_synopsis\"].values: # for each review/sentence\n",
    "    vector = np.zeros(300) # as word vectors are of zero length\n",
    "    cnt_words =0; # num of words with a valid vector in the sentence/review\n",
    "    for word in sentence.split(): # for each word in a review/sentence\n",
    "        if word in model:\n",
    "            vector += model[word]\n",
    "            cnt_words += 1\n",
    "    if cnt_words != 0:\n",
    "        vector /= cnt_words\n",
    "    val_avg_w2v_vectors.append(vector)\n",
    "print(\"completed for val...\\n\")\n",
    "print(len(val_avg_w2v_vectors))\n",
    "print(len(val_avg_w2v_vectors[0]))\n",
    "print(\"*\"*70)"
   ]
  },
  {
   "cell_type": "markdown",
   "metadata": {
    "colab_type": "text",
    "id": "5frfFxbfO2Q5"
   },
   "source": [
    "**4. TFIDF Avg W2V**"
   ]
  },
  {
   "cell_type": "code",
   "execution_count": 51,
   "metadata": {},
   "outputs": [],
   "source": [
    "# using all the words from tfidfvectorizer get_feature_names.\n",
    "# as using all the words form training data was taking approx. 1 day to process.\n",
    "\n",
    "model = {}\n",
    "for word in tfidf_vectorizer.get_feature_names():\n",
    "    if word in words.index.values:\n",
    "        model[word] = vec(word)"
   ]
  },
  {
   "cell_type": "code",
   "execution_count": 52,
   "metadata": {},
   "outputs": [
    {
     "name": "stdout",
     "output_type": "stream",
     "text": [
      "9489\n",
      "300\n"
     ]
    }
   ],
   "source": [
    "# for train data\n",
    "tfidf_model = TfidfVectorizer()\n",
    "tfidf_model.fit(train_df[\"clean_synopsis\"].values)\n",
    "# we are converting a dictionary with word as a key, and the idf as a value\n",
    "dictionary = dict(zip(tfidf_model.get_feature_names(), list(tfidf_model.idf_)))\n",
    "tfidf_words = set(tfidf_model.get_feature_names())\n",
    "\n",
    "tfidf_w2v_vectors = []; # the avg-w2v for each sentence/review is stored in this list\n",
    "for sentence in train_df[\"clean_synopsis\"].values: # for each review/sentence\n",
    "    vector = np.zeros(300) # as word vectors are of zero length\n",
    "    tf_idf_weight =0; # num of words with a valid vector in the sentence/review\n",
    "    for word in sentence.split(): # for each word in a review/sentence\n",
    "        if (word in model) and (word in tfidf_words):\n",
    "            vect = model[word] # getting the vector for each word\n",
    "            # here we are multiplying idf value(dictionary[word]) and the tf value((sentence.count(word)/len(sentence.split())))\n",
    "            tf_idf = dictionary[word]*(sentence.count(word)/len(sentence.split())) # getting the tfidf value for each word\n",
    "            vector += (vect * tf_idf) # calculating tfidf weighted w2v\n",
    "            tf_idf_weight += tf_idf\n",
    "    if tf_idf_weight != 0:\n",
    "        vector /= tf_idf_weight\n",
    "    tfidf_w2v_vectors.append(vector)\n",
    "\n",
    "print(len(tfidf_w2v_vectors))\n",
    "print(len(tfidf_w2v_vectors[0]))"
   ]
  },
  {
   "cell_type": "code",
   "execution_count": 53,
   "metadata": {
    "colab": {},
    "colab_type": "code",
    "id": "_r7MIHaIO2Q6",
    "outputId": "ffa8c2d8-5a4f-4f33-e4d6-3e4d5b875916"
   },
   "outputs": [
    {
     "name": "stderr",
     "output_type": "stream",
     "text": [
      "100%|██████████████████████████████████████████████████████████████████████████████| 2966/2966 [01:36<00:00, 30.60it/s]\n"
     ]
    },
    {
     "name": "stdout",
     "output_type": "stream",
     "text": [
      "2966\n",
      "300\n"
     ]
    },
    {
     "name": "stderr",
     "output_type": "stream",
     "text": [
      "100%|██████████████████████████████████████████████████████████████████████████████| 2373/2373 [01:26<00:00, 27.46it/s]\n"
     ]
    },
    {
     "name": "stdout",
     "output_type": "stream",
     "text": [
      "2373\n",
      "300\n"
     ]
    }
   ],
   "source": [
    "\n",
    "# for test data\n",
    "test_tfidf_w2v_vectors = []; # the avg-w2v for each sentence/review is stored in this list\n",
    "for sentence in tqdm(test_df[\"clean_synopsis\"].values): # for each review/sentence\n",
    "    vector = np.zeros(300) # as word vectors are of zero length\n",
    "    tf_idf_weight =0; # num of words with a valid vector in the sentence/review\n",
    "    for word in sentence.split(): # for each word in a review/sentence\n",
    "        if (word in model) and (word in tfidf_words):\n",
    "            vect = model[word] # getting the vector for each word\n",
    "            # here we are multiplying idf value(dictionary[word]) and the tf value((sentence.count(word)/len(sentence.split())))\n",
    "            tf_idf = dictionary[word]*(sentence.count(word)/len(sentence.split())) # getting the tfidf value for each word\n",
    "            vector += (vect * tf_idf) # calculating tfidf weighted w2v\n",
    "            tf_idf_weight += tf_idf\n",
    "    if tf_idf_weight != 0:\n",
    "        vector /= tf_idf_weight\n",
    "    test_tfidf_w2v_vectors.append(vector)\n",
    "\n",
    "print(len(test_tfidf_w2v_vectors))\n",
    "print(len(test_tfidf_w2v_vectors[0]))\n",
    "\n",
    "\n",
    "# for val data\n",
    "val_tfidf_w2v_vectors = []; # the avg-w2v for each sentence/review is stored in this list\n",
    "for sentence in tqdm(val_df[\"clean_synopsis\"].values): # for each review/sentence\n",
    "    vector = np.zeros(300) # as word vectors are of zero length\n",
    "    tf_idf_weight =0; # num of words with a valid vector in the sentence/review\n",
    "    for word in sentence.split(): # for each word in a review/sentence\n",
    "        if (word in model) and (word in tfidf_words):\n",
    "            vect = model[word] # getting the vector for each word\n",
    "            # here we are multiplying idf value(dictionary[word]) and the tf value((sentence.count(word)/len(sentence.split())))\n",
    "            tf_idf = dictionary[word]*(sentence.count(word)/len(sentence.split())) # getting the tfidf value for each word\n",
    "            vector += (vect * tf_idf) # calculating tfidf weighted w2v\n",
    "            tf_idf_weight += tf_idf\n",
    "    if tf_idf_weight != 0:\n",
    "        vector /= tf_idf_weight\n",
    "    val_tfidf_w2v_vectors.append(vector)\n",
    "\n",
    "print(len(val_tfidf_w2v_vectors))\n",
    "print(len(val_tfidf_w2v_vectors[0]))"
   ]
  },
  {
   "cell_type": "markdown",
   "metadata": {
    "colab_type": "text",
    "id": "eCVuk4V_O2RA"
   },
   "source": [
    "### 2. Title"
   ]
  },
  {
   "cell_type": "markdown",
   "metadata": {
    "colab_type": "text",
    "id": "8p8R9HB4O2RA"
   },
   "source": [
    "**1. BOW**"
   ]
  },
  {
   "cell_type": "code",
   "execution_count": 48,
   "metadata": {
    "colab": {},
    "colab_type": "code",
    "id": "yPgxWljkO2RB"
   },
   "outputs": [],
   "source": [
    "title_count_vectorizer = CountVectorizer(max_df=0.8,ngram_range=(1,4),max_features=10000)\n",
    "#fit using train data\n",
    "title_count_vectorizer.fit(train_df[\"clean_title\"].values)\n",
    "\n",
    "\n",
    "# for train data\n",
    "title_bow = title_count_vectorizer.transform(train_df[\"clean_title\"].values)\n",
    "# for test data\n",
    "test_title_bow = title_count_vectorizer.transform(test_df[\"clean_title\"].values)\n",
    "# for val data\n",
    "val_title_bow = title_count_vectorizer.transform(val_df[\"clean_title\"].values)\n"
   ]
  },
  {
   "cell_type": "markdown",
   "metadata": {
    "colab_type": "text",
    "id": "38EeteKCO2RE"
   },
   "source": [
    "**2. TFIDF**"
   ]
  },
  {
   "cell_type": "code",
   "execution_count": 49,
   "metadata": {
    "colab": {},
    "colab_type": "code",
    "id": "I72WVjB3O2RF"
   },
   "outputs": [],
   "source": [
    "title_tfidf_vectorizer = TfidfVectorizer(max_df=0.8,ngram_range=(1,4),max_features=10000)\n",
    "#fit using train data\n",
    "title_tfidf_vectorizer.fit(train_df[\"clean_title\"].values)\n",
    "\n",
    "# for train data\n",
    "title_tfidf = title_tfidf_vectorizer.transform(train_df[\"clean_title\"].values)\n",
    "# for test data\n",
    "test_title_tfidf = title_tfidf_vectorizer.transform(test_df[\"clean_title\"].values)\n",
    "# for val data\n",
    "val_title_tfidf = title_tfidf_vectorizer.transform(val_df[\"clean_title\"].values)\n",
    "\n"
   ]
  },
  {
   "cell_type": "markdown",
   "metadata": {},
   "source": [
    "**3. Avg W2V**"
   ]
  },
  {
   "cell_type": "code",
   "execution_count": 56,
   "metadata": {},
   "outputs": [],
   "source": [
    "# using all the words from countvectorizer get_feature_names.\n",
    "# as using all the words form training data was taking approx. 1 day to process.\n",
    "\n",
    "model = {}\n",
    "for word in title_count_vectorizer.get_feature_names():\n",
    "    if word in words.index.values:\n",
    "        model[word] = vec(word)"
   ]
  },
  {
   "cell_type": "code",
   "execution_count": 57,
   "metadata": {},
   "outputs": [
    {
     "name": "stdout",
     "output_type": "stream",
     "text": [
      "Completed for tain..\n",
      "\n",
      "9489\n",
      "300\n",
      "**********************************************************************\n",
      "Completed for test...\n",
      "\n",
      "2966\n",
      "300\n",
      "**********************************************************************\n",
      "completed for val...\n",
      "\n",
      "2373\n",
      "300\n",
      "**********************************************************************\n"
     ]
    }
   ],
   "source": [
    "# for train data\n",
    "title_avg_w2v_vectors = []; # the avg-w2v for each sentence/review is stored in this list\n",
    "for sentence in train_df[\"clean_title\"].values: # for each review/sentence\n",
    "    vector = np.zeros(300) # as word vectors are of zero length\n",
    "    cnt_words =0; # num of words with a valid vector in the sentence/review\n",
    "    for word in sentence.split(): # for each word in a review/sentence\n",
    "        if word in model:\n",
    "            vector += model[word]\n",
    "            cnt_words += 1\n",
    "    if cnt_words != 0:\n",
    "        vector /= cnt_words\n",
    "    title_avg_w2v_vectors.append(vector)\n",
    "print(\"Completed for tain..\\n\")\n",
    "print(len(title_avg_w2v_vectors))\n",
    "print(len(title_avg_w2v_vectors[0]))\n",
    "print(\"*\"*70)\n",
    "    \n",
    "# for test data\n",
    "test_title_avg_w2v_vectors = [] # the avg-w2v for each sentence/review is stored in this list\n",
    "for sentence in test_df[\"clean_title\"].values: # for each review/sentence\n",
    "    vector = np.zeros(300) # as word vectors are of zero length\n",
    "    cnt_words =0; # num of words with a valid vector in the sentence/review\n",
    "    for word in sentence.split(): # for each word in a review/sentence\n",
    "        if word in model:\n",
    "            vector += model[word]\n",
    "            cnt_words += 1\n",
    "    if cnt_words != 0:\n",
    "        vector /= cnt_words\n",
    "    test_title_avg_w2v_vectors.append(vector)\n",
    "print(\"Completed for test...\\n\")\n",
    "print(len(test_title_avg_w2v_vectors))\n",
    "print(len(test_title_avg_w2v_vectors[0]))\n",
    "print(\"*\"*70)\n",
    "\n",
    "# for val data\n",
    "val_title_avg_w2v_vectors = [] # the avg-w2v for each sentence/review is stored in this list\n",
    "for sentence in val_df[\"clean_title\"].values: # for each review/sentence\n",
    "    vector = np.zeros(300) # as word vectors are of zero length\n",
    "    cnt_words =0; # num of words with a valid vector in the sentence/review\n",
    "    for word in sentence.split(): # for each word in a review/sentence\n",
    "        if word in model:\n",
    "            vector += model[word]\n",
    "            cnt_words += 1\n",
    "    if cnt_words != 0:\n",
    "        vector /= cnt_words\n",
    "    val_title_avg_w2v_vectors.append(vector)\n",
    "print(\"completed for val...\\n\")\n",
    "print(len(val_title_avg_w2v_vectors))\n",
    "print(len(val_title_avg_w2v_vectors[0]))\n",
    "print(\"*\"*70)"
   ]
  },
  {
   "cell_type": "markdown",
   "metadata": {},
   "source": [
    "**4. TFIDF W2V**"
   ]
  },
  {
   "cell_type": "code",
   "execution_count": 58,
   "metadata": {},
   "outputs": [],
   "source": [
    "# using all the words from countvectorizer get_feature_names.\n",
    "# as using all the words form training data was taking approx. 1 day to process.\n",
    "\n",
    "model = {}\n",
    "for word in title_tfidf_vectorizer.get_feature_names():\n",
    "    if word in words.index.values:\n",
    "        model[word] = vec(word)"
   ]
  },
  {
   "cell_type": "code",
   "execution_count": 59,
   "metadata": {},
   "outputs": [
    {
     "name": "stdout",
     "output_type": "stream",
     "text": [
      "9489\n",
      "300\n"
     ]
    },
    {
     "name": "stderr",
     "output_type": "stream",
     "text": [
      "100%|███████████████████████████████████████████████████████████████████████████| 2966/2966 [00:00<00:00, 41084.78it/s]\n"
     ]
    },
    {
     "name": "stdout",
     "output_type": "stream",
     "text": [
      "2966\n",
      "300\n"
     ]
    },
    {
     "name": "stderr",
     "output_type": "stream",
     "text": [
      "100%|███████████████████████████████████████████████████████████████████████████| 2373/2373 [00:00<00:00, 39118.83it/s]\n"
     ]
    },
    {
     "name": "stdout",
     "output_type": "stream",
     "text": [
      "2373\n",
      "300\n"
     ]
    }
   ],
   "source": [
    "# for train data\n",
    "tfidf_model = TfidfVectorizer()\n",
    "tfidf_model.fit(train_df[\"clean_title\"].values)\n",
    "# we are converting a dictionary with word as a key, and the idf as a value\n",
    "dictionary = dict(zip(tfidf_model.get_feature_names(), list(tfidf_model.idf_)))\n",
    "tfidf_words = set(tfidf_model.get_feature_names())\n",
    "\n",
    "title_tfidf_w2v_vectors = []; # the avg-w2v for each sentence/review is stored in this list\n",
    "for sentence in train_df[\"clean_title\"].values: # for each review/sentence\n",
    "    vector = np.zeros(300) # as word vectors are of zero length\n",
    "    tf_idf_weight =0; # num of words with a valid vector in the sentence/review\n",
    "    for word in sentence.split(): # for each word in a review/sentence\n",
    "        if (word in model) and (word in tfidf_words):\n",
    "            vect = model[word] # getting the vector for each word\n",
    "            # here we are multiplying idf value(dictionary[word]) and the tf value((sentence.count(word)/len(sentence.split())))\n",
    "            tf_idf = dictionary[word]*(sentence.count(word)/len(sentence.split())) # getting the tfidf value for each word\n",
    "            vector += (vect * tf_idf) # calculating tfidf weighted w2v\n",
    "            tf_idf_weight += tf_idf\n",
    "    if tf_idf_weight != 0:\n",
    "        vector /= tf_idf_weight\n",
    "    title_tfidf_w2v_vectors.append(vector)\n",
    "\n",
    "print(len(title_tfidf_w2v_vectors))\n",
    "print(len(title_tfidf_w2v_vectors[0]))\n",
    "\n",
    "\n",
    "\n",
    "# for test data\n",
    "test_title_tfidf_w2v_vectors = []; # the avg-w2v for each sentence/review is stored in this list\n",
    "for sentence in tqdm(test_df[\"clean_title\"].values): # for each review/sentence\n",
    "    vector = np.zeros(300) # as word vectors are of zero length\n",
    "    tf_idf_weight =0; # num of words with a valid vector in the sentence/review\n",
    "    for word in sentence.split(): # for each word in a review/sentence\n",
    "        if (word in model) and (word in tfidf_words):\n",
    "            vect = model[word] # getting the vector for each word\n",
    "            # here we are multiplying idf value(dictionary[word]) and the tf value((sentence.count(word)/len(sentence.split())))\n",
    "            tf_idf = dictionary[word]*(sentence.count(word)/len(sentence.split())) # getting the tfidf value for each word\n",
    "            vector += (vect * tf_idf) # calculating tfidf weighted w2v\n",
    "            tf_idf_weight += tf_idf\n",
    "    if tf_idf_weight != 0:\n",
    "        vector /= tf_idf_weight\n",
    "    test_title_tfidf_w2v_vectors.append(vector)\n",
    "\n",
    "print(len(test_title_tfidf_w2v_vectors))\n",
    "print(len(test_title_tfidf_w2v_vectors[0]))\n",
    "\n",
    "\n",
    "# for val data\n",
    "val_title_tfidf_w2v_vectors = []; # the avg-w2v for each sentence/review is stored in this list\n",
    "for sentence in tqdm(val_df[\"clean_title\"].values): # for each review/sentence\n",
    "    vector = np.zeros(300) # as word vectors are of zero length\n",
    "    tf_idf_weight =0; # num of words with a valid vector in the sentence/review\n",
    "    for word in sentence.split(): # for each word in a review/sentence\n",
    "        if (word in model) and (word in tfidf_words):\n",
    "            vect = model[word] # getting the vector for each word\n",
    "            # here we are multiplying idf value(dictionary[word]) and the tf value((sentence.count(word)/len(sentence.split())))\n",
    "            tf_idf = dictionary[word]*(sentence.count(word)/len(sentence.split())) # getting the tfidf value for each word\n",
    "            vector += (vect * tf_idf) # calculating tfidf weighted w2v\n",
    "            tf_idf_weight += tf_idf\n",
    "    if tf_idf_weight != 0:\n",
    "        vector /= tf_idf_weight\n",
    "    val_title_tfidf_w2v_vectors.append(vector)\n",
    "\n",
    "print(len(val_title_tfidf_w2v_vectors))\n",
    "print(len(val_title_tfidf_w2v_vectors[0]))\n"
   ]
  },
  {
   "cell_type": "markdown",
   "metadata": {
    "colab_type": "text",
    "id": "kaCBcYR0O2RH"
   },
   "source": [
    "## Machine Learning Models"
   ]
  },
  {
   "cell_type": "markdown",
   "metadata": {
    "colab_type": "text",
    "id": "2KiwHJsiO2RI"
   },
   "source": [
    "### 1. Making sets ready"
   ]
  },
  {
   "cell_type": "code",
   "execution_count": 50,
   "metadata": {
    "colab": {},
    "colab_type": "code",
    "id": "h4QntFp9O2RO"
   },
   "outputs": [],
   "source": [
    "from scipy.sparse import hstack\n",
    "\n",
    "# for bow\n",
    "set1 = hstack((title_bow,synopsis_bow))\n",
    "set1_t = hstack((test_title_bow,test_synopsis_bow))\n",
    "set1_v = hstack((val_title_bow,val_synopsis_bow))\n",
    "\n",
    "# for tfidf\n",
    "set2 = hstack((title_tfidf,synopsis_tfidf))\n",
    "set2_t = hstack((test_title_tfidf,test_synopsis_tfidf))\n",
    "set2_v = hstack((val_title_tfidf,val_synopsis_tfidf))"
   ]
  },
  {
   "cell_type": "code",
   "execution_count": 59,
   "metadata": {},
   "outputs": [],
   "source": [
    "title_avg_w2v_vectors = np.array(title_avg_w2v_vectors)\n",
    "avg_w2v_vectors = np.array(avg_w2v_vectors)\n",
    "\n",
    "test_title_avg_w2v_vectors = np.array(test_title_avg_w2v_vectors)\n",
    "test_avg_w2v_vectors = np.array(test_avg_w2v_vectors)\n",
    "\n",
    "val_title_avg_w2v_vectors = np.array(val_title_avg_w2v_vectors)\n",
    "val_avg_w2v_vectors = np.array(val_avg_w2v_vectors)\n",
    "\n",
    "\n",
    "\n",
    "title_tfidf_w2v_vectors = np.array(title_tfidf_w2v_vectors)\n",
    "tfidf_w2v_vectors = np.array(tfidf_w2v_vectors)\n",
    "\n",
    "test_title_tfidf_w2v_vectors = np.array(test_title_tfidf_w2v_vectors)\n",
    "test_tfidf_w2v_vectors = np.array(test_tfidf_w2v_vectors)\n",
    "\n",
    "val_title_tfidf_w2v_vectors = np.array(val_title_tfidf_w2v_vectors)\n",
    "val_tfidf_w2v_vectors = np.array(val_tfidf_w2v_vectors)"
   ]
  },
  {
   "cell_type": "code",
   "execution_count": 60,
   "metadata": {},
   "outputs": [
    {
     "name": "stdout",
     "output_type": "stream",
     "text": [
      "(9489, 300)\n",
      "(9489, 300)\n"
     ]
    }
   ],
   "source": [
    "for i in title_avg_w2v_vectors,avg_w2v_vectors:\n",
    "    print(i.shape)"
   ]
  },
  {
   "cell_type": "code",
   "execution_count": 61,
   "metadata": {},
   "outputs": [],
   "source": [
    "# for avg_w2v\n",
    "set3 = np.hstack((title_avg_w2v_vectors,avg_w2v_vectors))\n",
    "set3_t = np.hstack((test_title_avg_w2v_vectors,test_avg_w2v_vectors))\n",
    "set3_v = np.hstack((val_title_avg_w2v_vectors,val_avg_w2v_vectors))\n",
    "\n",
    "# for tfidf-w2v\n",
    "set4 = np.hstack((title_tfidf_w2v_vectors,tfidf_w2v_vectors))\n",
    "set4_t = np.hstack((test_title_tfidf_w2v_vectors,test_tfidf_w2v_vectors))\n",
    "set4_v = np.hstack((val_title_tfidf_w2v_vectors,val_tfidf_w2v_vectors))"
   ]
  },
  {
   "cell_type": "code",
   "execution_count": 56,
   "metadata": {
    "colab": {
     "base_uri": "https://localhost:8080/",
     "height": 238
    },
    "colab_type": "code",
    "id": "k_jUVT5yQ10b",
    "outputId": "eb4648af-3ec2-45e0-8a5c-19cef65a46e8"
   },
   "outputs": [
    {
     "name": "stdout",
     "output_type": "stream",
     "text": [
      "Requirement already satisfied: scikit-multilearn in c:\\users\\rdbz3b\\appdata\\local\\continuum\\anaconda3\\lib\\site-packages (0.2.0)\n",
      "Collecting hypopt\n",
      "  Downloading https://files.pythonhosted.org/packages/ca/9f/e962e2e2fab76bb83550408236feef68b80bd1a53aa58722eb6b9207cf96/hypopt-1.0.8-py2.py3-none-any.whl\n",
      "Requirement already satisfied: scikit-learn>=0.18 in c:\\users\\rdbz3b\\appdata\\local\\continuum\\anaconda3\\lib\\site-packages (from hypopt) (0.20.3)\n",
      "Requirement already satisfied: numpy>=1.11.3 in c:\\users\\rdbz3b\\appdata\\local\\continuum\\anaconda3\\lib\\site-packages (from hypopt) (1.16.2)\n",
      "Requirement already satisfied: scipy>=0.13.3 in c:\\users\\rdbz3b\\appdata\\local\\continuum\\anaconda3\\lib\\site-packages (from scikit-learn>=0.18->hypopt) (1.2.1)\n",
      "Installing collected packages: hypopt\n",
      "Successfully installed hypopt-1.0.8\n"
     ]
    }
   ],
   "source": [
    "!pip install scikit-multilearn\n",
    "!pip install hypopt"
   ]
  },
  {
   "cell_type": "code",
   "execution_count": 51,
   "metadata": {
    "colab": {},
    "colab_type": "code",
    "id": "DOgj0oGdO2RR"
   },
   "outputs": [],
   "source": [
    "from skmultilearn.problem_transform import BinaryRelevance\n",
    "#from sklearn.model_selection import GridSearchCV\n",
    "# using module hypopt for grid search hyper-parameter optimization using a validation set\n",
    "from hypopt import GridSearch\n",
    "from sklearn.svm import SVC\n",
    "from sklearn.linear_model import SGDClassifier"
   ]
  },
  {
   "cell_type": "markdown",
   "metadata": {
    "colab_type": "text",
    "id": "mrxaE0dzO2RS"
   },
   "source": [
    "### 2. Multilabel k Nearest Neighbours"
   ]
  },
  {
   "cell_type": "markdown",
   "metadata": {
    "colab_type": "text",
    "id": "fquobrh_O2RT"
   },
   "source": [
    "- Predicting for tfidf validation data.\n",
    "- changing parameters manually."
   ]
  },
  {
   "cell_type": "code",
   "execution_count": 64,
   "metadata": {
    "colab": {},
    "colab_type": "code",
    "id": "NlDD3g8mO2RU",
    "outputId": "3b3578ca-47a4-4ae6-f916-7340b37173c7"
   },
   "outputs": [
    {
     "data": {
      "text/plain": [
       "MLkNN(ignore_first_neighbours=0, k=5, s=0.5)"
      ]
     },
     "execution_count": 64,
     "metadata": {},
     "output_type": "execute_result"
    }
   ],
   "source": [
    "from skmultilearn.adapt import MLkNN\n",
    "\n",
    "param_grid = dict(\n",
    "    k =  [2,5,7,11] ,\n",
    "    s = [0.5, 0.7, 1.0]\n",
    ")\n",
    "\n",
    "# using gridsearch instead of GridsearchCV to use validation data provided.\n",
    "grid = GridSearch(model=MLkNN(),param_grid=param_grid)\n",
    "grid.fit(set2,train_multilabel_y,set2_v,val_multilabel_y,scoring='f1_micro')"
   ]
  },
  {
   "cell_type": "code",
   "execution_count": 65,
   "metadata": {
    "colab": {},
    "colab_type": "code",
    "id": "sStZtX_5O2RV",
    "outputId": "18811b92-a87c-4d57-fedb-d7fd7dd3e1ef"
   },
   "outputs": [
    {
     "name": "stdout",
     "output_type": "stream",
     "text": [
      "{'k': 5, 's': 0.5}\n",
      "MLkNN(ignore_first_neighbours=0, k=5, s=0.5)\n",
      "============================================================\n",
      "Hamming loss 0.046484571623944614\n",
      "Micro F1 score 0.20122399020807835\n"
     ]
    },
    {
     "name": "stderr",
     "output_type": "stream",
     "text": [
      "C:\\Users\\rdbz3b\\AppData\\Local\\Continuum\\anaconda3\\lib\\site-packages\\sklearn\\metrics\\classification.py:1143: UndefinedMetricWarning: F-score is ill-defined and being set to 0.0 in labels with no predicted samples.\n",
      "  'precision', 'predicted', average, warn_for)\n"
     ]
    },
    {
     "name": "stdout",
     "output_type": "stream",
     "text": [
      "Macro F1 score 0.06120069024093342\n",
      "Accuracy is 0.04821308159136885\n"
     ]
    }
   ],
   "source": [
    "grid_predictions = grid.predict(set2_t)\n",
    "print(grid.best_params)\n",
    "print(grid.best_estimator_)\n",
    "print(\"=\"*60)\n",
    "print(\"Hamming loss {}\".format(metrics.hamming_loss(test_multilabel_y,grid_predictions)))\n",
    "print(\"Micro F1 score {}\".format(metrics.f1_score(test_multilabel_y,grid_predictions, average = 'micro')))\n",
    "print(\"Macro F1 score {}\".format(metrics.f1_score(test_multilabel_y, grid_predictions, average = 'macro')))\n",
    "print(\"Accuracy is {}\".format(metrics.accuracy_score(test_multilabel_y,grid_predictions)))"
   ]
  },
  {
   "cell_type": "markdown",
   "metadata": {
    "colab_type": "text",
    "id": "TyixVRnzO2Rc"
   },
   "source": [
    "### 2. Tuning LR (OvR) with SGD"
   ]
  },
  {
   "cell_type": "markdown",
   "metadata": {
    "colab_type": "text",
    "id": "3u0w7CR2Ovm_"
   },
   "source": [
    "**1. Using TFIDF**"
   ]
  },
  {
   "cell_type": "code",
   "execution_count": 66,
   "metadata": {
    "colab": {},
    "colab_type": "code",
    "id": "p1XKtuMfOvm_"
   },
   "outputs": [],
   "source": [
    "# using grid search instead of GridsearchCV to use validation data provided.\n",
    "\n",
    "warnings.filterwarnings(\"ignore\")\n",
    "\n",
    "param_grid  = {\"estimator__alpha\":[0.00000001,0.0000001,0.000001,0.00001,0.0001]}\n",
    "ovr=OneVsRestClassifier(SGDClassifier(loss='log', penalty='l1', random_state=0))"
   ]
  },
  {
   "cell_type": "code",
   "execution_count": 67,
   "metadata": {
    "colab": {},
    "colab_type": "code",
    "id": "ITbj9SOAOvnA",
    "outputId": "c3c8dc52-3333-4722-d25e-3f21e3868c0e"
   },
   "outputs": [
    {
     "data": {
      "text/plain": [
       "OneVsRestClassifier(estimator=SGDClassifier(alpha=1e-05, average=False, class_weight=None,\n",
       "       early_stopping=False, epsilon=0.1, eta0=0.0, fit_intercept=True,\n",
       "       l1_ratio=0.15, learning_rate='optimal', loss='log', max_iter=None,\n",
       "       n_iter=None, n_iter_no_change=5, n_jobs=None, penalty='l1',\n",
       "       power_t=0.5, random_state=0, shuffle=True, tol=None,\n",
       "       validation_fraction=0.1, verbose=0, warm_start=False),\n",
       "          n_jobs=None)"
      ]
     },
     "execution_count": 67,
     "metadata": {},
     "output_type": "execute_result"
    }
   ],
   "source": [
    "grid = GridSearch(model=ovr,param_grid=param_grid)\n",
    "grid.fit(set2,train_multilabel_y,set2_v,val_multilabel_y,scoring='f1_micro')"
   ]
  },
  {
   "cell_type": "code",
   "execution_count": 68,
   "metadata": {
    "colab": {},
    "colab_type": "code",
    "id": "m3C0e5N5OvnC",
    "outputId": "d3957bf9-7d7d-498f-aaf2-1bd36f2a54a8"
   },
   "outputs": [
    {
     "name": "stdout",
     "output_type": "stream",
     "text": [
      "{'estimator__alpha': 1e-05}\n",
      "OneVsRestClassifier(estimator=SGDClassifier(alpha=1e-05, average=False, class_weight=None,\n",
      "       early_stopping=False, epsilon=0.1, eta0=0.0, fit_intercept=True,\n",
      "       l1_ratio=0.15, learning_rate='optimal', loss='log', max_iter=None,\n",
      "       n_iter=None, n_iter_no_change=5, n_jobs=None, penalty='l1',\n",
      "       power_t=0.5, random_state=0, shuffle=True, tol=None,\n",
      "       validation_fraction=0.1, verbose=0, warm_start=False),\n",
      "          n_jobs=None)\n",
      "============================================================\n",
      "Hamming loss 0.04863571177571158\n",
      "Micro F1 score 0.2941419710544453\n",
      "Macro F1 score 0.11419345538009947\n",
      "Accuracy is 0.0576534052596089\n"
     ]
    }
   ],
   "source": [
    "grid_predictions = grid.predict(set2_t)\n",
    "print(grid.best_params)\n",
    "print(grid.best_estimator_)\n",
    "print(\"=\"*60)\n",
    "print(\"Hamming loss {}\".format(metrics.hamming_loss(test_multilabel_y,grid_predictions)))\n",
    "print(\"Micro F1 score {}\".format(metrics.f1_score(test_multilabel_y,grid_predictions, average = 'micro')))\n",
    "print(\"Macro F1 score {}\".format(metrics.f1_score(test_multilabel_y, grid_predictions, average = 'macro')))\n",
    "print(\"Accuracy is {}\".format(metrics.accuracy_score(test_multilabel_y,grid_predictions)))"
   ]
  },
  {
   "cell_type": "markdown",
   "metadata": {},
   "source": [
    "- The micro f1 score obtianed here is **0.294**. The threshold considered here is 0.5 to determine the class labels. \n",
    "- Lets vary threshold and check f1 score.\n",
    "- As most of the values are near to zero threshold of 0.1 gives best f1 score of 0.322."
   ]
  },
  {
   "cell_type": "code",
   "execution_count": 71,
   "metadata": {},
   "outputs": [
    {
     "name": "stdout",
     "output_type": "stream",
     "text": [
      "Hamming loss   0.06723143988679209\n",
      "Micro F1 score 0.32251890133027084\n"
     ]
    }
   ],
   "source": [
    "grid_ = grid.predict_proba(set2_t)\n",
    "y_pred_new = (grid_ >= 0.1).astype(int)\n",
    "print(\"Hamming loss   {}\".format(metrics.hamming_loss(test_multilabel_y,y_pred_new)))\n",
    "print(\"Micro F1 score {}\".format(metrics.f1_score(test_multilabel_y,y_pred_new, average = 'micro')))\n"
   ]
  },
  {
   "cell_type": "markdown",
   "metadata": {
    "colab_type": "text",
    "id": "FqKrTY_oOvnE"
   },
   "source": [
    "**2. Using BOW**"
   ]
  },
  {
   "cell_type": "code",
   "execution_count": 72,
   "metadata": {
    "colab": {},
    "colab_type": "code",
    "id": "CwIC89XPOvnE",
    "outputId": "1301d8cf-40e9-452f-dadd-a01ed9c142d6"
   },
   "outputs": [
    {
     "data": {
      "text/plain": [
       "OneVsRestClassifier(estimator=SGDClassifier(alpha=1e-05, average=False, class_weight=None,\n",
       "       early_stopping=False, epsilon=0.1, eta0=0.0, fit_intercept=True,\n",
       "       l1_ratio=0.15, learning_rate='optimal', loss='log', max_iter=None,\n",
       "       n_iter=None, n_iter_no_change=5, n_jobs=None, penalty='l1',\n",
       "       power_t=0.5, random_state=0, shuffle=True, tol=None,\n",
       "       validation_fraction=0.1, verbose=0, warm_start=False),\n",
       "          n_jobs=None)"
      ]
     },
     "execution_count": 72,
     "metadata": {},
     "output_type": "execute_result"
    }
   ],
   "source": [
    "# using grid search instead of GridsearchCV to use validation data provided.\n",
    "grid = GridSearch(model=ovr,param_grid=param_grid)\n",
    "grid.fit(set1,train_multilabel_y,set1_v,val_multilabel_y,scoring='f1_micro')"
   ]
  },
  {
   "cell_type": "code",
   "execution_count": 73,
   "metadata": {
    "colab": {},
    "colab_type": "code",
    "id": "a-dY-cedOvnG",
    "outputId": "5e545f32-8e3e-4998-bca2-637d58e99f0e"
   },
   "outputs": [
    {
     "name": "stdout",
     "output_type": "stream",
     "text": [
      "{'estimator__alpha': 1e-05}\n",
      "OneVsRestClassifier(estimator=SGDClassifier(alpha=1e-05, average=False, class_weight=None,\n",
      "       early_stopping=False, epsilon=0.1, eta0=0.0, fit_intercept=True,\n",
      "       l1_ratio=0.15, learning_rate='optimal', loss='log', max_iter=None,\n",
      "       n_iter=None, n_iter_no_change=5, n_jobs=None, penalty='l1',\n",
      "       power_t=0.5, random_state=0, shuffle=True, tol=None,\n",
      "       validation_fraction=0.1, verbose=0, warm_start=False),\n",
      "          n_jobs=None)\n",
      "============================================================\n",
      "Hamming loss 0.06244954555383549\n",
      "Micro F1 score 0.27642365887207704\n",
      "Macro F1 score 0.12608136804350067\n",
      "Accuracy is 0.02933243425488874\n"
     ]
    }
   ],
   "source": [
    "grid_predictions = grid.predict(set1_t)\n",
    "print(grid.best_params)\n",
    "print(grid.best_estimator_)\n",
    "print(\"=\"*60)\n",
    "print(\"Hamming loss {}\".format(metrics.hamming_loss(test_multilabel_y,grid_predictions)))\n",
    "print(\"Micro F1 score {}\".format(metrics.f1_score(test_multilabel_y,grid_predictions, average = 'micro')))\n",
    "print(\"Macro F1 score {}\".format(metrics.f1_score(test_multilabel_y, grid_predictions, average = 'macro')))\n",
    "print(\"Accuracy is {}\".format(metrics.accuracy_score(test_multilabel_y,grid_predictions)))"
   ]
  },
  {
   "cell_type": "markdown",
   "metadata": {},
   "source": [
    "**3. Using Avg-W2v**"
   ]
  },
  {
   "cell_type": "code",
   "execution_count": 74,
   "metadata": {},
   "outputs": [
    {
     "data": {
      "text/plain": [
       "OneVsRestClassifier(estimator=SGDClassifier(alpha=1e-05, average=False, class_weight=None,\n",
       "       early_stopping=False, epsilon=0.1, eta0=0.0, fit_intercept=True,\n",
       "       l1_ratio=0.15, learning_rate='optimal', loss='log', max_iter=None,\n",
       "       n_iter=None, n_iter_no_change=5, n_jobs=None, penalty='l1',\n",
       "       power_t=0.5, random_state=0, shuffle=True, tol=None,\n",
       "       validation_fraction=0.1, verbose=0, warm_start=False),\n",
       "          n_jobs=None)"
      ]
     },
     "execution_count": 74,
     "metadata": {},
     "output_type": "execute_result"
    }
   ],
   "source": [
    "param_grid  = {\"estimator__alpha\":[0.000001,0.00001,0.0001,0.001,0.1]}\n",
    "ovr=OneVsRestClassifier(SGDClassifier(loss='log', penalty='l1', random_state=0))\n",
    "\n",
    "grid = GridSearch(model=ovr,param_grid=param_grid)\n",
    "grid.fit(set3,train_multilabel_y,set3_v,val_multilabel_y,scoring='f1_micro')"
   ]
  },
  {
   "cell_type": "code",
   "execution_count": 75,
   "metadata": {},
   "outputs": [
    {
     "name": "stdout",
     "output_type": "stream",
     "text": [
      "{'estimator__alpha': 1e-05}\n",
      "OneVsRestClassifier(estimator=SGDClassifier(alpha=1e-05, average=False, class_weight=None,\n",
      "       early_stopping=False, epsilon=0.1, eta0=0.0, fit_intercept=True,\n",
      "       l1_ratio=0.15, learning_rate='optimal', loss='log', max_iter=None,\n",
      "       n_iter=None, n_iter_no_change=5, n_jobs=None, penalty='l1',\n",
      "       power_t=0.5, random_state=0, shuffle=True, tol=None,\n",
      "       validation_fraction=0.1, verbose=0, warm_start=False),\n",
      "          n_jobs=None)\n",
      "============================================================\n",
      "Hamming loss 0.060383881169688396\n",
      "Micro F1 score 0.25966464834653\n",
      "Macro F1 score 0.11037549362275119\n",
      "Accuracy is 0.031018206338503034\n"
     ]
    }
   ],
   "source": [
    "grid_predictions = grid.predict(set3_t)\n",
    "print(grid.best_params)\n",
    "print(grid.best_estimator_)\n",
    "print(\"=\"*60)\n",
    "print(\"Hamming loss {}\".format(metrics.hamming_loss(test_multilabel_y,grid_predictions)))\n",
    "print(\"Micro F1 score {}\".format(metrics.f1_score(test_multilabel_y,grid_predictions, average = 'micro')))\n",
    "print(\"Macro F1 score {}\".format(metrics.f1_score(test_multilabel_y, grid_predictions, average = 'macro')))\n",
    "print(\"Accuracy is {}\".format(metrics.accuracy_score(test_multilabel_y,grid_predictions)))"
   ]
  },
  {
   "cell_type": "markdown",
   "metadata": {},
   "source": [
    "**4. Using TFIDF-W2V**"
   ]
  },
  {
   "cell_type": "code",
   "execution_count": 76,
   "metadata": {},
   "outputs": [
    {
     "data": {
      "text/plain": [
       "OneVsRestClassifier(estimator=SGDClassifier(alpha=1e-05, average=False, class_weight=None,\n",
       "       early_stopping=False, epsilon=0.1, eta0=0.0, fit_intercept=True,\n",
       "       l1_ratio=0.15, learning_rate='optimal', loss='log', max_iter=None,\n",
       "       n_iter=None, n_iter_no_change=5, n_jobs=None, penalty='l1',\n",
       "       power_t=0.5, random_state=0, shuffle=True, tol=None,\n",
       "       validation_fraction=0.1, verbose=0, warm_start=False),\n",
       "          n_jobs=None)"
      ]
     },
     "execution_count": 76,
     "metadata": {},
     "output_type": "execute_result"
    }
   ],
   "source": [
    "param_grid  = {\"estimator__alpha\":[0.000001,0.00001,0.0001,0.001,0.1]}\n",
    "ovr=OneVsRestClassifier(SGDClassifier(loss='log', penalty='l1', random_state=0))\n",
    "\n",
    "grid = GridSearch(model=ovr,param_grid=param_grid)\n",
    "grid.fit(set4,train_multilabel_y,set4_v,val_multilabel_y,scoring='f1_micro')"
   ]
  },
  {
   "cell_type": "code",
   "execution_count": 77,
   "metadata": {},
   "outputs": [
    {
     "name": "stdout",
     "output_type": "stream",
     "text": [
      "{'estimator__alpha': 1e-05}\n",
      "OneVsRestClassifier(estimator=SGDClassifier(alpha=1e-05, average=False, class_weight=None,\n",
      "       early_stopping=False, epsilon=0.1, eta0=0.0, fit_intercept=True,\n",
      "       l1_ratio=0.15, learning_rate='optimal', loss='log', max_iter=None,\n",
      "       n_iter=None, n_iter_no_change=5, n_jobs=None, penalty='l1',\n",
      "       power_t=0.5, random_state=0, shuffle=True, tol=None,\n",
      "       validation_fraction=0.1, verbose=0, warm_start=False),\n",
      "          n_jobs=None)\n",
      "============================================================\n",
      "Hamming loss 0.06653813643831974\n",
      "Micro F1 score 0.1997715591090805\n",
      "Macro F1 score 0.0855799352833085\n",
      "Accuracy is 0.016857720836142953\n"
     ]
    }
   ],
   "source": [
    "grid_predictions = grid.predict(set4_t)\n",
    "print(grid.best_params)\n",
    "print(grid.best_estimator_)\n",
    "print(\"=\"*60)\n",
    "print(\"Hamming loss {}\".format(metrics.hamming_loss(test_multilabel_y,grid_predictions)))\n",
    "print(\"Micro F1 score {}\".format(metrics.f1_score(test_multilabel_y,grid_predictions, average = 'micro')))\n",
    "print(\"Macro F1 score {}\".format(metrics.f1_score(test_multilabel_y, grid_predictions, average = 'macro')))\n",
    "print(\"Accuracy is {}\".format(metrics.accuracy_score(test_multilabel_y,grid_predictions)))"
   ]
  },
  {
   "cell_type": "markdown",
   "metadata": {
    "colab_type": "text",
    "id": "Cqydi88LO2Rh"
   },
   "source": [
    "### 3. Tuning Lr. SVM (OvR) with SGD"
   ]
  },
  {
   "cell_type": "markdown",
   "metadata": {
    "colab_type": "text",
    "id": "YusEz4LMOvnI"
   },
   "source": [
    "**1. Using TFIDF**"
   ]
  },
  {
   "cell_type": "code",
   "execution_count": 116,
   "metadata": {
    "colab": {},
    "colab_type": "code",
    "id": "C-atzqC9O2Ri",
    "outputId": "bdb2b39a-e523-44c8-f477-aaa9b23f001b"
   },
   "outputs": [
    {
     "data": {
      "text/plain": [
       "OneVsRestClassifier(estimator=SGDClassifier(alpha=1e-05, average=False, class_weight=None,\n",
       "       early_stopping=False, epsilon=0.1, eta0=0.0, fit_intercept=True,\n",
       "       l1_ratio=0.15, learning_rate='optimal', loss='hinge', max_iter=None,\n",
       "       n_iter=None, n_iter_no_change=5, n_jobs=None, penalty='l2',\n",
       "       power_t=0.5, random_state=None, shuffle=True, tol=None,\n",
       "       validation_fraction=0.1, verbose=0, warm_start=False),\n",
       "          n_jobs=None)"
      ]
     },
     "execution_count": 116,
     "metadata": {},
     "output_type": "execute_result"
    }
   ],
   "source": [
    "#Build the model\n",
    "param_grid  = {\"estimator__alpha\":[0.000001,0.00001,0.0001,0.001,0.1]}\n",
    "ovr = OneVsRestClassifier(SGDClassifier())\n",
    "grid = GridSearch(model=ovr,param_grid=param_grid)\n",
    "grid.fit(set2,train_multilabel_y,set2_v,val_multilabel_y,scoring='f1_micro')"
   ]
  },
  {
   "cell_type": "code",
   "execution_count": 117,
   "metadata": {
    "colab": {},
    "colab_type": "code",
    "id": "AlfYjYTLO2Rm",
    "outputId": "11018d5a-078f-489d-babd-45e7e34e7cd3"
   },
   "outputs": [
    {
     "name": "stdout",
     "output_type": "stream",
     "text": [
      "{'estimator__alpha': 1e-05}\n",
      "OneVsRestClassifier(estimator=SGDClassifier(alpha=1e-05, average=False, class_weight=None,\n",
      "       early_stopping=False, epsilon=0.1, eta0=0.0, fit_intercept=True,\n",
      "       l1_ratio=0.15, learning_rate='optimal', loss='hinge', max_iter=None,\n",
      "       n_iter=None, n_iter_no_change=5, n_jobs=None, penalty='l2',\n",
      "       power_t=0.5, random_state=None, shuffle=True, tol=None,\n",
      "       validation_fraction=0.1, verbose=0, warm_start=False),\n",
      "          n_jobs=None)\n",
      "============================================================\n",
      "Hamming loss 0.05091506557890838\n",
      "Micro F1 score 0.2949763282482904\n",
      "Macro F1 score 0.12133612266134111\n",
      "Accuracy is 0.04720161834120027\n"
     ]
    }
   ],
   "source": [
    "grid_predictions = grid.predict(set2_t)\n",
    "print(grid.best_params)\n",
    "print(grid.best_estimator_)\n",
    "print(\"=\"*60)\n",
    "print(\"Hamming loss {}\".format(metrics.hamming_loss(test_multilabel_y,grid_predictions)))\n",
    "print(\"Micro F1 score {}\".format(metrics.f1_score(test_multilabel_y,grid_predictions, average = 'micro')))\n",
    "print(\"Macro F1 score {}\".format(metrics.f1_score(test_multilabel_y, grid_predictions, average = 'macro')))\n",
    "print(\"Accuracy is {}\".format(metrics.accuracy_score(test_multilabel_y,grid_predictions)))"
   ]
  },
  {
   "cell_type": "markdown",
   "metadata": {
    "colab_type": "text",
    "id": "yDrbSxiFOvnN"
   },
   "source": [
    "**2. Using BOW**"
   ]
  },
  {
   "cell_type": "code",
   "execution_count": 118,
   "metadata": {
    "colab": {},
    "colab_type": "code",
    "id": "LOlaJpAROvnN",
    "outputId": "aa5e7add-d82f-44c5-c923-f38ff1d1579f"
   },
   "outputs": [
    {
     "data": {
      "text/plain": [
       "OneVsRestClassifier(estimator=SGDClassifier(alpha=1e-06, average=False, class_weight=None,\n",
       "       early_stopping=False, epsilon=0.1, eta0=0.0, fit_intercept=True,\n",
       "       l1_ratio=0.15, learning_rate='optimal', loss='hinge', max_iter=None,\n",
       "       n_iter=None, n_iter_no_change=5, n_jobs=None, penalty='l2',\n",
       "       power_t=0.5, random_state=None, shuffle=True, tol=None,\n",
       "       validation_fraction=0.1, verbose=0, warm_start=False),\n",
       "          n_jobs=None)"
      ]
     },
     "execution_count": 118,
     "metadata": {},
     "output_type": "execute_result"
    }
   ],
   "source": [
    "#Build the model\n",
    "ovr = OneVsRestClassifier(SGDClassifier())\n",
    "grid = GridSearch(model=ovr,param_grid=param_grid)\n",
    "grid.fit(set1,train_multilabel_y,set1_v,val_multilabel_y,scoring='f1_micro')"
   ]
  },
  {
   "cell_type": "code",
   "execution_count": 119,
   "metadata": {
    "colab": {},
    "colab_type": "code",
    "id": "oG3ivPjEOvnP",
    "outputId": "ed3fc776-3af8-47a2-b015-2faccad1786d"
   },
   "outputs": [
    {
     "name": "stdout",
     "output_type": "stream",
     "text": [
      "{'estimator__alpha': 1e-06}\n",
      "OneVsRestClassifier(estimator=SGDClassifier(alpha=1e-06, average=False, class_weight=None,\n",
      "       early_stopping=False, epsilon=0.1, eta0=0.0, fit_intercept=True,\n",
      "       l1_ratio=0.15, learning_rate='optimal', loss='hinge', max_iter=None,\n",
      "       n_iter=None, n_iter_no_change=5, n_jobs=None, penalty='l2',\n",
      "       power_t=0.5, random_state=None, shuffle=True, tol=None,\n",
      "       validation_fraction=0.1, verbose=0, warm_start=False),\n",
      "          n_jobs=None)\n",
      "============================================================\n",
      "Hamming loss 0.06241155632378221\n",
      "Micro F1 score 0.2892217835703856\n",
      "Macro F1 score 0.12167124808696435\n",
      "Accuracy is 0.027646662171274445\n"
     ]
    }
   ],
   "source": [
    "grid_predictions = grid.predict(set1_t)\n",
    "print(grid.best_params)\n",
    "print(grid.best_estimator_)\n",
    "print(\"=\"*60)\n",
    "print(\"Hamming loss {}\".format(metrics.hamming_loss(test_multilabel_y,grid_predictions)))\n",
    "print(\"Micro F1 score {}\".format(metrics.f1_score(test_multilabel_y,grid_predictions, average = 'micro')))\n",
    "print(\"Macro F1 score {}\".format(metrics.f1_score(test_multilabel_y, grid_predictions, average = 'macro')))\n",
    "print(\"Accuracy is {}\".format(metrics.accuracy_score(test_multilabel_y,grid_predictions)))"
   ]
  },
  {
   "cell_type": "markdown",
   "metadata": {},
   "source": [
    "**3. Using Avg-W2v**"
   ]
  },
  {
   "cell_type": "code",
   "execution_count": 120,
   "metadata": {},
   "outputs": [
    {
     "data": {
      "text/plain": [
       "OneVsRestClassifier(estimator=SGDClassifier(alpha=0.0001, average=False, class_weight=None,\n",
       "       early_stopping=False, epsilon=0.1, eta0=0.0, fit_intercept=True,\n",
       "       l1_ratio=0.15, learning_rate='optimal', loss='hinge', max_iter=None,\n",
       "       n_iter=None, n_iter_no_change=5, n_jobs=None, penalty='l2',\n",
       "       power_t=0.5, random_state=None, shuffle=True, tol=None,\n",
       "       validation_fraction=0.1, verbose=0, warm_start=False),\n",
       "          n_jobs=None)"
      ]
     },
     "execution_count": 120,
     "metadata": {},
     "output_type": "execute_result"
    }
   ],
   "source": [
    "#Build the model\n",
    "ovr = OneVsRestClassifier(SGDClassifier())\n",
    "grid = GridSearch(model=ovr,param_grid=param_grid)\n",
    "grid.fit(set3,train_multilabel_y,set3_v,val_multilabel_y,scoring='f1_micro')"
   ]
  },
  {
   "cell_type": "code",
   "execution_count": 121,
   "metadata": {},
   "outputs": [
    {
     "name": "stdout",
     "output_type": "stream",
     "text": [
      "{'estimator__alpha': 0.0001}\n",
      "OneVsRestClassifier(estimator=SGDClassifier(alpha=0.0001, average=False, class_weight=None,\n",
      "       early_stopping=False, epsilon=0.1, eta0=0.0, fit_intercept=True,\n",
      "       l1_ratio=0.15, learning_rate='optimal', loss='hinge', max_iter=None,\n",
      "       n_iter=None, n_iter_no_change=5, n_jobs=None, penalty='l2',\n",
      "       power_t=0.5, random_state=None, shuffle=True, tol=None,\n",
      "       validation_fraction=0.1, verbose=0, warm_start=False),\n",
      "          n_jobs=None)\n",
      "============================================================\n",
      "Hamming loss 0.06432526378771618\n",
      "Micro F1 score 0.29152719665271964\n",
      "Macro F1 score 0.08251070831729267\n",
      "Accuracy is 0.009777478084962913\n"
     ]
    }
   ],
   "source": [
    "grid_predictions = grid.predict(set3_t)\n",
    "print(grid.best_params)\n",
    "print(grid.best_estimator_)\n",
    "print(\"=\"*60)\n",
    "print(\"Hamming loss {}\".format(metrics.hamming_loss(test_multilabel_y,grid_predictions)))\n",
    "print(\"Micro F1 score {}\".format(metrics.f1_score(test_multilabel_y,grid_predictions, average = 'micro')))\n",
    "print(\"Macro F1 score {}\".format(metrics.f1_score(test_multilabel_y, grid_predictions, average = 'macro')))\n",
    "print(\"Accuracy is {}\".format(metrics.accuracy_score(test_multilabel_y,grid_predictions)))"
   ]
  },
  {
   "cell_type": "markdown",
   "metadata": {},
   "source": [
    "**4. Using TFIDF W2V**"
   ]
  },
  {
   "cell_type": "code",
   "execution_count": 122,
   "metadata": {},
   "outputs": [
    {
     "data": {
      "text/plain": [
       "OneVsRestClassifier(estimator=SGDClassifier(alpha=0.0001, average=False, class_weight=None,\n",
       "       early_stopping=False, epsilon=0.1, eta0=0.0, fit_intercept=True,\n",
       "       l1_ratio=0.15, learning_rate='optimal', loss='hinge', max_iter=None,\n",
       "       n_iter=None, n_iter_no_change=5, n_jobs=None, penalty='l2',\n",
       "       power_t=0.5, random_state=None, shuffle=True, tol=None,\n",
       "       validation_fraction=0.1, verbose=0, warm_start=False),\n",
       "          n_jobs=None)"
      ]
     },
     "execution_count": 122,
     "metadata": {},
     "output_type": "execute_result"
    }
   ],
   "source": [
    "#Build the model\n",
    "ovr = OneVsRestClassifier(SGDClassifier())\n",
    "grid = GridSearch(model=ovr,param_grid=param_grid)\n",
    "grid.fit(set4,train_multilabel_y,set4_v,val_multilabel_y,scoring='f1_micro')"
   ]
  },
  {
   "cell_type": "code",
   "execution_count": 123,
   "metadata": {},
   "outputs": [
    {
     "name": "stdout",
     "output_type": "stream",
     "text": [
      "{'estimator__alpha': 0.0001}\n",
      "OneVsRestClassifier(estimator=SGDClassifier(alpha=0.0001, average=False, class_weight=None,\n",
      "       early_stopping=False, epsilon=0.1, eta0=0.0, fit_intercept=True,\n",
      "       l1_ratio=0.15, learning_rate='optimal', loss='hinge', max_iter=None,\n",
      "       n_iter=None, n_iter_no_change=5, n_jobs=None, penalty='l2',\n",
      "       power_t=0.5, random_state=None, shuffle=True, tol=None,\n",
      "       validation_fraction=0.1, verbose=0, warm_start=False),\n",
      "          n_jobs=None)\n",
      "============================================================\n",
      "Hamming loss 0.06152355807128679\n",
      "Micro F1 score 0.26227081198041224\n",
      "Macro F1 score 0.08341625118981194\n",
      "Accuracy is 0.015509103169251517\n"
     ]
    }
   ],
   "source": [
    "grid_predictions = grid.predict(set4_t)\n",
    "print(grid.best_params)\n",
    "print(grid.best_estimator_)\n",
    "print(\"=\"*60)\n",
    "print(\"Hamming loss {}\".format(metrics.hamming_loss(test_multilabel_y,grid_predictions)))\n",
    "print(\"Micro F1 score {}\".format(metrics.f1_score(test_multilabel_y,grid_predictions, average = 'micro')))\n",
    "print(\"Macro F1 score {}\".format(metrics.f1_score(test_multilabel_y, grid_predictions, average = 'macro')))\n",
    "print(\"Accuracy is {}\".format(metrics.accuracy_score(test_multilabel_y,grid_predictions)))"
   ]
  },
  {
   "cell_type": "markdown",
   "metadata": {},
   "source": [
    "### 4. Logistic Regression"
   ]
  },
  {
   "cell_type": "code",
   "execution_count": 88,
   "metadata": {},
   "outputs": [],
   "source": [
    "from sklearn.linear_model import LogisticRegression\n",
    "\n",
    "# Binary Relevance\n",
    "from sklearn.multiclass import OneVsRestClassifier"
   ]
  },
  {
   "cell_type": "code",
   "execution_count": 89,
   "metadata": {},
   "outputs": [
    {
     "data": {
      "text/plain": [
       "OneVsRestClassifier(estimator=LogisticRegression(C=1000, class_weight=None, dual=False, fit_intercept=True,\n",
       "          intercept_scaling=1, max_iter=100, multi_class='warn',\n",
       "          n_jobs=None, penalty='l2', random_state=None, solver='warn',\n",
       "          tol=0.0001, verbose=0, warm_start=False),\n",
       "          n_jobs=None)"
      ]
     },
     "execution_count": 89,
     "metadata": {},
     "output_type": "execute_result"
    }
   ],
   "source": [
    "lr = LogisticRegression()\n",
    "clf = OneVsRestClassifier(lr)\n",
    "\n",
    "param_grid = {\"estimator__C\" :[1,10,100,1000,10000,100000]}\n",
    "\n",
    "grid = GridSearch(model=clf,param_grid=param_grid)\n",
    "grid.fit(set2,train_multilabel_y,set2_v,val_multilabel_y,scoring='f1_micro')"
   ]
  },
  {
   "cell_type": "code",
   "execution_count": 90,
   "metadata": {},
   "outputs": [
    {
     "name": "stdout",
     "output_type": "stream",
     "text": [
      "{'estimator__C': 1000}\n",
      "OneVsRestClassifier(estimator=LogisticRegression(C=1000, class_weight=None, dual=False, fit_intercept=True,\n",
      "          intercept_scaling=1, max_iter=100, multi_class='warn',\n",
      "          n_jobs=None, penalty='l2', random_state=None, solver='warn',\n",
      "          tol=0.0001, verbose=0, warm_start=False),\n",
      "          n_jobs=None)\n",
      "============================================================\n",
      "Hamming loss 0.04758151064173307\n",
      "Micro F1 score 0.3005723858718414\n",
      "Macro F1 score 0.11482950562866459\n",
      "Accuracy is 0.05832771409305462\n"
     ]
    }
   ],
   "source": [
    "grid_predictions = grid.predict(set2_t)\n",
    "print(grid.best_params)\n",
    "print(grid.best_estimator_)\n",
    "print(\"=\"*60)\n",
    "print(\"Hamming loss {}\".format(metrics.hamming_loss(test_multilabel_y,grid_predictions)))\n",
    "print(\"Micro F1 score {}\".format(metrics.f1_score(test_multilabel_y,grid_predictions, average = 'micro')))\n",
    "print(\"Macro F1 score {}\".format(metrics.f1_score(test_multilabel_y, grid_predictions, average = 'macro')))\n",
    "print(\"Accuracy is {}\".format(metrics.accuracy_score(test_multilabel_y,grid_predictions)))"
   ]
  },
  {
   "cell_type": "code",
   "execution_count": 91,
   "metadata": {},
   "outputs": [
    {
     "data": {
      "text/plain": [
       "Text(0.5, 1.0, 'Best threshold ')"
      ]
     },
     "execution_count": 91,
     "metadata": {},
     "output_type": "execute_result"
    },
    {
     "data": {
      "image/png": "[encoded data removed]",
      "text/plain": [
       "<Figure size 432x288 with 1 Axes>"
      ]
     },
     "metadata": {},
     "output_type": "display_data"
    }
   ],
   "source": [
    "threshold = [0.05,0.1,0.15,0.2,0.3,0.5]\n",
    "f1_micro = []\n",
    "for i in threshold:\n",
    "    y_pred_prob = grid.predict_proba(set2_t)\n",
    "    y_pred_new = (y_pred_prob >= i).astype(int)\n",
    "    f1_micro.append(metrics.f1_score(test_multilabel_y,y_pred_new, average = 'micro'))\n",
    "\n",
    "plt.plot(threshold,f1_micro)\n",
    "plt.xlabel(\"Threshold\")\n",
    "plt.ylabel(\"f1 micro\")\n",
    "plt.title(\"Best threshold \")"
   ]
  },
  {
   "cell_type": "markdown",
   "metadata": {},
   "source": [
    "**Best threshold found 0.1**"
   ]
  },
  {
   "cell_type": "code",
   "execution_count": 92,
   "metadata": {},
   "outputs": [
    {
     "name": "stdout",
     "output_type": "stream",
     "text": [
      "Hamming loss 0.0580095542913584\n",
      "Micro F1 score 0.3326048951048951\n",
      "Macro F1 score 0.14743755585286164\n",
      "Accuracy is 0.03573836817262306\n"
     ]
    }
   ],
   "source": [
    "y_pred_prob = grid.predict_proba(set2_t)\n",
    "y_pred_new = (y_pred_prob >= 0.1).astype(int)\n",
    "print(\"Hamming loss {}\".format(metrics.hamming_loss(test_multilabel_y,y_pred_new)))\n",
    "print(\"Micro F1 score {}\".format(metrics.f1_score(test_multilabel_y,y_pred_new, average = 'micro')))\n",
    "print(\"Macro F1 score {}\".format(metrics.f1_score(test_multilabel_y, y_pred_new, average = 'macro')))\n",
    "print(\"Accuracy is {}\".format(metrics.accuracy_score(test_multilabel_y,y_pred_new)))"
   ]
  },
  {
   "cell_type": "markdown",
   "metadata": {},
   "source": [
    "## 5. Kernel Trick"
   ]
  },
  {
   "cell_type": "markdown",
   "metadata": {},
   "source": [
    "**1. NMF**"
   ]
  },
  {
   "cell_type": "code",
   "execution_count": 52,
   "metadata": {},
   "outputs": [],
   "source": [
    "n_components = 10\n",
    "\n",
    "\n",
    "def print_top_words(model, feature_names, n_top_words = 10):\n",
    "    print(model.components_.shape)\n",
    "    topic_dict = dict()\n",
    "    for topic_idx, topic in enumerate(model.components_):\n",
    "        message = \"Topic #%d: \" % topic_idx\n",
    "        topics = [feature_names[i]\n",
    "                                 for i in topic.argsort()[:-n_top_words - 1:-1]]\n",
    "        topic_dict[topic_idx] = topics\n",
    "        print(message)\n",
    "        print(topics)\n",
    "        print()\n",
    "    return topic_dict"
   ]
  },
  {
   "cell_type": "code",
   "execution_count": 53,
   "metadata": {
    "colab": {},
    "colab_type": "code",
    "id": "otb3Hd1M86f9"
   },
   "outputs": [],
   "source": [
    "from sklearn.decomposition import NMF, LatentDirichletAllocation\n",
    "\n",
    "tfidf_vectorizer = TfidfVectorizer(max_df=0.8,ngram_range=(1,4),max_features=10000,stop_words='english')\n",
    "tfidf = tfidf_vectorizer.fit_transform(train_df[\"clean_synopsis\"].values)\n",
    "nmf = NMF(n_components=n_components, random_state=1,alpha=.1, l1_ratio=.5).fit(tfidf)\n"
   ]
  },
  {
   "cell_type": "code",
   "execution_count": 54,
   "metadata": {},
   "outputs": [
    {
     "name": "stdout",
     "output_type": "stream",
     "text": [
      "\n",
      "Topics in NMF model :\n",
      "(10, 10000)\n",
      "Topic #0: \n",
      "['man', 'tells', 'father', 'house', 'police', 'family', 'home', 'film', 'mother', 'time']\n",
      "\n",
      "Topic #1: \n",
      "['tom', 'jerry', 'mouse', 'cat', 'spike', 'butch', 'cheese', 'baby', 'tail', 'lightning']\n",
      "\n",
      "Topic #2: \n",
      "['jack', 'sally', 'cal', 'rose', 'tells jack', 'adrian', 'greg', 'giant', 'jennifer', 'peter']\n",
      "\n",
      "Topic #3: \n",
      "['nick', 'libby', 'gatsby', 'kate', 'bryce', 'russell', 'julie', 'frank', 'philip', 'casey']\n",
      "\n",
      "Topic #4: \n",
      "['joe', 'frank', 'connie', 'kong', 'sara', 'peyton', 'japanese', 'jed', 'business', 'pat']\n",
      "\n",
      "Topic #5: \n",
      "['bugs', 'sam', 'daffy', 'elmer', 'rabbit', 'bunny', 'rocky', 'porky', 'duck', 'cartoon']\n",
      "\n",
      "Topic #6: \n",
      "['harry', 'voldemort', 'dumbledore', 'hermione', 'ron', 'linda', 'karl', 'archie', 'perry', 'harmony']\n",
      "\n",
      "Topic #7: \n",
      "['charlie', 'charlie brown', 'linus', 'snoopy', 'brown', 'lucy', 'porky', 'patty', 'woodstock', 'marcie']\n",
      "\n",
      "Topic #8: \n",
      "['david', 'alan', 'susan', 'tells david', 'david tells', 'amy', 'elizabeth', 'uncle', 'michael', 'linda']\n",
      "\n",
      "Topic #9: \n",
      "['max', 'evelyn', 'ariel', 'gang', 'rudy', 'sammy', 'apartment', 'clay', 'aisha', 'chloe']\n",
      "\n"
     ]
    }
   ],
   "source": [
    "print(\"\\nTopics in NMF model :\")\n",
    "\n",
    "tfidf_feature_names = tfidf_vectorizer.get_feature_names()\n",
    "\n",
    "topic_dict = print_top_words(nmf, tfidf_feature_names)\n",
    " "
   ]
  },
  {
   "cell_type": "code",
   "execution_count": 59,
   "metadata": {},
   "outputs": [],
   "source": [
    "def get_glove(review):\n",
    "    \"\"\"\n",
    "    This function returns glove_vector for each topic label.\n",
    "    \n",
    "    @returns = wighted glove vector. i.e  nmf_values * glove_vector\n",
    "    \n",
    "    \"\"\"\n",
    "    topic_glove = np.zeros(300)\n",
    "    topic_array = nmf.transform(tfidf_vectorizer.transform([review]))\n",
    "    topic_array = topic_array.reshape(10)\n",
    "    for ew in topic_dict[np.argmax(topic_array)]:\n",
    "        if ew in words.index.values:\n",
    "            topic_glove += vec(ew)\n",
    "    return topic_glove/len(topic_array)"
   ]
  },
  {
   "cell_type": "code",
   "execution_count": 64,
   "metadata": {},
   "outputs": [
    {
     "name": "stdout",
     "output_type": "stream",
     "text": [
      "(9489, 300)\n"
     ]
    }
   ],
   "source": [
    "train_glove = []\n",
    "for er in train_df[\"clean_synopsis\"].values:\n",
    "    train_glove.append(get_glove(er))\n",
    "\n",
    "train_glove =  np.vstack(train_glove)\n",
    "print(train_glove.shape)\n"
   ]
  },
  {
   "cell_type": "code",
   "execution_count": 73,
   "metadata": {
    "scrolled": true
   },
   "outputs": [],
   "source": [
    "# for val data\n",
    "\n",
    "val_glove = []\n",
    "for er in tqdm(val_df[\"clean_synopsis\"].values):\n",
    "    val_glove.append(get_glove(er))\n",
    "\n",
    "val_glove =  np.vstack(val_glove)\n",
    "print(val_glove.shape)\n",
    "\n",
    "# for test data\n",
    "\n",
    "test_glove = []\n",
    "for er in tqdm(test_df[\"clean_synopsis\"].values):\n",
    "    test_glove.append(get_glove(er))\n",
    "\n",
    "test_glove =  np.vstack(test_glove)\n",
    "print(test_glove.shape)"
   ]
  },
  {
   "cell_type": "markdown",
   "metadata": {},
   "source": [
    "**Topic Number**"
   ]
  },
  {
   "cell_type": "code",
   "execution_count": 66,
   "metadata": {},
   "outputs": [],
   "source": [
    "train_nmf = nmf.transform(tfidf)\n",
    "dominant_topic = np.argmax(train_nmf, axis=1)\n",
    "\n",
    "val_nmf = nmf.transform(tfidf_vectorizer.transform(val_df[\"clean_synopsis\"].values))\n",
    "val_dominant_topic = np.argmax(val_nmf, axis=1)\n",
    "\n",
    "test_nmf = nmf.transform(tfidf_vectorizer.transform(test_df[\"clean_synopsis\"].values))\n",
    "test_dominant_topic = np.argmax(test_nmf, axis=1)"
   ]
  },
  {
   "cell_type": "code",
   "execution_count": 67,
   "metadata": {},
   "outputs": [
    {
     "name": "stderr",
     "output_type": "stream",
     "text": [
      "C:\\Users\\rdbz3b\\AppData\\Local\\Continuum\\anaconda3\\lib\\site-packages\\sklearn\\utils\\validation.py:595: DataConversionWarning: Data with input dtype int64 was converted to float64 by StandardScaler.\n",
      "  warnings.warn(msg, DataConversionWarning)\n",
      "C:\\Users\\rdbz3b\\AppData\\Local\\Continuum\\anaconda3\\lib\\site-packages\\sklearn\\utils\\validation.py:595: DataConversionWarning: Data with input dtype int64 was converted to float64 by StandardScaler.\n",
      "  warnings.warn(msg, DataConversionWarning)\n",
      "C:\\Users\\rdbz3b\\AppData\\Local\\Continuum\\anaconda3\\lib\\site-packages\\sklearn\\utils\\validation.py:595: DataConversionWarning: Data with input dtype int64 was converted to float64 by StandardScaler.\n",
      "  warnings.warn(msg, DataConversionWarning)\n",
      "C:\\Users\\rdbz3b\\AppData\\Local\\Continuum\\anaconda3\\lib\\site-packages\\sklearn\\utils\\validation.py:595: DataConversionWarning: Data with input dtype int64 was converted to float64 by StandardScaler.\n",
      "  warnings.warn(msg, DataConversionWarning)\n"
     ]
    }
   ],
   "source": [
    "dominant_topic = dominant_topic.reshape((dominant_topic.shape[0],1))\n",
    "val_dominant_topic = val_dominant_topic.reshape((val_dominant_topic.shape[0],1))\n",
    "test_dominant_topic = test_dominant_topic.reshape((test_dominant_topic.shape[0],1))\n",
    "\n",
    "from sklearn.preprocessing import StandardScaler\n",
    "std = StandardScaler().fit(dominant_topic)\n",
    "dominant_topic = std.transform(dominant_topic)\n",
    "test_dominant_topic = std.transform(test_dominant_topic)\n",
    "val_dominant_topic = std.transform(val_dominant_topic)"
   ]
  },
  {
   "cell_type": "markdown",
   "metadata": {},
   "source": [
    "**Model Preperation**\n",
    "\n",
    "\n",
    "tfidf_vector + glove_vector + topic_number ==> Model"
   ]
  },
  {
   "cell_type": "code",
   "execution_count": 68,
   "metadata": {},
   "outputs": [],
   "source": [
    "set2 = hstack((synopsis_tfidf,train_nmf,train_glove,dominant_topic))\n",
    "set2_t = hstack((test_synopsis_tfidf,test_nmf,test_glove,test_dominant_topic))\n",
    "set2_v = hstack((val_synopsis_tfidf,val_nmf,val_glove,val_dominant_topic))"
   ]
  },
  {
   "cell_type": "code",
   "execution_count": 69,
   "metadata": {},
   "outputs": [
    {
     "data": {
      "text/plain": [
       "OneVsRestClassifier(estimator=LogisticRegression(C=120, class_weight=None, dual=False, fit_intercept=True,\n",
       "          intercept_scaling=1, max_iter=100, multi_class='warn',\n",
       "          n_jobs=None, penalty='l2', random_state=None, solver='warn',\n",
       "          tol=0.0001, verbose=0, warm_start=False),\n",
       "          n_jobs=None)"
      ]
     },
     "execution_count": 69,
     "metadata": {},
     "output_type": "execute_result"
    }
   ],
   "source": [
    "from sklearn.linear_model import LogisticRegression\n",
    "\n",
    "# Binary Relevance\n",
    "from sklearn.multiclass import OneVsRestClassifier\n",
    "\n",
    "lr = LogisticRegression()\n",
    "clf = OneVsRestClassifier(lr)\n",
    "\n",
    "param_grid = {\"estimator__C\" :[1,10,80,100,120,1000,10000]}\n",
    "\n",
    "grid = GridSearch(model=clf,param_grid=param_grid)\n",
    "grid.fit(set2,train_multilabel_y,set2_v,val_multilabel_y,scoring='f1_micro')"
   ]
  },
  {
   "cell_type": "code",
   "execution_count": 70,
   "metadata": {},
   "outputs": [
    {
     "name": "stdout",
     "output_type": "stream",
     "text": [
      "{'estimator__C': 120}\n",
      "OneVsRestClassifier(estimator=LogisticRegression(C=120, class_weight=None, dual=False, fit_intercept=True,\n",
      "          intercept_scaling=1, max_iter=100, multi_class='warn',\n",
      "          n_jobs=None, penalty='l2', random_state=None, solver='warn',\n",
      "          tol=0.0001, verbose=0, warm_start=False),\n",
      "          n_jobs=None)\n",
      "============================================================\n",
      "Hamming loss 0.04747704025908655\n",
      "Micro F1 score 0.30346941619060885\n"
     ]
    },
    {
     "name": "stderr",
     "output_type": "stream",
     "text": [
      "C:\\Users\\rdbz3b\\AppData\\Local\\Continuum\\anaconda3\\lib\\site-packages\\sklearn\\metrics\\classification.py:1143: UndefinedMetricWarning: F-score is ill-defined and being set to 0.0 in labels with no predicted samples.\n",
      "  'precision', 'predicted', average, warn_for)\n"
     ]
    },
    {
     "name": "stdout",
     "output_type": "stream",
     "text": [
      "Macro F1 score 0.10088588366936783\n",
      "Accuracy is 0.06102494942683749\n"
     ]
    }
   ],
   "source": [
    "grid_predictions = grid.predict(set2_t)\n",
    "print(grid.best_params)\n",
    "print(grid.best_estimator_)\n",
    "print(\"=\"*60)\n",
    "print(\"Hamming loss {}\".format(metrics.hamming_loss(test_multilabel_y,grid_predictions)))\n",
    "print(\"Micro F1 score {}\".format(metrics.f1_score(test_multilabel_y,grid_predictions, average = 'micro')))\n",
    "print(\"Macro F1 score {}\".format(metrics.f1_score(test_multilabel_y, grid_predictions, average = 'macro')))\n",
    "print(\"Accuracy is {}\".format(metrics.accuracy_score(test_multilabel_y,grid_predictions)))"
   ]
  },
  {
   "cell_type": "code",
   "execution_count": 71,
   "metadata": {},
   "outputs": [
    {
     "data": {
      "text/plain": [
       "Text(0.5, 1.0, 'Best threshold ')"
      ]
     },
     "execution_count": 71,
     "metadata": {},
     "output_type": "execute_result"
    },
    {
     "data": {
      "image/png": "[encoded data removed]",
      "text/plain": [
       "<Figure size 432x288 with 1 Axes>"
      ]
     },
     "metadata": {},
     "output_type": "display_data"
    }
   ],
   "source": [
    "threshold = [0.05,0.1,0.15,0.2,0.3,0.5]\n",
    "f1_micro = []\n",
    "for i in threshold:\n",
    "    y_pred_prob = grid.predict_proba(set2_t)\n",
    "    y_pred_new = (y_pred_prob >= i).astype(int)\n",
    "    f1_micro.append(metrics.f1_score(test_multilabel_y,y_pred_new, average = 'micro'))\n",
    "\n",
    "plt.plot(threshold,f1_micro)\n",
    "plt.xlabel(\"Threshold\")\n",
    "plt.ylabel(\"f1 micro\")\n",
    "plt.title(\"Best threshold \")"
   ]
  },
  {
   "cell_type": "markdown",
   "metadata": {},
   "source": [
    "**Best threshold 0.15**"
   ]
  },
  {
   "cell_type": "code",
   "execution_count": 72,
   "metadata": {},
   "outputs": [
    {
     "name": "stdout",
     "output_type": "stream",
     "text": [
      "Hamming loss 0.06142383634239693\n",
      "Micro F1 score 0.33941065318420915\n",
      "Macro F1 score 0.14454684643064483\n",
      "Accuracy is 0.031018206338503034\n"
     ]
    }
   ],
   "source": [
    "y_pred_prob = grid.predict_proba(set2_t)\n",
    "y_pred_new = (y_pred_prob >= 0.15).astype(int)\n",
    "print(\"Hamming loss {}\".format(metrics.hamming_loss(test_multilabel_y,y_pred_new)))\n",
    "print(\"Micro F1 score {}\".format(metrics.f1_score(test_multilabel_y,y_pred_new, average = 'micro')))\n",
    "print(\"Macro F1 score {}\".format(metrics.f1_score(test_multilabel_y, y_pred_new, average = 'macro')))\n",
    "print(\"Accuracy is {}\".format(metrics.accuracy_score(test_multilabel_y,y_pred_new)))"
   ]
  },
  {
   "cell_type": "markdown",
   "metadata": {
    "colab_type": "text",
    "id": "f39-GwcZ86_2"
   },
   "source": [
    "### 6. Topic Modelling using SKlearn"
   ]
  },
  {
   "cell_type": "markdown",
   "metadata": {},
   "source": [
    "**Feature engineering using topic modelling**"
   ]
  },
  {
   "cell_type": "code",
   "execution_count": 94,
   "metadata": {
    "colab": {
     "base_uri": "https://localhost:8080/",
     "height": 51
    },
    "colab_type": "code",
    "id": "Y4G6SPtY86bp",
    "outputId": "f826549e-5579-4d6c-8fdc-4e4cff53fa8b"
   },
   "outputs": [
    {
     "data": {
      "text/plain": [
       "<9489x10000 sparse matrix of type '<class 'numpy.float64'>'\n",
       "\twith 2245197 stored elements in Compressed Sparse Row format>"
      ]
     },
     "execution_count": 94,
     "metadata": {},
     "output_type": "execute_result"
    }
   ],
   "source": [
    "doc_term_matrix"
   ]
  },
  {
   "cell_type": "code",
   "execution_count": 95,
   "metadata": {
    "colab": {
     "base_uri": "https://localhost:8080/",
     "height": 136
    },
    "colab_type": "code",
    "id": "N2ZvpesC86Wf",
    "outputId": "86825a6b-5184-4bab-c2e3-7614f685b7fc"
   },
   "outputs": [
    {
     "data": {
      "text/plain": [
       "LatentDirichletAllocation(batch_size=128, doc_topic_prior=None,\n",
       "             evaluate_every=-1, learning_decay=0.7,\n",
       "             learning_method='batch', learning_offset=10.0,\n",
       "             max_doc_update_iter=100, max_iter=10, mean_change_tol=0.001,\n",
       "             n_components=10, n_jobs=None, n_topics=None, perp_tol=0.1,\n",
       "             random_state=42, topic_word_prior=None,\n",
       "             total_samples=1000000.0, verbose=0)"
      ]
     },
     "execution_count": 95,
     "metadata": {},
     "output_type": "execute_result"
    }
   ],
   "source": [
    "from sklearn.decomposition import LatentDirichletAllocation\n",
    "\n",
    "LDA = LatentDirichletAllocation(n_components=10, random_state=42)  \n",
    "LDA.fit(doc_term_matrix)  "
   ]
  },
  {
   "cell_type": "markdown",
   "metadata": {
    "colab_type": "text",
    "id": "3w9ssz6K3JbW"
   },
   "source": [
    "**Top 20 topics found**"
   ]
  },
  {
   "cell_type": "code",
   "execution_count": 96,
   "metadata": {
    "colab": {
     "base_uri": "https://localhost:8080/",
     "height": 1377
    },
    "colab_type": "code",
    "id": "rqaVc6ZT0JU9",
    "outputId": "45cf2d21-5a20-4d16-9f81-5cdbdc65e864"
   },
   "outputs": [
    {
     "name": "stdout",
     "output_type": "stream",
     "text": [
      "Top 10 words for topic #0:\n",
      "['new', 'time', 'home', 'film', 'family', 'police', 'house', 'father', 'tells', 'man']\n",
      "\n",
      "\n",
      "Top 10 words for topic #1:\n",
      "['heathcliff', 'sir henry', 'alejandro', 'wee', 'axel', 'skye', 'zane', 'riddick', 'hanna', 'nate']\n",
      "\n",
      "\n",
      "Top 10 words for topic #2:\n",
      "['rambo', 'macbeth', 'vinny', 'lizzie', 'pooja', 'elmer', 'goku', 'porky', 'daffy', 'bugs']\n",
      "\n",
      "\n",
      "Top 10 words for topic #3:\n",
      "['turtles', 'charlie', 'sal', 'vijay', 'malik', 'snoopy', 'charlie brown', 'hercules', 'linus', 'ravi']\n",
      "\n",
      "\n",
      "Top 10 words for topic #4:\n",
      "['biff', 'brandi', 'nic', 'giorgio', 'kabir', 'gant', 'susanna', 'snow', 'tex', 'snow white']\n",
      "\n",
      "\n",
      "Top 10 words for topic #5:\n",
      "['jai', 'ripley', 'kirk', 'cinderella', 'pakistan', 'spider man', 'joker', 'charley', 'superman', 'batman']\n",
      "\n",
      "\n",
      "Top 10 words for topic #6:\n",
      "['milady', 'lilith', 'richelieu', 'musketeers', 'artagnan', 'que', 'van helsing', 'helsing', 'holmes', 'dracula']\n",
      "\n",
      "\n",
      "Top 10 words for topic #7:\n",
      "['killjoy', 'iago', 'bosko', 'attila', 'elwood', 'nemo', 'poe', 'phoebe', 'scrooge', 'godzilla']\n",
      "\n",
      "\n",
      "Top 10 words for topic #8:\n",
      "['rajesh', 'lina', 'juliet', 'mattie', 'sinbad', 'rajiv', 'brutus', 'antony', 'romeo', 'caesar']\n",
      "\n",
      "\n",
      "Top 10 words for topic #9:\n",
      "['gretel', 'scamboli', 'megatron', 'rajveer', 'meera', 'hansel', 'hamlet', 'scooby', 'pinocchio', 'ajay']\n",
      "\n",
      "\n"
     ]
    }
   ],
   "source": [
    "for i,topic in enumerate(LDA.components_):  \n",
    "    print(f'Top 10 words for topic #{i}:')\n",
    "    print([tfidf.get_feature_names()[i] for i in topic.argsort()[-10:]])\n",
    "    print('\\n')"
   ]
  },
  {
   "cell_type": "code",
   "execution_count": 97,
   "metadata": {
    "colab": {},
    "colab_type": "code",
    "id": "6ZbU_NPA0jIu"
   },
   "outputs": [],
   "source": [
    "topic_values = LDA.transform(doc_term_matrix)  "
   ]
  },
  {
   "cell_type": "markdown",
   "metadata": {
    "colab_type": "text",
    "id": "NR8XFz3r3SvW"
   },
   "source": [
    "**Model Preperation**"
   ]
  },
  {
   "cell_type": "markdown",
   "metadata": {
    "colab_type": "text",
    "id": "tNrrKliF1AKl"
   },
   "source": [
    "Transforming test and cv data"
   ]
  },
  {
   "cell_type": "code",
   "execution_count": 98,
   "metadata": {
    "colab": {},
    "colab_type": "code",
    "id": "deWh3LQm03Ju"
   },
   "outputs": [],
   "source": [
    "test_doc_term_matrix = tfidf.transform(test_df[\"clean_synopsis\"].values)\n",
    "val_doc_term_matrix = tfidf.transform(val_df[\"clean_synopsis\"].values)"
   ]
  },
  {
   "cell_type": "code",
   "execution_count": 99,
   "metadata": {
    "colab": {},
    "colab_type": "code",
    "id": "xg003Rem03Gi"
   },
   "outputs": [
    {
     "name": "stdout",
     "output_type": "stream",
     "text": [
      "(9489, 10)\n",
      "(2966, 10)\n",
      "(2373, 10)\n"
     ]
    }
   ],
   "source": [
    "test_topic_values = LDA.transform(test_doc_term_matrix)  \n",
    "val_topic_values = LDA.transform(val_doc_term_matrix)  \n",
    "\n",
    "print(topic_values.shape)\n",
    "print(test_topic_values.shape)\n",
    "print(val_topic_values.shape)"
   ]
  },
  {
   "cell_type": "code",
   "execution_count": 100,
   "metadata": {
    "colab": {},
    "colab_type": "code",
    "id": "VVOY4eXZ00nM"
   },
   "outputs": [],
   "source": [
    "#set2 = hstack((title_tfidf,synopsis_tfidf,topic_values))\n",
    "#set2_t = hstack((test_title_tfidf,test_synopsis_tfidf,test_topic_values))\n",
    "#set2_v = hstack((val_title_tfidf,val_synopsis_tfidf,val_topic_values))\n",
    "\n",
    "set2 = hstack((synopsis_tfidf,topic_values))\n",
    "set2_t = hstack((test_synopsis_tfidf,test_topic_values))\n",
    "set2_v = hstack((val_synopsis_tfidf,val_topic_values))"
   ]
  },
  {
   "cell_type": "code",
   "execution_count": 101,
   "metadata": {},
   "outputs": [
    {
     "name": "stdout",
     "output_type": "stream",
     "text": [
      "(9489, 10010) (9489, 71)\n",
      "(2966, 10010) (2966, 71)\n",
      "(2373, 10010) (2373, 71)\n"
     ]
    }
   ],
   "source": [
    "print(set2.shape,train_multilabel_y.shape)\n",
    "print(set2_t.shape,test_multilabel_y.shape)\n",
    "print(set2_v.shape,val_multilabel_y.shape)"
   ]
  },
  {
   "cell_type": "code",
   "execution_count": 102,
   "metadata": {},
   "outputs": [
    {
     "data": {
      "text/plain": [
       "OneVsRestClassifier(estimator=LogisticRegression(C=100, class_weight=None, dual=False, fit_intercept=True,\n",
       "          intercept_scaling=1, max_iter=100, multi_class='warn',\n",
       "          n_jobs=None, penalty='l2', random_state=None, solver='warn',\n",
       "          tol=0.0001, verbose=0, warm_start=False),\n",
       "          n_jobs=None)"
      ]
     },
     "execution_count": 102,
     "metadata": {},
     "output_type": "execute_result"
    }
   ],
   "source": [
    "lr = LogisticRegression()\n",
    "clf = OneVsRestClassifier(lr)\n",
    "\n",
    "param_grid = {\"estimator__C\" :[1,10,100,1000,10000]}\n",
    "\n",
    "grid = GridSearch(model=clf,param_grid=param_grid)\n",
    "grid.fit(set2,train_multilabel_y,set2_v,val_multilabel_y,scoring='f1_micro')"
   ]
  },
  {
   "cell_type": "code",
   "execution_count": 103,
   "metadata": {
    "colab": {
     "base_uri": "https://localhost:8080/",
     "height": 408
    },
    "colab_type": "code",
    "id": "jcI93Zhm1fTA",
    "outputId": "c84c4ff9-005c-4176-8473-6d2a84914272"
   },
   "outputs": [
    {
     "name": "stdout",
     "output_type": "stream",
     "text": [
      "{'estimator__C': 100}\n",
      "OneVsRestClassifier(estimator=LogisticRegression(C=100, class_weight=None, dual=False, fit_intercept=True,\n",
      "          intercept_scaling=1, max_iter=100, multi_class='warn',\n",
      "          n_jobs=None, penalty='l2', random_state=None, solver='warn',\n",
      "          tol=0.0001, verbose=0, warm_start=False),\n",
      "          n_jobs=None)\n",
      "============================================================\n",
      "Hamming loss 0.04699742622966389\n",
      "Micro F1 score 0.3059120555438671\n",
      "Macro F1 score 0.10271829536037799\n",
      "Accuracy is 0.06035064059339177\n"
     ]
    }
   ],
   "source": [
    "grid_predictions = grid.predict(set2_t)\n",
    "print(grid.best_params)\n",
    "print(grid.best_estimator_)\n",
    "print(\"=\"*60)\n",
    "print(\"Hamming loss {}\".format(metrics.hamming_loss(test_multilabel_y,grid_predictions)))\n",
    "print(\"Micro F1 score {}\".format(metrics.f1_score(test_multilabel_y,grid_predictions, average = 'micro')))\n",
    "print(\"Macro F1 score {}\".format(metrics.f1_score(test_multilabel_y, grid_predictions, average = 'macro')))\n",
    "print(\"Accuracy is {}\".format(metrics.accuracy_score(test_multilabel_y,grid_predictions)))"
   ]
  },
  {
   "cell_type": "code",
   "execution_count": 104,
   "metadata": {},
   "outputs": [
    {
     "data": {
      "text/plain": [
       "Text(0.5, 1.0, 'Best threshold ')"
      ]
     },
     "execution_count": 104,
     "metadata": {},
     "output_type": "execute_result"
    },
    {
     "data": {
      "image/png": "[encoded data removed]",
      "text/plain": [
       "<Figure size 432x288 with 1 Axes>"
      ]
     },
     "metadata": {},
     "output_type": "display_data"
    }
   ],
   "source": [
    "threshold = [0.05,0.1,0.15,0.2,0.3,0.5]\n",
    "f1_micro = []\n",
    "for i in threshold:\n",
    "    y_pred_prob = grid.predict_proba(set2_t)\n",
    "    y_pred_new = (y_pred_prob >= i).astype(int)\n",
    "    f1_micro.append(metrics.f1_score(test_multilabel_y,y_pred_new, average = 'micro'))\n",
    "\n",
    "plt.plot(threshold,f1_micro)\n",
    "plt.xlabel(\"Threshold\")\n",
    "plt.ylabel(\"f1 micro\")\n",
    "plt.title(\"Best threshold \")"
   ]
  },
  {
   "cell_type": "markdown",
   "metadata": {},
   "source": [
    "**Best threshold 0.15**"
   ]
  },
  {
   "cell_type": "code",
   "execution_count": 105,
   "metadata": {},
   "outputs": [
    {
     "name": "stdout",
     "output_type": "stream",
     "text": [
      "Hamming loss 0.06160428518515001\n",
      "Micro F1 score 0.3420398640766851\n",
      "Macro F1 score 0.14548383480226829\n",
      "Accuracy is 0.03236682400539447\n"
     ]
    }
   ],
   "source": [
    "y_pred_prob = grid.predict_proba(set2_t)\n",
    "y_pred_new = (y_pred_prob >= 0.15).astype(int)\n",
    "print(\"Hamming loss {}\".format(metrics.hamming_loss(test_multilabel_y,y_pred_new)))\n",
    "print(\"Micro F1 score {}\".format(metrics.f1_score(test_multilabel_y,y_pred_new, average = 'micro')))\n",
    "print(\"Macro F1 score {}\".format(metrics.f1_score(test_multilabel_y, y_pred_new, average = 'macro')))\n",
    "print(\"Accuracy is {}\".format(metrics.accuracy_score(test_multilabel_y,y_pred_new)))"
   ]
  },
  {
   "cell_type": "markdown",
   "metadata": {},
   "source": [
    "- Best score of 0.342 is obtined when threshold is changed form 0.5 to 0.15.\n",
    "- By dropping title increase in micro_f1 score found."
   ]
  },
  {
   "cell_type": "markdown",
   "metadata": {},
   "source": [
    "### Inferance"
   ]
  },
  {
   "cell_type": "code",
   "execution_count": 108,
   "metadata": {},
   "outputs": [],
   "source": [
    "def pre_process(sentance):\n",
    "    sent = decontracted(sentance)\n",
    "    sent = sent.replace('\\\\r', ' ')\n",
    "    sent = sent.replace('\\\\\"', ' ')\n",
    "    sent = sent.replace('\\\\n', ' ')\n",
    "    sent = re.sub('[^A-Za-z0-9]+', ' ', sent)\n",
    "    # https://gist.github.com/sebleier/554280\n",
    "    sent = ' '.join(e for e in sent.split() if e not in stop_words)\n",
    "    return sent.lower()\n",
    "\n",
    "def predict_tag(plot,title = \"\",threshold = 1.5):\n",
    "    \"\"\"\n",
    "    This funtion considers only tfidf vectorization because best performance was observed in that.\n",
    "    Passing movie plot is compulsary.\n",
    "    \n",
    "    \"\"\"\n",
    "    plot = pre_process(plot)\n",
    "    title = pre_process(title)\n",
    "    plot = [w for w in plot.split() if not w in stop_words]\n",
    "    plot = \" \".join(plot)\n",
    "    plot_topic = LDA.transform(tfidf.transform([plot]))\n",
    "    set_ = hstack((tfidf_vectorizer.transform([plot]),plot_topic))\n",
    "    y_ = grid.predict_proba(set_)\n",
    "    y_new = (y_ >= threshold).astype(int)\n",
    "    return multilabel_binarizer.inverse_transform(y_new)"
   ]
  },
  {
   "cell_type": "markdown",
   "metadata": {},
   "source": [
    "**Lets do some inferance to check what the f1 score of 0.342 means practically**"
   ]
  },
  {
   "cell_type": "markdown",
   "metadata": {},
   "source": [
    "#### 1. Frozen 2 \n",
    "Actual tags Drama/Fantasy"
   ]
  },
  {
   "cell_type": "code",
   "execution_count": 109,
   "metadata": {},
   "outputs": [
    {
     "data": {
      "text/plain": [
       "[('fantasy', 'psychedelic')]"
      ]
     },
     "execution_count": 109,
     "metadata": {},
     "output_type": "execute_result"
    }
   ],
   "source": [
    "plot = \"\"\"\n",
    "    Elsa the Snow Queen and her sister Anna embark on an adventure far away from the kingdom of Arendelle. They are joined by friends, Kristoff, Olaf, and Sven.\n",
    "        \"\"\"\n",
    "predict_tag(plot,threshold=0.15)"
   ]
  },
  {
   "cell_type": "markdown",
   "metadata": {},
   "source": [
    "#### 2. The Conjuring 2\n",
    "Actual Tags : Mystery/Thriller"
   ]
  },
  {
   "cell_type": "code",
   "execution_count": 111,
   "metadata": {},
   "outputs": [
    {
     "data": {
      "text/plain": [
       "[('murder', 'paranormal', 'psychedelic')]"
      ]
     },
     "execution_count": 111,
     "metadata": {},
     "output_type": "execute_result"
    }
   ],
   "source": [
    "plot = \"\"\"\n",
    "        A single mother seeks the help of occult investigators Ed and Lorraine Warren when she and her children witness strange,\n",
    "        paranormal events in their house.\n",
    "        \"\"\"\n",
    "predict_tag(plot,threshold=0.15)"
   ]
  },
  {
   "cell_type": "markdown",
   "metadata": {},
   "source": [
    "#### 3. The Godfather\n",
    "Actual tags: Drama/Crime"
   ]
  },
  {
   "cell_type": "code",
   "execution_count": 112,
   "metadata": {},
   "outputs": [
    {
     "data": {
      "text/plain": [
       "[('murder', 'revenge', 'tragedy', 'violence')]"
      ]
     },
     "execution_count": 112,
     "metadata": {},
     "output_type": "execute_result"
    }
   ],
   "source": [
    "plot = \"\"\"\n",
    "        Don Vito Corleone, head of a mafia family, decides to hand over his empire to his youngest son Michael. \n",
    "        However, his decision unintentionally puts the lives of his loved ones in grave danger.\n",
    "        \"\"\"\n",
    "predict_tag(plot,threshold=0.15)"
   ]
  },
  {
   "cell_type": "markdown",
   "metadata": {
    "colab_type": "text",
    "id": "Zj-VqbS4OvnU"
   },
   "source": [
    "### Observations: \n",
    "======================\n",
    "\n",
    "1. TFIDF is found to be best vectorizer among all.\n",
    "2. Best **micro f1 score** was found in case of **Logistic Regression wiht topic modelling of 0.342**\n",
    "3. On EDA, it is found that 50% of plot synopsis have tags less than 2\n",
    "4. **Increase in f1 score** found when change threshold was changed from 0.5 to lower values. this is expected as most of the probabilities values are smaller.\n",
    "5. During Inferance most of the tags predicted were correct as per source on internet.\n",
    "6. Performance can be improoved further with more data points."
   ]
  },
  {
   "cell_type": "markdown",
   "metadata": {
    "colab_type": "text",
    "id": "3PnjUdppOvnV"
   },
   "source": [
    "### Summary:\n",
    "================="
   ]
  },
  {
   "cell_type": "code",
   "execution_count": 77,
   "metadata": {
    "colab": {},
    "colab_type": "code",
    "id": "DloqjOxdOvnX"
   },
   "outputs": [],
   "source": [
    "from prettytable import PrettyTable\n",
    "summary = PrettyTable()"
   ]
  },
  {
   "cell_type": "code",
   "execution_count": 78,
   "metadata": {
    "colab": {},
    "colab_type": "code",
    "id": "GHGcMyo6OvnY"
   },
   "outputs": [],
   "source": [
    "summary.field_names = [\"Model\", \"Vectorizer\",\"Threshold\",\"Hamming Loss\",\"micro f1 score\",\"macro f1 score\",\"Accuracy\"]\n",
    "summary.add_row([\"Multilabel kNN\",\"TFIDF Vectorizer\",0.5,0.046,0.201,0.061,0.048])\n",
    "summary.add_row([\"LR (ovr)\",\"TFIDF Vectorizer\",0.5,0.048,0.294,0.114,0.057])\n",
    "summary.add_row([\"LR (ovr)\",\"Count Vectorizer\",0.5,0.062,0.276,0.126,0.029])\n",
    "summary.add_row([\"LR (ovr)\",\"Avg-w2v\",0.5,0.060,0.259,0.110,0.031])\n",
    "summary.add_row([\"LR (ovr)\",\"TFIDF-w2v\",0.5,0.066,0.199,0.085,0.0168])\n",
    "summary.add_row([\"Lr. SVM(ovr)\",\"TFIDF Vectorizer\",0.5,0.050,0.294,0.121,0.047])\n",
    "summary.add_row([\"Lr. SVM(ovr)\",\"Count Vectorizer\",0.5,0.062,0.289,0.121,0.027])\n",
    "summary.add_row([\"Lr. SVM(ovr)\",\"Avg-w2v\",0.5,0.064,0.291,0.082,0.009])\n",
    "summary.add_row([\"Lr. SVM(ovr)\",\"tfidf-w2v\",0.5,0.061,0.262,0.083,0.015])\n",
    "summary.add_row([\"Logistic Regression\",\"tfidf\",0.5,0.047,0.300,0.114,0.058])\n",
    "summary.add_row([\"Logistic Regression\",\"tfidf\",0.1,0.058,0.332,0.147,0.035])\n",
    "\n",
    "summary.add_row([\"Topic Modelling(NMF)\",\"TFIDF+Glove+Topic_number\",0.15,0.06,0.339,0.144,0.031])\n",
    "summary.add_row([\"Topic Modelling(sklearn)\",\"TFIDF Vectorizer\",0.5,0.046,0.305,0.102,0.060])\n",
    "summary.add_row([\"Topic Modelling(sklearn)\",\"TFIDF Vectorizer\",0.15,0.061,0.342,0.145,0.032])\n"
   ]
  },
  {
   "cell_type": "code",
   "execution_count": 79,
   "metadata": {
    "colab": {
     "base_uri": "https://localhost:8080/",
     "height": 187
    },
    "colab_type": "code",
    "id": "9ZHtWFd6Ovna",
    "outputId": "7192c371-51b6-4530-c745-25978d1c9df9"
   },
   "outputs": [
    {
     "name": "stdout",
     "output_type": "stream",
     "text": [
      "+--------------------------+--------------------------+-----------+--------------+----------------+----------------+----------+\n",
      "|          Model           |        Vectorizer        | Threshold | Hamming Loss | micro f1 score | macro f1 score | Accuracy |\n",
      "+--------------------------+--------------------------+-----------+--------------+----------------+----------------+----------+\n",
      "|      Multilabel kNN      |     TFIDF Vectorizer     |    0.5    |    0.046     |     0.201      |     0.061      |  0.048   |\n",
      "|         LR (ovr)         |     TFIDF Vectorizer     |    0.5    |    0.048     |     0.294      |     0.114      |  0.057   |\n",
      "|         LR (ovr)         |     Count Vectorizer     |    0.5    |    0.062     |     0.276      |     0.126      |  0.029   |\n",
      "|         LR (ovr)         |         Avg-w2v          |    0.5    |     0.06     |     0.259      |      0.11      |  0.031   |\n",
      "|         LR (ovr)         |        TFIDF-w2v         |    0.5    |    0.066     |     0.199      |     0.085      |  0.0168  |\n",
      "|       Lr. SVM(ovr)       |     TFIDF Vectorizer     |    0.5    |     0.05     |     0.294      |     0.121      |  0.047   |\n",
      "|       Lr. SVM(ovr)       |     Count Vectorizer     |    0.5    |    0.062     |     0.289      |     0.121      |  0.027   |\n",
      "|       Lr. SVM(ovr)       |         Avg-w2v          |    0.5    |    0.064     |     0.291      |     0.082      |  0.009   |\n",
      "|       Lr. SVM(ovr)       |        tfidf-w2v         |    0.5    |    0.061     |     0.262      |     0.083      |  0.015   |\n",
      "|   Logistic Regression    |          tfidf           |    0.5    |    0.047     |      0.3       |     0.114      |  0.058   |\n",
      "|   Logistic Regression    |          tfidf           |    0.1    |    0.058     |     0.332      |     0.147      |  0.035   |\n",
      "|   Topic Modelling(NMF)   | TFIDF+Glove+Topic_number |    0.15   |     0.06     |     0.339      |     0.144      |  0.031   |\n",
      "| Topic Modelling(sklearn) |     TFIDF Vectorizer     |    0.5    |    0.046     |     0.305      |     0.102      |   0.06   |\n",
      "| Topic Modelling(sklearn) |     TFIDF Vectorizer     |    0.15   |    0.061     |     0.342      |     0.145      |  0.032   |\n",
      "+--------------------------+--------------------------+-----------+--------------+----------------+----------------+----------+\n"
     ]
    }
   ],
   "source": [
    "print(summary)"
   ]
  },
  {
   "cell_type": "markdown",
   "metadata": {
    "colab_type": "text",
    "id": "3YQb0kGIOvnb"
   },
   "source": [
    "### Case Study Flow:\n",
    "=========================\n",
    "\n",
    "1. Objective of the case study was to predict the tags for given movie plot synopsis\n",
    "2. The dataset was obtained from Kaggle. It contains imdb_id,title, plot_synopsis , tags , split and synopsis_source as features.\n",
    "3. **Plot_synopsis and title** are the two most important features found.\n",
    "4. Data cleaning and preprocesssing was done on title and plot_synopsis.\n",
    "5. On EDA, it was found that on an avg. 3 tags are present per movie.\n",
    "6. Only 1% of tags have length more than 14.\n",
    "7. Murder, violance followed by flashback are some of the most occuring tags respectively.\n",
    "8. Total number of **71 unique tags** found.\n",
    "9. Various machine learning models were tried and tested with OvR classifier to get the best results.\n",
    "10. **Logistic regression with Topic modelling** gave best accuracy best **micro f1 score.**\n",
    "11. Minimum hamming loss was found in case of Multilabel KNN."
   ]
  },
  {
   "cell_type": "code",
   "execution_count": 0,
   "metadata": {
    "colab": {},
    "colab_type": "code",
    "id": "XtyMq4knOvnc"
   },
   "outputs": [],
   "source": []
  }
 ],
 "metadata": {
  "colab": {
   "collapsed_sections": [
    "2KiwHJsiO2RI",
    "mrxaE0dzO2RS",
    "TyixVRnzO2Rc",
    "Cqydi88LO2Rh",
    "-HP4atjpO2Rx",
    "3wLmdS6mci87"
   ],
   "name": "Copy of ML_case_study.ipynb",
   "provenance": [],
   "version": "0.3.2"
  },
  "kernelspec": {
   "display_name": "Python 3",
   "language": "python",
   "name": "python3"
  },
  "language_info": {
   "codemirror_mode": {
    "name": "ipython",
    "version": 3
   },
   "file_extension": ".py",
   "mimetype": "text/x-python",
   "name": "python",
   "nbconvert_exporter": "python",
   "pygments_lexer": "ipython3",
   "version": "3.7.3"
  }
 },
 "nbformat": 4,
 "nbformat_minor": 1
}
